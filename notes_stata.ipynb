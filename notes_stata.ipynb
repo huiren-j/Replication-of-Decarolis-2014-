{
 "cells": [
  {
   "cell_type": "markdown",
   "metadata": {},
   "source": [
    "**File Overview**\n",
    "\n",
    "*Contents*\n",
    "* descriptive\n",
    "* main (areg) 2&3\n",
    "* controls (areg)\n",
    "* sample (areg) (table6)\n",
    "  \n",
    "*Appendix*\n",
    "* controls_reweighting(table5)\n",
    "* main_taberconley_controls\n",
    "  \n",
    "*Appendix_IE*\n",
    "* probit\n",
    "* telemat"
   ]
  },
  {
   "cell_type": "markdown",
   "metadata": {},
   "source": [
    "1. areg = Linear regression with a large dummy variable set  \n",
    "fe_name = <fe_var>; fixed effect\n",
    "https://www.stata.com/manuals13/rareg.pdf"
   ]
  },
  {
   "cell_type": "markdown",
   "metadata": {},
   "source": [
    "2. substr(s, b, l) returns the substring of s starting at position b and continuing for a length of l  \n",
    "https://www.stata.com/manuals13/m-5substr.pdf  \n",
    "e.g. substr(work_category,1,2)=='OG'\n",
    "means count from the first digit to the second digit of 'work_category' value"
   ]
  },
  {
   "cell_type": "markdown",
   "metadata": {},
   "source": [
    "**comparison stata with python**  \n",
    "https://pandas.pydata.org/docs/getting_started/comparison/comparison_with_stata.html"
   ]
  },
  {
   "cell_type": "markdown",
   "metadata": {},
   "source": [
    "**STATA CODE**  \n",
    "\n",
    "sort authority_code  \n",
    "egen id_auth=group(authority_code)  \n",
    "replace id_auth=. if authority_code==.  \n",
    "//tab id_auth, gen(id_auth)  #make a table of id_auth named id_auth\n",
    "sum id_auth  \n",
    "\n",
    "forvalue i=1(1)`r(max)' {  \n",
    "gen trend_pa_`i'=0  \n",
    "replace trend_pa_`i'=trend if id_auth`i'==1  \n",
    "replace trend_pa_`i'=0 if authority_code==3090272 | authority_code==3070001   \n",
    "\n",
    "drop id_auth`i'  \n",
    "}  \n",
    "\n",
    "forvalue : loop for consecutive numbers\n",
    "i = 1(1)'r(max)' : from 1 to max jumping 1 scale \n",
    "r(max) = max() in python"
   ]
  },
  {
   "cell_type": "markdown",
   "metadata": {},
   "source": [
    "data type of column of dataframe = Series; function =.command() (?)not sure"
   ]
  },
  {
   "cell_type": "markdown",
   "metadata": {},
   "source": [
    "3. forvalue  \n",
    "https://www.stata.com/manuals13/pforvalues.pdf"
   ]
  },
  {
   "cell_type": "markdown",
   "metadata": {},
   "source": [
    "4. df.loc[indexnumber] = extract row  \n",
    "df.iloc[rownumber]  \n",
    "df.loc[idx,:] all column by certain index  \n",
    "df.loc[[idx set],[column set]] to extract certain cell  "
   ]
  },
  {
   "cell_type": "markdown",
   "metadata": {},
   "source": [
    "5. areg  \n",
    "https://www.stata.com/manuals13/rareg.pdf"
   ]
  },
  {
   "cell_type": "markdown",
   "metadata": {},
   "source": [
    "6. local\n",
    "local macroname macromeaning  \n",
    "ex) local problem \"2+2\" ; print(problem) = 2+2  \n",
    "local result 2+2; print(result) = 4\n",
    "\n",
    "* disply: dis `localname'"
   ]
  },
  {
   "cell_type": "markdown",
   "metadata": {},
   "source": [
    "7. 어떤 알파벳이 변수면 ''를 붙여줌  \n",
    "ex) year_'i' 이면 i는 글자가 아니라 변수임/ i.year이면 i는 문자 그대로임"
   ]
  },
  {
   "cell_type": "markdown",
   "metadata": {},
   "source": [
    "# Table 2"
   ]
  },
  {
   "cell_type": "markdown",
   "metadata": {},
   "source": [
    "vce(cluster auth_anno)\n",
    ":vce type is cluster"
   ]
  },
  {
   "cell_type": "markdown",
   "metadata": {},
   "source": [
    "* extension candi\n",
    "1) dep var별로 회귀식 그래프로 나타내기\n",
    "2) fixed effect 뭔지 알아보기 -princeton pdf 참고"
   ]
  },
  {
   "cell_type": "markdown",
   "metadata": {},
   "source": [
    "* xi: areg `o' fpsb_auction  i.year if `t'==1 & ctrl_exp_`t'==1 & post_experience>=`i' & pre_experience>=`i' & post_experience!=. & pre_experience!=. & missing==0, absorb(authority_code) vce(cluster auth_anno)  \n",
    "> local treatment \"turin_co_sample turin_pr_sample\"  \n",
    "> foreach t in `treatment'  \n",
    "\n",
    "t= letter = turin_co_sample or turin_pr_sample  \n",
    "i.year = fixed effect of time  \n",
    "turin_co/turin_pr value = 1 or NaN  \n",
    "ctrl_exp_t = 1 or 0  "
   ]
  },
  {
   "cell_type": "markdown",
   "metadata": {},
   "source": [
    "* basic pannel data commdand in STATA  \n",
    "http://www.montana.edu/cstoddard/562/panelcommands.pdf"
   ]
  },
  {
   "cell_type": "markdown",
   "metadata": {},
   "source": [
    "outreg 표형태로 불러오는 거\n",
    "robust std error\n",
    "extension: 한국 데이터로 해보는 거, fixed"
   ]
  },
  {
   "cell_type": "markdown",
   "metadata": {},
   "source": [
    "* regression no.3 PanelOLS  \n",
    "!pip install linearmodels  \n",
    "from linearmodels import PanelOLS  \n",
    "exog_vars = ['fpsb_auction','_Iyear_2001','_Iyear_2002','_Iyear_2003','_Iyear_2004','_Iyear_2005','_Iyear_2006','_Iyear_2007','_Iyear_2008','_Iyear_2009','_Iyear_2010']  \n",
    "dis = df_reg_dis['discount']  \n",
    "exog = sm.add_constant(df_reg_dis[exog_vars])  \n",
    "mod = PanelOLS(dis, exog, entity_effects=True)  \n",
    "fe_res = mod.fit()  \n",
    "print(fe_res)  \n",
    "#y variable syntax error"
   ]
  },
  {
   "cell_type": "markdown",
   "metadata": {},
   "source": [
    "* multicollinearity  \n",
    "https://www.analyticsvidhya.com/blog/2020/03/what-is-multicollinearity/"
   ]
  },
  {
   "cell_type": "markdown",
   "metadata": {},
   "source": [
    "* VCE: to change standard error calculation method  \n",
    "vce(cluster [cluster variable]): to negate the need for independent observations, requiring only that from cluster to cluster the observations are independent."
   ]
  },
  {
   "cell_type": "markdown",
   "metadata": {},
   "source": [
    "fixed effect regression  \n",
    "https://blog.naver.com/ibuyworld/110156206397"
   ]
  },
  {
   "cell_type": "markdown",
   "metadata": {},
   "source": [
    "8. table2 col2  \n",
    "sm.ols Error:Pandas data cast to numpy dtype of object. Check input data with np.asarray(data).\n",
    "->x.astype(float)"
   ]
  },
  {
   "cell_type": "markdown",
   "metadata": {},
   "source": [
    "# Table 3  \n",
    "* Econtools  \n",
    "http://www.danielmsullivan.com/econtools/"
   ]
  },
  {
   "cell_type": "markdown",
   "metadata": {},
   "source": [
    "* col6가 areg 완성본임 다른 table들도 돌릴 수 있음 아마"
   ]
  },
  {
   "cell_type": "markdown",
   "metadata": {},
   "source": [
    "# Table 4"
   ]
  },
  {
   "cell_type": "markdown",
   "metadata": {},
   "source": [
    "* testparm: provides a useful alternative to test that permits varlist rather than a list of coefficient  \n",
    "https://www.stata.com/manuals13/rtest.pdf"
   ]
  },
  {
   "cell_type": "markdown",
   "metadata": {},
   "source": [
    "0702 memo  \n",
    "* tbc ; table5(ctrl_exp) and table7\n",
    "* tab 6 col 4,5,6,7,(dum) check"
   ]
  },
  {
   "cell_type": "code",
   "execution_count": null,
   "metadata": {},
   "outputs": [],
   "source": []
  }
 ],
 "metadata": {
  "kernelspec": {
   "display_name": "Python 3",
   "language": "python",
   "name": "python3"
  },
  "language_info": {
   "codemirror_mode": {
    "name": "ipython",
    "version": 3
   },
   "file_extension": ".py",
   "mimetype": "text/x-python",
   "name": "python",
   "nbconvert_exporter": "python",
   "pygments_lexer": "ipython3",
   "version": "3.7.6"
  }
 },
 "nbformat": 4,
 "nbformat_minor": 4
}
