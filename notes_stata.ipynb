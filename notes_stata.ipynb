{
 "cells": [
  {
   "cell_type": "markdown",
   "metadata": {},
   "source": [
    "1. areg = Linear regression with a large dummy variable set  \n",
    "https://www.stata.com/manuals13/rareg.pdf"
   ]
  },
  {
   "cell_type": "markdown",
   "metadata": {},
   "source": [
    "2. substr(s, b, l) returns the substring of s starting at position b and continuing for a length of l  \n",
    "https://www.stata.com/manuals13/m-5substr.pdf  \n",
    "e.g. substr(work_category,1,2)=='OG'\n",
    "means count from the first digit to the second digit of 'work_category' value"
   ]
  },
  {
   "cell_type": "markdown",
   "metadata": {},
   "source": [
    "**comparison stata with python**  \n",
    "https://pandas.pydata.org/docs/getting_started/comparison/comparison_with_stata.html"
   ]
  },
  {
   "cell_type": "markdown",
   "metadata": {},
   "source": [
    "**STATA CODE**  \n",
    "\n",
    "sort authority_code  \n",
    "egen id_auth=group(authority_code)  \n",
    "replace id_auth=. if authority_code==.  \n",
    "//tab id_auth, gen(id_auth)  #make a table of id_auth named id_auth\n",
    "sum id_auth  \n",
    "\n",
    "forvalue i=1(1)`r(max)' {  \n",
    "gen trend_pa_`i'=0  \n",
    "replace trend_pa_`i'=trend if id_auth`i'==1  \n",
    "replace trend_pa_`i'=0 if authority_code==3090272 | authority_code==3070001   \n",
    "\n",
    "drop id_auth`i'  \n",
    "}  \n",
    "\n",
    "forvalue : loop for consecutive numbers\n",
    "i = 1(1)'r(max)' : from 1 to max jumping 1 scale \n",
    "r(max) = max() in python"
   ]
  },
  {
   "cell_type": "markdown",
   "metadata": {},
   "source": [
    "data type of column of dataframe = Series; function =.command() (?)not sure"
   ]
  },
  {
   "cell_type": "markdown",
   "metadata": {},
   "source": [
    "3. forvalue  \n",
    "https://www.stata.com/manuals13/pforvalues.pdf"
   ]
  },
  {
   "cell_type": "markdown",
   "metadata": {},
   "source": [
    "4. df.loc[indexnumber] = extract row  \n",
    "df.iloc[rownumber]  \n",
    "df.loc[idx,:] all column by certain index  \n",
    "df.loc[[idx set],[column set]] to extract certain cell  "
   ]
  },
  {
   "cell_type": "code",
   "execution_count": null,
   "metadata": {},
   "outputs": [],
   "source": []
  }
 ],
 "metadata": {
  "kernelspec": {
   "display_name": "Python 3",
   "language": "python",
   "name": "python3"
  },
  "language_info": {
   "codemirror_mode": {
    "name": "ipython",
    "version": 3
   },
   "file_extension": ".py",
   "mimetype": "text/x-python",
   "name": "python",
   "nbconvert_exporter": "python",
   "pygments_lexer": "ipython3",
   "version": "3.7.6"
  }
 },
 "nbformat": 4,
 "nbformat_minor": 4
}
