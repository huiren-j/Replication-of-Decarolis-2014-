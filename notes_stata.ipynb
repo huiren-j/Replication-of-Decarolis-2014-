{
 "cells": [
  {
   "cell_type": "markdown",
   "metadata": {},
   "source": [
    "areg = Linear regression with a large dummy variable set\n",
    "https://www.stata.com/manuals13/rareg.pdf"
   ]
  },
  {
   "cell_type": "markdown",
   "metadata": {},
   "source": [
    "substr(s, b, l) returns the substring of s starting at position b and continuing for a length of l\n",
    "https://www.stata.com/manuals13/m-5substr.pdf\n",
    "\n",
    "e.g. substr(work_category,1,2)=='OG'\n",
    "means count from the first digit to the second digit of 'work_category' value"
   ]
  },
  {
   "cell_type": "markdown",
   "metadata": {},
   "source": [
    "**comparison stata with python**  \n",
    "https://pandas.pydata.org/docs/getting_started/comparison/comparison_with_stata.html"
   ]
  },
  {
   "cell_type": "code",
   "execution_count": null,
   "metadata": {},
   "outputs": [],
   "source": []
  }
 ],
 "metadata": {
  "kernelspec": {
   "display_name": "Python 3",
   "language": "python",
   "name": "python3"
  },
  "language_info": {
   "codemirror_mode": {
    "name": "ipython",
    "version": 3
   },
   "file_extension": ".py",
   "mimetype": "text/x-python",
   "name": "python",
   "nbconvert_exporter": "python",
   "pygments_lexer": "ipython3",
   "version": "3.7.6"
  }
 },
 "nbformat": 4,
 "nbformat_minor": 4
}
