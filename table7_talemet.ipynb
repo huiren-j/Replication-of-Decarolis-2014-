{
 "cells": [
  {
   "cell_type": "code",
   "execution_count": 1,
   "metadata": {},
   "outputs": [],
   "source": [
    "#table 7 IE descriptive\n",
    "import pandas as pd\n",
    "import numpy as np\n",
    "import matplotlib as plt\n",
    "#!pip install linearmodels  \n",
    "from linearmodels import PanelOLS\n",
    "import statsmodels.discrete.discrete_model as sm\n",
    "\n",
    "#2 econtools\n",
    "#!pip install econtools\n",
    "import econtools as econ\n",
    "import econtools.metrics as mt\n",
    "\n",
    "df = pd.read_stata('data/IE.dta')\n",
    "df = df.sort_values(by='authority_code',ascending=True)"
   ]
  },
  {
   "cell_type": "code",
   "execution_count": 2,
   "metadata": {},
   "outputs": [],
   "source": [
    "#descriptive\n",
    "df['lmiles_pa_to'] = np.log(df['miles_pa_torino']+1)\n",
    "del df['experience']\n",
    "\n",
    "df = df.sort_values(by = 'authority_code', ascending = True)\n",
    "exp = df['authority_code'].value_counts()\n",
    "exp = pd.DataFrame({'auth':exp.index, 'value':exp.values})\n",
    "\n",
    "for i in range(len(df)):\n",
    "    for j in range(len(exp)):\n",
    "        if df.loc[i,'authority_code'] == exp.loc[j, 'auth']:\n",
    "            df.loc[i, 'experience'] = exp.loc[j, 'value']\n",
    "\n",
    "df['reserve_price'] = df['reserve_price']/1000\n",
    "df['population'] = df['population']/1000\n",
    "df= df[['fpsb_auction', 'forcedfp_strict', 'reserve_price', 'contract_duration', 'experience', 'population', 'discount', 'n_bidders', 'miles_pa_torino', 'miles_firm_work', 'days_to_award']]\n",
    "idx = df[df['forcedfp_strict']!=1].index\n",
    "df = df.drop(idx)\n",
    "\n"
   ]
  },
  {
   "cell_type": "code",
   "execution_count": 4,
   "metadata": {},
   "outputs": [
    {
     "data": {
      "text/html": [
       "<div>\n",
       "<style scoped>\n",
       "    .dataframe tbody tr th:only-of-type {\n",
       "        vertical-align: middle;\n",
       "    }\n",
       "\n",
       "    .dataframe tbody tr th {\n",
       "        vertical-align: top;\n",
       "    }\n",
       "\n",
       "    .dataframe thead tr th {\n",
       "        text-align: left;\n",
       "    }\n",
       "\n",
       "    .dataframe thead tr:last-of-type th {\n",
       "        text-align: right;\n",
       "    }\n",
       "</style>\n",
       "<table border=\"1\" class=\"dataframe\">\n",
       "  <thead>\n",
       "    <tr>\n",
       "      <th></th>\n",
       "      <th colspan=\"8\" halign=\"left\">reserve_price</th>\n",
       "      <th colspan=\"2\" halign=\"left\">contract_duration</th>\n",
       "      <th>...</th>\n",
       "      <th colspan=\"2\" halign=\"left\">miles_firm_work</th>\n",
       "      <th colspan=\"8\" halign=\"left\">n_bidders</th>\n",
       "    </tr>\n",
       "    <tr>\n",
       "      <th></th>\n",
       "      <th>count</th>\n",
       "      <th>mean</th>\n",
       "      <th>std</th>\n",
       "      <th>min</th>\n",
       "      <th>25%</th>\n",
       "      <th>50%</th>\n",
       "      <th>75%</th>\n",
       "      <th>max</th>\n",
       "      <th>count</th>\n",
       "      <th>mean</th>\n",
       "      <th>...</th>\n",
       "      <th>75%</th>\n",
       "      <th>max</th>\n",
       "      <th>count</th>\n",
       "      <th>mean</th>\n",
       "      <th>std</th>\n",
       "      <th>min</th>\n",
       "      <th>25%</th>\n",
       "      <th>50%</th>\n",
       "      <th>75%</th>\n",
       "      <th>max</th>\n",
       "    </tr>\n",
       "    <tr>\n",
       "      <th>fpsb_auction</th>\n",
       "      <th></th>\n",
       "      <th></th>\n",
       "      <th></th>\n",
       "      <th></th>\n",
       "      <th></th>\n",
       "      <th></th>\n",
       "      <th></th>\n",
       "      <th></th>\n",
       "      <th></th>\n",
       "      <th></th>\n",
       "      <th></th>\n",
       "      <th></th>\n",
       "      <th></th>\n",
       "      <th></th>\n",
       "      <th></th>\n",
       "      <th></th>\n",
       "      <th></th>\n",
       "      <th></th>\n",
       "      <th></th>\n",
       "      <th></th>\n",
       "      <th></th>\n",
       "    </tr>\n",
       "  </thead>\n",
       "  <tbody>\n",
       "    <tr>\n",
       "      <th>0.0</th>\n",
       "      <td>321.0</td>\n",
       "      <td>600.249446</td>\n",
       "      <td>636.665697</td>\n",
       "      <td>39.000000</td>\n",
       "      <td>254.000000</td>\n",
       "      <td>397.649375</td>\n",
       "      <td>770.0</td>\n",
       "      <td>7012.000</td>\n",
       "      <td>306.0</td>\n",
       "      <td>204.217972</td>\n",
       "      <td>...</td>\n",
       "      <td>63.790001</td>\n",
       "      <td>713.099976</td>\n",
       "      <td>321.0</td>\n",
       "      <td>66.000000</td>\n",
       "      <td>47.879078</td>\n",
       "      <td>3.0</td>\n",
       "      <td>33.0</td>\n",
       "      <td>59.0</td>\n",
       "      <td>87.0</td>\n",
       "      <td>423.0</td>\n",
       "    </tr>\n",
       "    <tr>\n",
       "      <th>1.0</th>\n",
       "      <td>74.0</td>\n",
       "      <td>2755.674615</td>\n",
       "      <td>5169.713272</td>\n",
       "      <td>346.651563</td>\n",
       "      <td>1196.823313</td>\n",
       "      <td>1563.211937</td>\n",
       "      <td>2542.5</td>\n",
       "      <td>43657.576</td>\n",
       "      <td>66.0</td>\n",
       "      <td>415.651520</td>\n",
       "      <td>...</td>\n",
       "      <td>NaN</td>\n",
       "      <td>NaN</td>\n",
       "      <td>74.0</td>\n",
       "      <td>17.554054</td>\n",
       "      <td>11.593742</td>\n",
       "      <td>2.0</td>\n",
       "      <td>9.0</td>\n",
       "      <td>15.0</td>\n",
       "      <td>23.0</td>\n",
       "      <td>62.0</td>\n",
       "    </tr>\n",
       "  </tbody>\n",
       "</table>\n",
       "<p>2 rows × 64 columns</p>\n",
       "</div>"
      ],
      "text/plain": [
       "             reserve_price                                                     \\\n",
       "                     count         mean          std         min          25%   \n",
       "fpsb_auction                                                                    \n",
       "0.0                  321.0   600.249446   636.665697   39.000000   254.000000   \n",
       "1.0                   74.0  2755.674615  5169.713272  346.651563  1196.823313   \n",
       "\n",
       "                                             contract_duration              \\\n",
       "                      50%     75%        max             count        mean   \n",
       "fpsb_auction                                                                 \n",
       "0.0            397.649375   770.0   7012.000             306.0  204.217972   \n",
       "1.0           1563.211937  2542.5  43657.576              66.0  415.651520   \n",
       "\n",
       "              ... miles_firm_work             n_bidders                        \\\n",
       "              ...             75%         max     count       mean        std   \n",
       "fpsb_auction  ...                                                               \n",
       "0.0           ...       63.790001  713.099976     321.0  66.000000  47.879078   \n",
       "1.0           ...             NaN         NaN      74.0  17.554054  11.593742   \n",
       "\n",
       "                                            \n",
       "              min   25%   50%   75%    max  \n",
       "fpsb_auction                                \n",
       "0.0           3.0  33.0  59.0  87.0  423.0  \n",
       "1.0           2.0   9.0  15.0  23.0   62.0  \n",
       "\n",
       "[2 rows x 64 columns]"
      ]
     },
     "execution_count": 4,
     "metadata": {},
     "output_type": "execute_result"
    }
   ],
   "source": [
    "#discriptive\n",
    "#PanelB\n",
    "describe = df.groupby('fpsb_auction')[['reserve_price', 'contract_duration', 'miles_pa_torino', 'experience', 'population', 'discount', 'miles_firm_work', 'n_bidders']].describe()\n",
    "describe.head()"
   ]
  },
  {
   "cell_type": "code",
   "execution_count": 7,
   "metadata": {},
   "outputs": [],
   "source": [
    "df = df[(df['sample']==\"Telemat_MyCS_2009\") | (df['sample']==\"Telemat_2011\") |  (df['sample']==\"Telemat_2010\")]\n",
    "df['lmiles_pa_to'] = np.log(df['miles_pa_torino']+1)\n",
    "del df['experience']\n",
    "\n",
    "df = df.sort_values(by = 'authority_code', ascending = True)\n",
    "exp = df['authority_code'].value_counts()\n",
    "exp = pd.DataFrame({'auth':exp.index, 'value':exp.values})\n",
    "for i in range(len(df)):\n",
    "    for j in range(len(exp)):\n",
    "        if df.loc[i,'authority_code'] == exp.loc[j, 'auth']:\n",
    "            df.loc[i, 'experience'] = exp.loc[j, 'value']"
   ]
  },
  {
   "cell_type": "code",
   "execution_count": 8,
   "metadata": {},
   "outputs": [
    {
     "data": {
      "text/plain": [
       "\"year_dum = pd.get_dummies(df['year'])\\nyear_list = df['year'].unique()\\ndf= pd.concat([df, year_dum],axis = 1)\\n\\nwork_dum = pd.get_dummies(df['work_category'])\\nwork_list = df['work_category'],unique()\\ndf= pd.cocat([df,work_dum],axis = 1)\""
      ]
     },
     "execution_count": 8,
     "metadata": {},
     "output_type": "execute_result"
    }
   ],
   "source": [
    "auth_type_dum = pd.get_dummies(df['auth_type_region'])\n",
    "auth_type_list = df['auth_type_region'].unique()\n",
    "df = pd.concat([df, auth_type_dum],axis = 1)\n",
    "\n",
    "'''year_dum = pd.get_dummies(df['year'])\n",
    "year_list = df['year'].unique()\n",
    "df= pd.concat([df, year_dum],axis = 1)\n",
    "\n",
    "work_dum = pd.get_dummies(df['work_category'])\n",
    "work_list = df['work_category'],unique()\n",
    "df= pd.cocat([df,work_dum],axis = 1)'''"
   ]
  },
  {
   "cell_type": "code",
   "execution_count": 31,
   "metadata": {},
   "outputs": [],
   "source": [
    "reg_col = ['lmiles_pa_to', 'population', 'experience', 'municipality','logreserve_price', 'contract_duration']\n",
    "for i in auth_type_list:\n",
    "    reg_col.append(i)\n",
    "#emilia lomagna should be omitted"
   ]
  },
  {
   "cell_type": "code",
   "execution_count": 25,
   "metadata": {},
   "outputs": [
    {
     "name": "stdout",
     "output_type": "stream",
     "text": [
      "Optimization terminated successfully.\n",
      "         Current function value: 0.244893\n",
      "         Iterations 8\n",
      "                          Probit Regression Results                           \n",
      "==============================================================================\n",
      "Dep. Variable:           fpsb_auction   No. Observations:                 1604\n",
      "Model:                         Probit   Df Residuals:                     1593\n",
      "Method:                           MLE   Df Model:                           10\n",
      "Date:                Thu, 09 Jul 2020   Pseudo R-squ.:                  0.5645\n",
      "Time:                        12:32:35   Log-Likelihood:                -392.81\n",
      "converged:                       True   LL-Null:                       -901.99\n",
      "Covariance Type:            nonrobust   LLR p-value:                2.078e-212\n",
      "=====================================================================================\n",
      "                        coef    std err          z      P>|z|      [0.025      0.975]\n",
      "-------------------------------------------------------------------------------------\n",
      "lmiles_pa_to         -0.0229      0.096     -0.238      0.812      -0.212       0.166\n",
      "population         1.215e-06   2.34e-07      5.198      0.000    7.57e-07    1.67e-06\n",
      "experience            0.0143      0.002      6.245      0.000       0.010       0.019\n",
      "municipality          0.1291      0.141      0.916      0.359      -0.147       0.405\n",
      "logreserve_price      0.3206      0.067      4.776      0.000       0.189       0.452\n",
      "contract_duration     0.0004      0.000      1.476      0.140      -0.000       0.001\n",
      "PIEMONTE             -6.0106      1.014     -5.928      0.000      -7.998      -4.023\n",
      "LIGURIA              -5.8860      1.076     -5.470      0.000      -7.995      -3.777\n",
      "LOMBARDIA            -5.2165      1.076     -4.848      0.000      -7.325      -3.108\n",
      "VENETO               -6.6385      1.148     -5.781      0.000      -8.889      -4.388\n",
      "EMILIA ROMAGNA       -7.1267      1.160     -6.144      0.000      -9.400      -4.853\n",
      "=====================================================================================\n"
     ]
    },
    {
     "name": "stderr",
     "output_type": "stream",
     "text": [
      "C:\\Users\\thxkn\\anaconda3\\lib\\site-packages\\ipykernel_launcher.py:10: SettingWithCopyWarning: \n",
      "A value is trying to be set on a copy of a slice from a DataFrame.\n",
      "Try using .loc[row_indexer,col_indexer] = value instead\n",
      "\n",
      "See the caveats in the documentation: https://pandas.pydata.org/pandas-docs/stable/user_guide/indexing.html#returning-a-view-versus-a-copy\n",
      "  # Remove the CWD from sys.path while we load stuff.\n"
     ]
    }
   ],
   "source": [
    "sample = 'forcedfp_strict'\n",
    "outcome = ['discount', 'days_to_award']\n",
    "\n",
    "#for o in outcome:\n",
    "df_probit = df[df[sample]==0]\n",
    "probit_mod = sm.Probit(df_probit['fpsb_auction'], df_probit[reg_col],missing = 'drop')\n",
    "probit_res = probit_mod.fit()\n",
    "print(probit_res.summary())\n",
    "#probit value checked\n",
    "df_probit['proscore'] = probit_res.predict(df_probit[reg_col]) #error\n",
    "df_probit.loc[(df_probit['proscore']>0.925)|(df_probit['proscore']<0.075), 'proscore'] = np.nan"
   ]
  },
  {
   "cell_type": "code",
   "execution_count": null,
   "metadata": {},
   "outputs": [],
   "source": [
    "#OLS\n",
    "'''df_reg= df[(df[sample]==0) & (df['propscore'].isnull()==False)]\n",
    "reg_col = ['fpsb_auction', 'lmiles_pa_to', 'logreserve_price', 'municipality' i.auth_type_region 'population', 'experience', i.year i.work_category, 'contract_duration']\n",
    "for i in auth_type_list:\n",
    "    reg_col.append(i)\n",
    "for j in \n",
    "fe_reg = mt.reg(df_reg, o in outcome, )'''"
   ]
  },
  {
   "cell_type": "code",
   "execution_count": 28,
   "metadata": {},
   "outputs": [
    {
     "name": "stdout",
     "output_type": "stream",
     "text": [
      "None\n"
     ]
    }
   ],
   "source": [
    "print(reg_col)"
   ]
  },
  {
   "cell_type": "code",
   "execution_count": 35,
   "metadata": {},
   "outputs": [
    {
     "ename": "ValueError",
     "evalue": "The truth value of a Series is ambiguous. Use a.empty, a.bool(), a.item(), a.any() or a.all().",
     "output_type": "error",
     "traceback": [
      "\u001b[1;31m---------------------------------------------------------------------------\u001b[0m",
      "\u001b[1;31mValueError\u001b[0m                                Traceback (most recent call last)",
      "\u001b[1;32m<ipython-input-35-8ee6a108c9e7>\u001b[0m in \u001b[0;36m<module>\u001b[1;34m\u001b[0m\n\u001b[0;32m     16\u001b[0m     \u001b[0mreg_col\u001b[0m\u001b[1;33m.\u001b[0m\u001b[0mappend\u001b[0m\u001b[1;33m(\u001b[0m\u001b[0mk\u001b[0m\u001b[1;33m)\u001b[0m\u001b[1;33m\u001b[0m\u001b[1;33m\u001b[0m\u001b[0m\n\u001b[0;32m     17\u001b[0m \u001b[1;33m\u001b[0m\u001b[0m\n\u001b[1;32m---> 18\u001b[1;33m \u001b[1;32mif\u001b[0m \u001b[0mdf_probit\u001b[0m\u001b[1;33m[\u001b[0m\u001b[1;34m'forcedfp_strict'\u001b[0m\u001b[1;33m]\u001b[0m\u001b[1;33m==\u001b[0m\u001b[1;36m0\u001b[0m\u001b[1;33m:\u001b[0m \u001b[1;31m#and df_probit['proscore'].isnull()==False:\u001b[0m\u001b[1;33m\u001b[0m\u001b[1;33m\u001b[0m\u001b[0m\n\u001b[0m\u001b[0;32m     19\u001b[0m     \u001b[1;32mfor\u001b[0m \u001b[0mo\u001b[0m \u001b[1;32min\u001b[0m \u001b[0moutcome\u001b[0m\u001b[1;33m:\u001b[0m\u001b[1;33m\u001b[0m\u001b[1;33m\u001b[0m\u001b[0m\n\u001b[0;32m     20\u001b[0m         \u001b[0mfe_reg\u001b[0m \u001b[1;33m=\u001b[0m \u001b[0mmt\u001b[0m\u001b[1;33m.\u001b[0m\u001b[0mreg\u001b[0m\u001b[1;33m(\u001b[0m\u001b[0mdf_probit\u001b[0m\u001b[1;33m[\u001b[0m\u001b[0mo\u001b[0m\u001b[1;33m]\u001b[0m\u001b[1;33m,\u001b[0m\u001b[0mdf_probit\u001b[0m\u001b[1;33m[\u001b[0m\u001b[0mreg_col\u001b[0m\u001b[1;33m]\u001b[0m\u001b[1;33m,\u001b[0m \u001b[0mfe_name\u001b[0m \u001b[1;33m=\u001b[0m \u001b[1;34m'authority_code'\u001b[0m\u001b[1;33m,\u001b[0m \u001b[0mcluster\u001b[0m \u001b[1;33m=\u001b[0m \u001b[1;34m'auth_anno'\u001b[0m\u001b[1;33m,\u001b[0m \u001b[0mcheck_colinear\u001b[0m \u001b[1;33m=\u001b[0m \u001b[1;32mTrue\u001b[0m\u001b[1;33m)\u001b[0m\u001b[1;33m\u001b[0m\u001b[1;33m\u001b[0m\u001b[0m\n",
      "\u001b[1;32m~\\anaconda3\\lib\\site-packages\\pandas\\core\\generic.py\u001b[0m in \u001b[0;36m__nonzero__\u001b[1;34m(self)\u001b[0m\n\u001b[0;32m   1477\u001b[0m     \u001b[1;32mdef\u001b[0m \u001b[0m__nonzero__\u001b[0m\u001b[1;33m(\u001b[0m\u001b[0mself\u001b[0m\u001b[1;33m)\u001b[0m\u001b[1;33m:\u001b[0m\u001b[1;33m\u001b[0m\u001b[1;33m\u001b[0m\u001b[0m\n\u001b[0;32m   1478\u001b[0m         raise ValueError(\n\u001b[1;32m-> 1479\u001b[1;33m             \u001b[1;34mf\"The truth value of a {type(self).__name__} is ambiguous. \"\u001b[0m\u001b[1;33m\u001b[0m\u001b[1;33m\u001b[0m\u001b[0m\n\u001b[0m\u001b[0;32m   1480\u001b[0m             \u001b[1;34m\"Use a.empty, a.bool(), a.item(), a.any() or a.all().\"\u001b[0m\u001b[1;33m\u001b[0m\u001b[1;33m\u001b[0m\u001b[0m\n\u001b[0;32m   1481\u001b[0m         )\n",
      "\u001b[1;31mValueError\u001b[0m: The truth value of a Series is ambiguous. Use a.empty, a.bool(), a.item(), a.any() or a.all()."
     ]
    }
   ],
   "source": [
    "#OLS \n",
    "work_dum = pd.get_dummies(df['work_category'])\n",
    "year_dum = pd.get_dummies(df['year'])\n",
    "work_list = list(work_dum.columns)\n",
    "year_list = list(year_dum.columns)\n",
    "df_dum = pd.concat([year_dum, work_dum],axis = 1)\n",
    "df = pd.concat([df, df_dum],axis = 1)\n",
    "\n",
    "#probit reg_col에 이어서 붙이면 됨\n",
    "reg_col.append('fpsb_acution')\n",
    "#for i in auth_type_list:\n",
    "#    reg_col.append(i)\n",
    "for j in year_list:\n",
    "    reg_col.append(j)\n",
    "for k in work_list:\n",
    "    reg_col.append(k)\n",
    "\n",
    "if df_probit['forcedfp_strict']==0 and df_probit['proscore'].isnull()==False:\n",
    "    for o in outcome:\n",
    "        fe_reg_1 = mt.reg(df_probit[o],df_probit[reg_col], fe_name = 'authority_code', cluster = 'auth_anno', check_colinear = True)\n",
    "    "
   ]
  },
  {
   "cell_type": "code",
   "execution_count": null,
   "metadata": {},
   "outputs": [],
   "source": [
    "for k in work_list:\n",
    "    reg_col.remove(k)\n",
    "\n",
    "if df_probit['forcedfp_strict']==0 and df_probit['proscore'].isnull()==False:\n",
    "    for o in outcome:\n",
    "        fe_reg_2 = mt.reg(df_probit[o],df_probit[reg_col], fe_name = 'authority_code', cluster = 'auth_anno')"
   ]
  },
  {
   "cell_type": "code",
   "execution_count": null,
   "metadata": {},
   "outputs": [],
   "source": [
    "#Heckman IV\n",
    "for k in work_list:\n",
    "    reg_col.append(k)\n",
    "\n",
    "if df_probit['forcedfp_strict']==0:\n",
    "    for o in outcome:\n",
    "        fe_reg_3 = mt.reg(df_probit[o],df_probit[reg_col], fe_name = 'authority_code', cluster = 'auth_anno')\n",
    "\n",
    "#treat reg \n",
    "#skip\n",
    "\n",
    "for i in year_list:\n",
    "    reg_col.remove(i)\n",
    "for k in work_list:\n",
    "    reg_col.remove(k)\n",
    "\n",
    "    \n",
    "if df_probit['forcedfp_strict']==0:\n",
    "fe_reg_4 = mt.reg(df_probit[o],df_probit[reg_col], fe_name = 'authority_code', cluster = 'auth_anno')\n",
    "\n",
    "df_probit = df_probit.drop('proscore',axis = 1)"
   ]
  },
  {
   "cell_type": "code",
   "execution_count": null,
   "metadata": {},
   "outputs": [],
   "source": [
    "#restore\n",
    "#final check for loop\n",
    "df = df.drop('experience',axis = 1)\n",
    "df = df.sort_values(by = 'authority_code', ascending = True)\n",
    "exp = df['authority_code'].value_counts()\n",
    "exp = pd.DataFrame({'auth':exp.index, 'value':exp.values})\n",
    "for i in range(len(df)):\n",
    "    for j in range(len(exp)):\n",
    "        if df.loc[i,'authority_code'] == exp.loc[j, 'auth']:\n",
    "            df.loc[i, 'experience'] = exp.loc[j, 'value']\n",
    "\n",
    "df = df[(df[sample]==\"Telemat_MyCS_2009\") | (df[sample]==\"Telemat_2011\") |  (df[sample]==\"Telemat_2010\")]\n",
    "df['normal_base_asta'] = reserve_price/1000\n",
    "df['discontinuity_rdd'] = 0\n",
    "df.loc[df['reserve_price']>1000000,'discontinuity_rdd'] = 1\n",
    "df[o+'_rdd'] = o\n",
    "df.loc[(df['normal_base_asta']<100) & (df['fpsb_auction']==1) ,o+'_rdd'] =np.nan\n",
    "df.loc[(df['authority_code']==3092130) & (df['normal_base_asta']>1000) & (df['fpsb_auction']==0), o+'_rdd'] = np.nan\n",
    "df['normal_b_asta2']=df['normal_base_asta']^2\n",
    "df['normal_b_asta3']=df['normal_base_asta']^3\n",
    "\n",
    "#reg\n"
   ]
  }
 ],
 "metadata": {
  "kernelspec": {
   "display_name": "Python 3",
   "language": "python",
   "name": "python3"
  },
  "language_info": {
   "codemirror_mode": {
    "name": "ipython",
    "version": 3
   },
   "file_extension": ".py",
   "mimetype": "text/x-python",
   "name": "python",
   "nbconvert_exporter": "python",
   "pygments_lexer": "ipython3",
   "version": "3.7.6"
  }
 },
 "nbformat": 4,
 "nbformat_minor": 4
}
