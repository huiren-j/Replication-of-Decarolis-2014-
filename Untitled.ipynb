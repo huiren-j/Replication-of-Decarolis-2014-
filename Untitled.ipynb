{
 "cells": [
  {
   "cell_type": "markdown",
   "metadata": {},
   "source": [
    "--- \n",
    "Project for the course in Microeconometrics | Summer 2020, M.Sc. Economics, Bonn University | [Hyein Jeong](https://github.com/huiren-j)\n",
    "# Replication of Decarolis, Francesco (2014)  <a class = \"tocSkip\">\n",
    "---"
   ]
  },
  {
   "cell_type": "markdown",
   "metadata": {},
   "source": [
    "<h1>Table of Contents<span class=\"tocSkip\"></span></h1>\n",
    "<div class=\"toc\"><ul class=\"toc-item\"><li><span><a href=\"#1.-Introduction\" data-toc-modified-id=\"1.-Introduction-1\">1.Introduction</a></span></li>\n",
    "<ul class=\"toc-item\"><li><span><a href=\"#1.1. Public Procurement System and Policy Changes\" data-toc-modified-id=\"#1.1. Public Procurement System and Policy Changes-1.1\">1.1. Public Procurement System and Policy Changes</a></span></li></ul></ul>\n",
    "<div class=\"toc\"><ul class=\"toc-item\"><li><span><a href=\"#2.-Theory Overview\" data-toc-modified-id=\"2.-Theory Overview-2\">2.Theory Overview</a></span></li>\n",
    "<li><span><a href=\"#3.-Data\" data-toc-modified-id=\"3.-Data-3\">3.Data</a></span></li>\n",
    "<li><span><a href=\"#4.-Empirical Analysis\" data-toc-modified-id=\"4.-Empirical Analysis-4\">4.Empirical Analysis</a></span></li>\n",
    "<li><span><a href=\"#5.-Discussion and Policy Implications\" data-toc-modified-id=\"5.-Discussion and Policy Implications-5\">5.Discussion and Policy Implications</a></span></li>\n",
    "<li><span><a href=\"#6.-Conclusion\" data-toc-modified-id=\"6.-Conclusion-6\">6.Conclusion</a></span></li>\n",
    "<li><span><a href=\"#7.-Extension\" data-toc-modified-id=\"7.-Extension-7\">7.Extension</a>"
   ]
  },
  {
   "cell_type": "markdown",
   "metadata": {},
   "source": [
    "---\n",
    "# 1. Introduction\n",
    "---"
   ]
  },
  {
   "cell_type": "markdown",
   "metadata": {},
   "source": [
    "Decarolis examined the effect of the switch to First Price Auction(FPA) from Average Bid Auction(ABA) for public procurement in Italy. The main difference between FPA and ABA is the way to determine the winner. While ABA chooses the winner with algorithm to remove unreliable bids which sometimes results in removing the lowest bid price, FPA selects the lowest bid price as a winner. Due to high competitive chararcteristic of FPA, it is known as a good method for public procuremnet with a lower cost and high transparency. However, the author aruges that it is not the case when the object of procurement is a contract. To figure out it, he studied the effect of FPAs not only on winning price but also on performance quality and screening cost.  \n",
    "\n",
    "**Timing of the Reforms** \n",
    "\n",
    "![ERROR:Here should be causal graph 2](files/timeline.JPG)  \n",
    "\n",
    "\n",
    "The results are obtained through a difference-in-differences(DD) identification strategy. It is applied seperately to two PAs,the County of Turin and the Municipality of Turin, that switched to FPAs in 2003. The observed period is from 2000 to 2006 and observed PAs are filtered by their reserve price above €300,000. As a result, the sign of coefficients were same in both PAs but the magnitude were different and even doubled in the latter. The author figured out that it is caused by screening process which delays the announce of the winner as excluding the most likely to be a winner but at the same time, the most unreliable bid. In the final part of this paper, the author used additional data about roadework jobs auctions from 2006 to 2011. This part showed the importance of the ex post bid screening for the effective use of FPAs by comparing the voluntarily switcher group and the switcher forced by the restriction on the use of ABAs.  \n",
    "\n",
    "**Main variables** \n",
    "\n",
    "| **Treatment**      | **Main outcomes**          | **Main Covariates**    |\n",
    "|------------------- |----------------------------|------------------------|\n",
    "| First Price Auction| Winning discount           | Public Administration  |\n",
    "|                    | Cost overrun               | Time                   |                         \n",
    "|                    | Completion time delay      |                        |\n",
    "|                    | Days to award the contract |                        |  \n",
    "\n",
    "(What I will do in this notebook)"
   ]
  },
  {
   "cell_type": "markdown",
   "metadata": {},
   "source": [
    "---\n",
    "# 2. Theory Overview\n",
    "---  \n",
    "\n",
    "The theorical background is based on \"auctions and Contract Enforcement\" of Spulber(1990). According to the paper, what differentiate auctions for contracts from auctions for goods is cost uncertainty because transaction in auction for contracts does not take place immediately. This characteristic of auctions for contracts gives the auctioneer different trade-offs between the savings due to a high winning discount and the losses due to poor performance quality.  \n",
    "  \n",
    "There are **Two types of Trade-offs**\n",
    "   *  The Trade-off between **the Winning Bid and Performance**  \n",
    "    : From high competition in FPAs, PAs are able to benefit with high winning discount. However, there is the risk that the winning firm will default intentionally to increasing their discounts as reported in Decarolis(2013) or the risk to lower performance quality and time delays.  \n",
    "    \n",
    "   *  The Trade-Off between **Performance and the Screening Cost**  \n",
    "    : There are three systems to avoid performance quality risk: financial guarantees to support bids, ex ante prequalification requirements for bidders, and ex post screening of bids reliability. The Italian system allows PAs to conduct ex post screening. Nevertheless, as the screening system ultimately lessens competition, equilibrium prices become higher than without the screening. \n",
    "\n",
    "To add more explanation about ABA, one of the main factors distinguishing ABA from FPA is the way to determine the winning discount. ABA remove all unreliable and risky bids. Thus the bidders offer higher bids than FPA and the bids tend to concentrate in a narrow range, near truncated mean. Therefore, the expected effects of a switch from ABA to FPA is to decrease of the price at the awarding stage, to worsen ex post performance and to increase bid screening.\n"
   ]
  },
  {
   "cell_type": "markdown",
   "metadata": {},
   "source": [
    "---\n",
    "# 3. Identification\n",
    "---  \n",
    "\n",
    "To evaluate the effect of FPAs on winning discount, performance and screening cost, it is necessary to which variables in data can represent each of them.  \n",
    " * **Winning discount**  \n",
    "    *discount* : the rebate (between 0% and 100%) over the reserve price\n",
    " * **Performnace**  \n",
    "     a. *cost overrun*: the difference between final payment and the winning bid as a percentage of the reserve price  \n",
    "     b. *delay to completion*: the difference between the actual and the contractual time as a percentage of the contractual time  \n",
    " * **Screening cost**  \n",
    "    *days to awards* : the difference in days between when the bids are opend and when the PA announces the identity of the winner  \n",
    "    In detail, the screening cost was represented by *days to award* because as PA egineer excludes unreliable bids from the lowest bid price, it takes time to reach higher bid price but seemingly reliable price. Thus, it is plausible that the increase in the number of days to announce the winner leads to select more reliable contractor.  \n",
    "\n",
    "The causal graph below illustrate the relationship between *First Price Auction* ***D***, *other covariates* ***X*** and *dependent variables* ***Y1,Y2,Y3*** metioned above. X can represents several variables, for example, reserve price, fiscal efficiency and so on. Additionally, since PAs' decisions for auction type depend on population and experience times of awards(experience variable) which are the characteristics of PAs, *Public Administration* ***P*** also included in the causal graph.  \n",
    "\n",
    "![ERROR:Here should be causal graph 2](files/causal.jpg)  "
   ]
  },
  {
   "cell_type": "markdown",
   "metadata": {},
   "source": [
    "---\n",
    "# 4. Empirical Strategy\n",
    "---  \n",
    "\n",
    "To study the effect of the switch to FPA, the author used the methology similar with a difference-in-differences(DD) regression exploiting the difference in the timing with which Turin adpoted FPAs relative to PAs. The model follows:  \n",
    "\n",
    "\\begin{align*}\n",
    "Y_{ist} = a_s + b_t + cX_{ist} + \\beta FPA_{st} + \\epsilon_{ist}\n",
    "\\end{align*}  \n",
    "\n",
    "* $i$ indicates the auction\n",
    "* $s$ indicates the PA\n",
    "* $t$ indicates the year\n",
    "* $FPA$ is one for FPAs and zero for ABAs\n",
    "* $Y_{ist}$ denotes the outcome for student $i$ at campus $c$, "
   ]
  },
  {
   "cell_type": "code",
   "execution_count": null,
   "metadata": {},
   "outputs": [],
   "source": []
  }
 ],
 "metadata": {
  "kernelspec": {
   "display_name": "Python 3",
   "language": "python",
   "name": "python3"
  },
  "language_info": {
   "codemirror_mode": {
    "name": "ipython",
    "version": 3
   },
   "file_extension": ".py",
   "mimetype": "text/x-python",
   "name": "python",
   "nbconvert_exporter": "python",
   "pygments_lexer": "ipython3",
   "version": "3.7.6"
  }
 },
 "nbformat": 4,
 "nbformat_minor": 4
}
