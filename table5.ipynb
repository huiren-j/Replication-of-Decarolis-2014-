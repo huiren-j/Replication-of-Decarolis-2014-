{
 "cells": [
  {
   "cell_type": "code",
   "execution_count": null,
   "metadata": {},
   "outputs": [],
   "source": [
    "#main_taberconley_controls.do\n",
    "#sample.do\n",
    "#!pip install linearmodels\n",
    "#!pip install econtools\n",
    "import pandas as pd\n",
    "import numpy as np\n",
    "import matplotlib as plt\n",
    "from linearmodels import PanelOLS\n",
    "import statsmodels.api as sm\n",
    "import econtools as econ\n",
    "import econtools.metrics as mt\n",
    "\n",
    "df = pd.read_stata('data/Authority.dta')\n",
    "print(df.shape)\n",
    "#list(df.columns)\n",
    "\n",
    "#construct work category dummy\n",
    "df['OG03_dummy'] = 0\n",
    "df.loc[(df['work_category']=='OG03')&(df['work_category']!=''),'OG03_dummy'] = 1\n",
    "\n",
    "df['OG01_dummy'] = 0\n",
    "df.loc[(df['work_category']=='OG01')&(df['work_category']!=''),'OG01_dummy'] = 1\n",
    "\n",
    "df['OG_rest_dummy'] = 0\n",
    "df.loc[(df['OG01_dummy']!=1)&(df['OG03_dummy']!=1)&(df['work_category']!=''),'OG_rest_dummy'] = 1\n",
    "\n",
    "df['OG_dummy'] = 0\n",
    "df.loc[df['work_category'].str[0:2] == 'OG','OG_dummy'] = 1\n",
    "\n",
    "df['OS_dummy'] = 0\n",
    "df.loc[df['work_category'].str[0:2] == 'OS','OS_dummy'] = 1\n",
    "\n",
    "#treated vs controls\n",
    "df['trend'] = df['year'] - 1999\n",
    "\n",
    "df['trend_treat'] = df['trend']\n",
    "df.loc[(df['authority_code']!=3090272)&(df['authority_code']!=3070001),'trend_treat'] = 0\n",
    "#15225 real change made / no zeros in df['trend']\n",
    "#print(df['trend_treat'].value_counts()) chekced\n",
    "\n",
    "df['trend_control'] = df['trend']\n",
    "df.loc[(df['authority_code']==3090272)|(df['authority_code']==3070001),'trend_control'] = 0\n",
    "#902 real change made\n",
    "#print(df['trend_control'].value_counts()) checked\n",
    "\n",
    "#PA specifics\n",
    "df = df.sort_values(by='authority_code',ascending=True)\n",
    "#auth = econ.group_id(df, cols = 'authority_code')\n",
    "#print(auth) #dataframe\n",
    "\n",
    "auth_list = df['authority_code'].values.tolist()\n",
    "auth_list = list(set(auth_list))\n",
    "#겹치는 부분 = authority_code야\n",
    "#id_auth = group_id + 1 if df의 auth code == auth의 code\n",
    "\n",
    "df['id_auth'] = 0\n",
    "for i in range(len(df)):\n",
    "    for j in range(len(auth_list)):\n",
    "        if df.loc[i,'authority_code'] == auth_list[j]:\n",
    "            df.loc[i,'id_auth'] = j+1\n",
    "\n",
    "work_dum = pd.get_dummies(df['work_category'])\n",
    "year_dum = pd.get_dummies(df['year'])\n",
    "work_list = list(work_dum.columns)\n",
    "year_list = list(year_dum.columns)\n",
    "\n",
    "df_dum = pd.concat([year_dum, work_dum],axis = 1)\n",
    "df = pd.concat([df, df_dum],axis = 1)\n",
    "\n",
    "#for statement check            \n",
    "#df.head\n",
    "#print(max(df['id_path']))"
   ]
  },
  {
   "cell_type": "code",
   "execution_count": null,
   "metadata": {},
   "outputs": [],
   "source": [
    "#keep the observations need\n",
    "df5= df[((df['turin_co_sample'] == 1)|(df['turin_pr_sample']==1))&(df['post_experience']>=5)&(df['pre_experience']>=5)&(df['missing']==0)]\n",
    "df5= df5[(df5['ctrl_pop_turin_co_sample']==1) | (df5['ctrl_pop_turin_pr_sample']==1) | (df5['ctrl_exp_turin_co_sample']==1) | (df5['ctrl_exp_turin_pr_sample']==1) | (df5['ctrl_pop_exp_turin_co_sample']==1) | (df['ctrl_pop_exp_turin_pr_sample']==1)]"
   ]
  },
  {
   "cell_type": "code",
   "execution_count": null,
   "metadata": {},
   "outputs": [],
   "source": [
    "#reconstruct trend_pa"
   ]
  },
  {
   "cell_type": "code",
   "execution_count": null,
   "metadata": {},
   "outputs": [],
   "source": [
    "#create dummies"
   ]
  }
 ],
 "metadata": {
  "kernelspec": {
   "display_name": "Python 3",
   "language": "python",
   "name": "python3"
  },
  "language_info": {
   "codemirror_mode": {
    "name": "ipython",
    "version": 3
   },
   "file_extension": ".py",
   "mimetype": "text/x-python",
   "name": "python",
   "nbconvert_exporter": "python",
   "pygments_lexer": "ipython3",
   "version": "3.7.6"
  }
 },
 "nbformat": 4,
 "nbformat_minor": 4
}
