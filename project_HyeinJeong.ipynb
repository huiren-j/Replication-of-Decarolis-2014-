{
 "cells": [
  {
   "cell_type": "markdown",
   "metadata": {},
   "source": [
    "--- \n",
    "Project for the course in Microeconometrics | Summer 2020, M.Sc. Economics, Bonn University | [Hyein Jeong](https://github.com/huiren-j)\n",
    "# Replication of Decarolis, Francesco (2014)  <a class = \"tocSkip\">\n",
    "---"
   ]
  },
  {
   "cell_type": "markdown",
   "metadata": {},
   "source": [
    "<h1>Table of Contents<span class=\"tocSkip\"></span></h1>\n",
    "<div class=\"toc\"><ul class=\"toc-item\"><li><span><a href=\"#1.-Introduction\" data-toc-modified-id=\"1.-Introduction-1\">1.Introduction</a></span></li>\n",
    "<ul class=\"toc-item\"><li><span><a href=\"#1.1. Public Procurement System and Policy Changes\" data-toc-modified-id=\"#1.1. Public Procurement System and Policy Changes-1.1\">1.1. Public Procurement System and Policy Changes</a></span></li></ul></ul>\n",
    "<div class=\"toc\"><ul class=\"toc-item\"><li><span><a href=\"#2.-Theory Overview\" data-toc-modified-id=\"2.-Theory Overview-2\">2.Theory Overview</a></span></li>\n",
    "<li><span><a href=\"#3.-Data\" data-toc-modified-id=\"3.-Data-3\">3.Data</a></span></li>\n",
    "<li><span><a href=\"#4.-Empirical Analysis\" data-toc-modified-id=\"4.-Empirical Analysis-4\">4.Empirical Analysis</a></span></li>\n",
    "<li><span><a href=\"#5.-Discussion and Policy Implications\" data-toc-modified-id=\"5.-Discussion and Policy Implications-5\">5.Discussion and Policy Implications</a></span></li>\n",
    "<li><span><a href=\"#6.-Conclusion\" data-toc-modified-id=\"6.-Conclusion-6\">6.Conclusion</a></span></li>\n",
    "<li><span><a href=\"#7.-Extension\" data-toc-modified-id=\"7.-Extension-7\">7.Extension</a>"
   ]
  },
  {
   "cell_type": "markdown",
   "metadata": {},
   "source": [
    "---\n",
    "# 1. Introduction\n",
    "---"
   ]
  },
  {
   "cell_type": "markdown",
   "metadata": {},
   "source": [
    "Decarolis examined the effect of the switch to First Price Auction(FPA) from Average Bid Auction(ABA) for public procurement in Italy. The main difference between FPA and ABA is the way to determine the winner. While ABA chooses the winner with algorithm to remove unreliable bids which sometimes results in removing the lowest bid price, FPA selects the lowest bid price as a winner. Due to high competitive chararcteristic of FPA, it is known as a good method for public procuremnet with a lower cost and high transparency. However, the author aruges that it is not the case when the object of procurement is a contract. To figure out it, he studied the effect of FPAs not only on winning price but also on performance quality and screening cost.  \n",
    "**table**  \n",
    "\n",
    "|  **Auction Type**   |    **Jan 2000- June 2006(EU)**    | **2004 (Italian Central Goverment)** |\n",
    "|---------------------|-----------------------------------|--------------------------------------|\n",
    "| First Price Auction | above €5 million of reserve price |   blocked switch from ABA to FPA     |\n",
    "| Average Bid Auction | below €5 million of reserve price |   blocked switch from ABA to FPA     |  \n"
   ]
  },
  {
   "cell_type": "markdown",
   "metadata": {},
   "source": [
    "The results are obtained through a difference-in-differences(DD) identification strategy. It is applied seperately to two PAs,the County of Turin and the Municipality of Turin, that switched to FPAs in 2003. The observed period is from 2003 to 2006. As a result, the sign of coefficients were same in both PAs but the magnitude were different and even doubled in the latter. The author figured out that it is caused by screening process which delays the announce of the winner as excluding the most likely to be a winner but at the same time, the most unreliable bid. In the final part of this paper, the author used additional data about roadework jobs auctions from 2006 to 2011. This part showed the importance of the ex post bid screening for the effective use of FPAs by comparing the voluntarily switcher group and the switcher forced by the restriction on the use of ABAs."
   ]
  },
  {
   "cell_type": "markdown",
   "metadata": {},
   "source": [
    "**Main variables** \n",
    "\n",
    "| **Treatment**      | **Main outcomes**          | **Main Covariates**    |\n",
    "|------------------- |----------------------------|------------------------|\n",
    "| First Price Auction| Winning Discount           | Public Administration  |\n",
    "|                    | Cost Overrun               | Time                   |                         \n",
    "|                    | Completion time delay      |                        |\n",
    "|                    | Days to award the contract |                        |"
   ]
  },
  {
   "cell_type": "markdown",
   "metadata": {},
   "source": [
    "Despite the vast theoretical literature, little is known about the empirical relevance of this trade-off.\n",
    "The main results confirm that the switch to FPAs substantially lowers the wining price but that it also worsen performance.\n",
    "The results are obtained through a Difference-in-Differences identification strategy which is applied seperately to two different large PAs that switched to FPAs in 2003:the County of Turin and the Municipality of Turin.\n",
    "- Municipality of Turin: FPAs increased the winning discount by approximately 13 percent of the reserve price, cost overruns by 6 percent of the reserve price, and the delay in the completion time by 28 percent of the contractual length of the job.\n",
    "- County of Turin: generated a smaller increase of the winning discount, in the order of 8 percent of the reserve price, and an increase in the extra cost and extra time that is one-third in terms of magnitude of that estimated for the Municipality of Turin, and not statistically significant."
   ]
  },
  {
   "cell_type": "markdown",
   "metadata": {},
   "source": [
    "An interesting finding of this study is that the difference in the effects of FPAs across the two PAs is related to how they screen bids for their reliability.\n",
    "PAs might exclude the highest discount if the offer is judged “too good to be true.”\n",
    "Using the number of days between when bids are opened and when the contract is awarded as a measure of screening intensity, I observe that in both PAs the switch to FPAs is associated with an increase of this variable.\n",
    "This finding suggests the presence of a second trade-off.\n",
    "However, there are two costs to screen bids.\n",
    "1. a direct cost: ex, the cost of the engineers assessing the bid liability\n",
    "2. an indirect cost: generated by the lessening of competition induced among bidders.\n",
    "This paper appears to be the first to quantify its interplay with FPAs."
   ]
  },
  {
   "cell_type": "markdown",
   "metadata": {},
   "source": [
    "The Final Part\n",
    "I analyze a more recent wave of reforms that temporarily expand the use of FPAs in Italy, but that were ultimately reversed.\n",
    "The mandatory use of FPAs  for PAs reduces the winning price but also significantly increases the screening cost.\n",
    "Hence, the effectiveness of a switch toward FPAs appears to crucially hinge on a separate institution, the ex post bid screening."
   ]
  },
  {
   "cell_type": "markdown",
   "metadata": {},
   "source": [
    "this paper presents nontrivial policy implications indicating that the benefits of adopting FPAs in procurement depends on the strength of the institutions ensuring that bids are enforceable. "
   ]
  },
  {
   "cell_type": "markdown",
   "metadata": {},
   "source": [
    "# 1.1. Public Procurement System and Policy Changes"
   ]
  },
  {
   "cell_type": "markdown",
   "metadata": {},
   "source": [
    "- A. The Italian Public Procurement System\n",
    "    : With a few exceptions for military and strategic infrastructures, the procurement of contracts for the construction and maintenance of public works by all types of Italian Public Administration(PAs) occurs broadly under the same regulation. Contracts for public works can typically be procured exclusively through auctions based exclusively on price. Between 2000 and 2006, these auctions accounted for 79 percent of all procurements held and 82 percent of the total value of all contracts procured. As regards the auctions based only on price, two distinct mechanisms exist: first price auctions(FPA)and average bid auctions (ABA).\n",
    "    - Detailed explations about auctions\n",
    "        the process starts with a PA releasing a call for tenders that illustrates the contract characteristics, including the maximum price the PA is willing to pay (i.e., the reserveprice) and the procedure used (FPA or ABA). Then every firm qualified to bid for public contracts can submit its sealed bid, consisting of a discount over the reserve price.\n",
    "        -> FPA: the highest “responsible discount” wins.\n",
    "        -> ABA: the highest discount is always eliminated because there is a judgment of which discounts are not responsible is automated through an algorithm that discharges discounts greater than a kind of trim mean.\n",
    "- B. Timing of the Reforms\n",
    "    : In the period between January 2000 and June 2006, the regulation required the use of ABAs for all contracts with a reserve price below (approximately) €5 million. The European Union regulation mandates the use of FPAs for contract at or above this value.In January 2003, after a case of collusion in ABAs became public, the Municipality of Turin ruled to replace ABAs with FPAs for all contracts. Two months later, the same reform was followed by the County of Turin. Therefore, although the switch to FPAs is clearly not random, the fact that it occurred first in Turin and only years later in other similarPAs is due to causes unrelated to the effects of FPAs."
   ]
  },
  {
   "cell_type": "markdown",
   "metadata": {},
   "source": [
    "# 2. Theory Overview"
   ]
  },
  {
   "cell_type": "markdown",
   "metadata": {},
   "source": [
    "**2.A. The Trade-Off between the Winning Bid and Performance**\n"
   ]
  },
  {
   "cell_type": "markdown",
   "metadata": {},
   "source": [
    "FPAs lead the bidders into high competition. This results in high dicounts from the reserve price which means the government's maximum willingness to pay.\n",
    "On the other hand, this high competitive environment yields unreliable discount level.Thus at the performance stage, the government could get low quality of perfomance by the winner as the trade-off low price."
   ]
  },
  {
   "cell_type": "markdown",
   "metadata": {},
   "source": [
    "**2.B. The Trade-Off between Performance and the Screening Cost**"
   ]
  },
  {
   "cell_type": "markdown",
   "metadata": {},
   "source": [
    "To prevent low quality of performance, the government can induce ex post screeing procedure. However, the screening costs will occur instead of getting low quality of performance."
   ]
  },
  {
   "cell_type": "markdown",
   "metadata": {},
   "source": [
    "**2.C. The ABA and the Expected Effects of a Switch from ABA to FPA**"
   ]
  },
  {
   "cell_type": "markdown",
   "metadata": {},
   "source": [
    "a switch from ABAs to FPAs should cause a decrease of th eprice at which the contract is awarded, a worsening of the measures of ex post performance, and an increase in bid screening. "
   ]
  },
  {
   "cell_type": "markdown",
   "metadata": {},
   "source": [
    "# 3. Data"
   ]
  },
  {
   "cell_type": "markdown",
   "metadata": {},
   "source": [
    "**3.A. Details about the Chosen Samples**\n",
    "\n",
    "The Authority collects data on all contracts for public works,awarded between Jan 2000 and June 2006, with a reserve price above €150,000 procured by all PAs. However, I restrict my analysis to onlythe simplest types of public works (consisting mostly of roadwork construction and repair jobs), awarded through either ABAs or FPAs, having a reserve price between €300,000 and €5 million, auctioned off by either counties or municipalities located in five regions in the North (Piedmont, Lombardy, Veneto, Emilia, and Liguria)."
   ]
  },
  {
   "cell_type": "markdown",
   "metadata": {},
   "source": [
    "These simple contracts are about a quarter of all the public works procured. Moreover, they are the most appropriate for the analysis of FPAs on winning bids because their reserve prices are comparable across PAs."
   ]
  },
  {
   "cell_type": "markdown",
   "metadata": {},
   "source": [
    "1. A key feature of the contracts that this paper handled with is that the PA is not in full control of the reserve price.\n",
    "2. The PA engineers evaluate the types and quantities of inputs needed to complete a project. The RP is then obtained by these input* their prices, and summing up these products.\n",
    "3. However, input prices are not the current market prices but list prices set every year for the respective regions and used exclusively by PAs to calculate reserve prices.\n",
    "4. The similarity of these prices in the chosen regions(P,Lo,V,E,Li) helps the comparability of reserve prices.\n",
    "5. Furthermore, at least in the case of simple roadwork jobs, it seems plausbile to assume that there is not too much discretion in the type and quantity of inputs to use. The tehnology of the work determines them. Since the geographical area of the chosen regions is rather homogeneous, similar roadwork jobs likely require the same types and quantities of inputs in all the PAs in the used sample. "
   ]
  },
  {
   "cell_type": "markdown",
   "metadata": {},
   "source": [
    "- seperated by two period: Jan 2000 to Dec 2002 (reform in Turin) Jan 2003 to June 2006\n",
    "- auctioneer: Municipality of Turin, County of Turin, Other PAs "
   ]
  },
  {
   "cell_type": "markdown",
   "metadata": {},
   "source": [
    "**Table1. Descriptive Statistics**"
   ]
  },
  {
   "cell_type": "code",
   "execution_count": 7,
   "metadata": {},
   "outputs": [],
   "source": [
    "import pandas as pd\n",
    "import numpy as np\n",
    "import matplotlib as plt\n",
    "from linearmodels import PanelOLS\n",
    "import statsmodels.api as sm\n",
    "import econtools as econ\n",
    "import econtools.metrics as mt\n",
    "import math\n",
    "from statsmodels.stats.outliers_influence import variance_inflation_factor\n",
    "\n",
    "from auxiliary.prepare import *\n",
    "from auxiliary.table2 import *\n",
    "from auxiliary.table3 import *\n",
    "from auxiliary.table4 import *\n",
    "from auxiliary.table5 import *\n",
    "from auxiliary.table6 import *\n",
    "from auxiliary.table7 import *\n",
    "from auxiliary.extension import *\n",
    "from auxiliary.table_formula import *"
   ]
  },
  {
   "cell_type": "code",
   "execution_count": 8,
   "metadata": {},
   "outputs": [
    {
     "name": "stdout",
     "output_type": "stream",
     "text": [
      "(16127, 31)\n"
     ]
    }
   ],
   "source": [
    "data = pd.read_stata('data/Authority.dta')\n",
    "print(data.shape)"
   ]
  },
  {
   "cell_type": "code",
   "execution_count": 9,
   "metadata": {},
   "outputs": [
    {
     "data": {
      "text/html": [
       "<div>\n",
       "<style scoped>\n",
       "    .dataframe tbody tr th:only-of-type {\n",
       "        vertical-align: middle;\n",
       "    }\n",
       "\n",
       "    .dataframe tbody tr th {\n",
       "        vertical-align: top;\n",
       "    }\n",
       "\n",
       "    .dataframe thead tr th {\n",
       "        text-align: left;\n",
       "    }\n",
       "</style>\n",
       "<table border=\"1\" class=\"dataframe\">\n",
       "  <thead>\n",
       "    <tr>\n",
       "      <th></th>\n",
       "      <th colspan=\"3\" halign=\"left\">1. Municipality of Turin</th>\n",
       "      <th colspan=\"3\" halign=\"left\">2. County of Turin</th>\n",
       "      <th colspan=\"3\" halign=\"left\">3. Other PAs</th>\n",
       "    </tr>\n",
       "    <tr>\n",
       "      <th></th>\n",
       "      <th>Mean</th>\n",
       "      <th>SD</th>\n",
       "      <th>N</th>\n",
       "      <th>Mean</th>\n",
       "      <th>SD</th>\n",
       "      <th>N</th>\n",
       "      <th>Mean</th>\n",
       "      <th>SD</th>\n",
       "      <th>N</th>\n",
       "    </tr>\n",
       "  </thead>\n",
       "  <tbody>\n",
       "    <tr>\n",
       "      <th>Extra cost</th>\n",
       "      <td>5.78489</td>\n",
       "      <td>8.67399</td>\n",
       "      <td>83</td>\n",
       "      <td>6.86463</td>\n",
       "      <td>16.9805</td>\n",
       "      <td>45</td>\n",
       "      <td>5.29898</td>\n",
       "      <td>10.6573</td>\n",
       "      <td>672</td>\n",
       "    </tr>\n",
       "    <tr>\n",
       "      <th>Number of bidders</th>\n",
       "      <td>59.9091</td>\n",
       "      <td>26.8533</td>\n",
       "      <td>121</td>\n",
       "      <td>40.254</td>\n",
       "      <td>40.4921</td>\n",
       "      <td>63</td>\n",
       "      <td>37.5411</td>\n",
       "      <td>34.5337</td>\n",
       "      <td>1009</td>\n",
       "    </tr>\n",
       "    <tr>\n",
       "      <th>Experience</th>\n",
       "      <td>523</td>\n",
       "      <td>0</td>\n",
       "      <td>121</td>\n",
       "      <td>416</td>\n",
       "      <td>0</td>\n",
       "      <td>63</td>\n",
       "      <td>186.403</td>\n",
       "      <td>90.9841</td>\n",
       "      <td>1009</td>\n",
       "    </tr>\n",
       "    <tr>\n",
       "      <th>Winning discount</th>\n",
       "      <td>17.0717</td>\n",
       "      <td>5.04908</td>\n",
       "      <td>121</td>\n",
       "      <td>17.3237</td>\n",
       "      <td>5.89664</td>\n",
       "      <td>63</td>\n",
       "      <td>12.8304</td>\n",
       "      <td>6.16729</td>\n",
       "      <td>1009</td>\n",
       "    </tr>\n",
       "    <tr>\n",
       "      <th>Population</th>\n",
       "      <td>900.608</td>\n",
       "      <td>2.73983e-12</td>\n",
       "      <td>121</td>\n",
       "      <td>2242.77</td>\n",
       "      <td>2.7504e-12</td>\n",
       "      <td>63</td>\n",
       "      <td>1023.99</td>\n",
       "      <td>1082.77</td>\n",
       "      <td>1009</td>\n",
       "    </tr>\n",
       "    <tr>\n",
       "      <th>Days to award</th>\n",
       "      <td>146.894</td>\n",
       "      <td>40.9554</td>\n",
       "      <td>111</td>\n",
       "      <td>97.5909</td>\n",
       "      <td>42.6578</td>\n",
       "      <td>44</td>\n",
       "      <td>59.3789</td>\n",
       "      <td>39.8938</td>\n",
       "      <td>768</td>\n",
       "    </tr>\n",
       "    <tr>\n",
       "      <th>Reserve price</th>\n",
       "      <td>919.072</td>\n",
       "      <td>776.756</td>\n",
       "      <td>121</td>\n",
       "      <td>914.095</td>\n",
       "      <td>805.409</td>\n",
       "      <td>63</td>\n",
       "      <td>868.83</td>\n",
       "      <td>710.547</td>\n",
       "      <td>1009</td>\n",
       "    </tr>\n",
       "    <tr>\n",
       "      <th>Extra time</th>\n",
       "      <td>47.1121</td>\n",
       "      <td>53.1709</td>\n",
       "      <td>75</td>\n",
       "      <td>62.8024</td>\n",
       "      <td>66.7607</td>\n",
       "      <td>47</td>\n",
       "      <td>63.2966</td>\n",
       "      <td>75.7257</td>\n",
       "      <td>711</td>\n",
       "    </tr>\n",
       "    <tr>\n",
       "      <th>Fiscal efficiency</th>\n",
       "      <td>0.750452</td>\n",
       "      <td>0.0347996</td>\n",
       "      <td>121</td>\n",
       "      <td>0.884224</td>\n",
       "      <td>0.0147748</td>\n",
       "      <td>63</td>\n",
       "      <td>0.8131</td>\n",
       "      <td>0.140129</td>\n",
       "      <td>1009</td>\n",
       "    </tr>\n",
       "  </tbody>\n",
       "</table>\n",
       "</div>"
      ],
      "text/plain": [
       "                  1. Municipality of Turin                    \\\n",
       "                                      Mean           SD    N   \n",
       "Extra cost                         5.78489      8.67399   83   \n",
       "Number of bidders                  59.9091      26.8533  121   \n",
       "Experience                             523            0  121   \n",
       "Winning discount                   17.0717      5.04908  121   \n",
       "Population                         900.608  2.73983e-12  121   \n",
       "Days to award                      146.894      40.9554  111   \n",
       "Reserve price                      919.072      776.756  121   \n",
       "Extra time                         47.1121      53.1709   75   \n",
       "Fiscal efficiency                 0.750452    0.0347996  121   \n",
       "\n",
       "                  2. County of Turin                 3. Other PAs            \\\n",
       "                                Mean          SD   N         Mean        SD   \n",
       "Extra cost                   6.86463     16.9805  45      5.29898   10.6573   \n",
       "Number of bidders             40.254     40.4921  63      37.5411   34.5337   \n",
       "Experience                       416           0  63      186.403   90.9841   \n",
       "Winning discount             17.3237     5.89664  63      12.8304   6.16729   \n",
       "Population                   2242.77  2.7504e-12  63      1023.99   1082.77   \n",
       "Days to award                97.5909     42.6578  44      59.3789   39.8938   \n",
       "Reserve price                914.095     805.409  63       868.83   710.547   \n",
       "Extra time                   62.8024     66.7607  47      63.2966   75.7257   \n",
       "Fiscal efficiency           0.884224   0.0147748  63       0.8131  0.140129   \n",
       "\n",
       "                         \n",
       "                      N  \n",
       "Extra cost          672  \n",
       "Number of bidders  1009  \n",
       "Experience         1009  \n",
       "Winning discount   1009  \n",
       "Population         1009  \n",
       "Days to award       768  \n",
       "Reserve price      1009  \n",
       "Extra time          711  \n",
       "Fiscal efficiency  1009  "
      ]
     },
     "execution_count": 9,
     "metadata": {},
     "output_type": "execute_result"
    }
   ],
   "source": [
    "#table1\n",
    "df_1 = prepare_data(data)\n",
    "df_pre = presort_describe(df_1)\n",
    "presort = table1_presort(df_pre)\n",
    "presort.sample(9)"
   ]
  },
  {
   "cell_type": "code",
   "execution_count": 10,
   "metadata": {},
   "outputs": [
    {
     "data": {
      "text/html": [
       "<div>\n",
       "<style scoped>\n",
       "    .dataframe tbody tr th:only-of-type {\n",
       "        vertical-align: middle;\n",
       "    }\n",
       "\n",
       "    .dataframe tbody tr th {\n",
       "        vertical-align: top;\n",
       "    }\n",
       "\n",
       "    .dataframe thead tr th {\n",
       "        text-align: left;\n",
       "    }\n",
       "</style>\n",
       "<table border=\"1\" class=\"dataframe\">\n",
       "  <thead>\n",
       "    <tr>\n",
       "      <th></th>\n",
       "      <th colspan=\"3\" halign=\"left\">1. Municipality of Turin</th>\n",
       "      <th colspan=\"3\" halign=\"left\">2. County of Turin</th>\n",
       "      <th colspan=\"3\" halign=\"left\">3. Other PAs</th>\n",
       "    </tr>\n",
       "    <tr>\n",
       "      <th></th>\n",
       "      <th>Mean</th>\n",
       "      <th>SD</th>\n",
       "      <th>N</th>\n",
       "      <th>Mean</th>\n",
       "      <th>SD</th>\n",
       "      <th>N</th>\n",
       "      <th>Mean</th>\n",
       "      <th>SD</th>\n",
       "      <th>N</th>\n",
       "    </tr>\n",
       "  </thead>\n",
       "  <tbody>\n",
       "    <tr>\n",
       "      <th>Population</th>\n",
       "      <td>900.608</td>\n",
       "      <td>2.73727e-12</td>\n",
       "      <td>156</td>\n",
       "      <td>2242.78</td>\n",
       "      <td>0</td>\n",
       "      <td>137</td>\n",
       "      <td>388.392</td>\n",
       "      <td>245.926</td>\n",
       "      <td>930</td>\n",
       "    </tr>\n",
       "    <tr>\n",
       "      <th>Winning discount</th>\n",
       "      <td>30.9739</td>\n",
       "      <td>9.83663</td>\n",
       "      <td>156</td>\n",
       "      <td>27.6648</td>\n",
       "      <td>7.24379</td>\n",
       "      <td>137</td>\n",
       "      <td>12.382</td>\n",
       "      <td>5.4445</td>\n",
       "      <td>930</td>\n",
       "    </tr>\n",
       "    <tr>\n",
       "      <th>Extra cost</th>\n",
       "      <td>13.9357</td>\n",
       "      <td>13.8791</td>\n",
       "      <td>79</td>\n",
       "      <td>6.6663</td>\n",
       "      <td>9.65511</td>\n",
       "      <td>62</td>\n",
       "      <td>7.99173</td>\n",
       "      <td>13.8449</td>\n",
       "      <td>665</td>\n",
       "    </tr>\n",
       "    <tr>\n",
       "      <th>Experience</th>\n",
       "      <td>523</td>\n",
       "      <td>0</td>\n",
       "      <td>156</td>\n",
       "      <td>416</td>\n",
       "      <td>0</td>\n",
       "      <td>137</td>\n",
       "      <td>171.413</td>\n",
       "      <td>75.2393</td>\n",
       "      <td>930</td>\n",
       "    </tr>\n",
       "    <tr>\n",
       "      <th>Number of bidders</th>\n",
       "      <td>7.61538</td>\n",
       "      <td>9.3391</td>\n",
       "      <td>156</td>\n",
       "      <td>12.7153</td>\n",
       "      <td>15.3239</td>\n",
       "      <td>137</td>\n",
       "      <td>46.9946</td>\n",
       "      <td>35.1868</td>\n",
       "      <td>930</td>\n",
       "    </tr>\n",
       "    <tr>\n",
       "      <th>Fiscal efficiency</th>\n",
       "      <td>0.805913</td>\n",
       "      <td>0.0395676</td>\n",
       "      <td>156</td>\n",
       "      <td>0.866495</td>\n",
       "      <td>0.0323597</td>\n",
       "      <td>137</td>\n",
       "      <td>0.866218</td>\n",
       "      <td>0.0918481</td>\n",
       "      <td>930</td>\n",
       "    </tr>\n",
       "    <tr>\n",
       "      <th>Reserve price</th>\n",
       "      <td>1370.78</td>\n",
       "      <td>892.667</td>\n",
       "      <td>156</td>\n",
       "      <td>988.45</td>\n",
       "      <td>760.45</td>\n",
       "      <td>137</td>\n",
       "      <td>922.082</td>\n",
       "      <td>791.005</td>\n",
       "      <td>930</td>\n",
       "    </tr>\n",
       "    <tr>\n",
       "      <th>Days to award</th>\n",
       "      <td>121.383</td>\n",
       "      <td>82.6208</td>\n",
       "      <td>94</td>\n",
       "      <td>101.62</td>\n",
       "      <td>49.6456</td>\n",
       "      <td>100</td>\n",
       "      <td>30.6847</td>\n",
       "      <td>34.3186</td>\n",
       "      <td>425</td>\n",
       "    </tr>\n",
       "    <tr>\n",
       "      <th>Extra time</th>\n",
       "      <td>56.0595</td>\n",
       "      <td>66.1695</td>\n",
       "      <td>92</td>\n",
       "      <td>79.6506</td>\n",
       "      <td>89.5052</td>\n",
       "      <td>87</td>\n",
       "      <td>53.7268</td>\n",
       "      <td>73.8185</td>\n",
       "      <td>697</td>\n",
       "    </tr>\n",
       "  </tbody>\n",
       "</table>\n",
       "</div>"
      ],
      "text/plain": [
       "                  1. Municipality of Turin                    \\\n",
       "                                      Mean           SD    N   \n",
       "Population                         900.608  2.73727e-12  156   \n",
       "Winning discount                   30.9739      9.83663  156   \n",
       "Extra cost                         13.9357      13.8791   79   \n",
       "Experience                             523            0  156   \n",
       "Number of bidders                  7.61538       9.3391  156   \n",
       "Fiscal efficiency                 0.805913    0.0395676  156   \n",
       "Reserve price                      1370.78      892.667  156   \n",
       "Days to award                      121.383      82.6208   94   \n",
       "Extra time                         56.0595      66.1695   92   \n",
       "\n",
       "                  2. County of Turin                 3. Other PAs             \\\n",
       "                                Mean         SD    N         Mean         SD   \n",
       "Population                   2242.78          0  137      388.392    245.926   \n",
       "Winning discount             27.6648    7.24379  137       12.382     5.4445   \n",
       "Extra cost                    6.6663    9.65511   62      7.99173    13.8449   \n",
       "Experience                       416          0  137      171.413    75.2393   \n",
       "Number of bidders            12.7153    15.3239  137      46.9946    35.1868   \n",
       "Fiscal efficiency           0.866495  0.0323597  137     0.866218  0.0918481   \n",
       "Reserve price                 988.45     760.45  137      922.082    791.005   \n",
       "Days to award                 101.62    49.6456  100      30.6847    34.3186   \n",
       "Extra time                   79.6506    89.5052   87      53.7268    73.8185   \n",
       "\n",
       "                        \n",
       "                     N  \n",
       "Population         930  \n",
       "Winning discount   930  \n",
       "Extra cost         665  \n",
       "Experience         930  \n",
       "Number of bidders  930  \n",
       "Fiscal efficiency  930  \n",
       "Reserve price      930  \n",
       "Days to award      425  \n",
       "Extra time         697  "
      ]
     },
     "execution_count": 10,
     "metadata": {},
     "output_type": "execute_result"
    }
   ],
   "source": [
    "#table1\n",
    "df_post = postsort_describe(df_1)\n",
    "postsort = table1_postsort(df_post)\n",
    "postsort.sample(9)"
   ]
  },
  {
   "cell_type": "code",
   "execution_count": 11,
   "metadata": {},
   "outputs": [
    {
     "data": {
      "text/plain": [
       "(16127, 93)"
      ]
     },
     "execution_count": 11,
     "metadata": {},
     "output_type": "execute_result"
    }
   ],
   "source": [
    "#data for table2,3,5,6\n",
    "df = basic_setting(data)\n",
    "df.shape"
   ]
  },
  {
   "cell_type": "code",
   "execution_count": 18,
   "metadata": {},
   "outputs": [
    {
     "name": "stderr",
     "output_type": "stream",
     "text": [
      "C:\\Users\\thxkn\\anaconda3\\lib\\site-packages\\statsmodels\\regression\\linear_model.py:1685: RuntimeWarning: invalid value encountered in true_divide\n",
      "  return 1 - self.ssr/self.centered_tss\n",
      "C:\\Users\\thxkn\\anaconda3\\lib\\site-packages\\statsmodels\\stats\\outliers_influence.py:193: RuntimeWarning: divide by zero encountered in double_scalars\n",
      "  vif = 1. / (1. - r_squared_i)\n",
      "C:\\Users\\thxkn\\anaconda3\\lib\\site-packages\\statsmodels\\regression\\linear_model.py:1685: RuntimeWarning: invalid value encountered in double_scalars\n",
      "  return 1 - self.ssr/self.centered_tss\n"
     ]
    },
    {
     "data": {
      "text/html": [
       "<div>\n",
       "<style scoped>\n",
       "    .dataframe tbody tr th:only-of-type {\n",
       "        vertical-align: middle;\n",
       "    }\n",
       "\n",
       "    .dataframe tbody tr th {\n",
       "        vertical-align: top;\n",
       "    }\n",
       "\n",
       "    .dataframe thead th {\n",
       "        text-align: right;\n",
       "    }\n",
       "</style>\n",
       "<table border=\"1\" class=\"dataframe\">\n",
       "  <thead>\n",
       "    <tr style=\"text-align: right;\">\n",
       "      <th></th>\n",
       "      <th></th>\n",
       "      <th>Control(1)</th>\n",
       "      <th>Control(2)</th>\n",
       "      <th>Control(3)</th>\n",
       "      <th>Control(4)</th>\n",
       "      <th>Control(5)</th>\n",
       "      <th>Control(6)</th>\n",
       "    </tr>\n",
       "    <tr>\n",
       "      <th>Panel</th>\n",
       "      <th>value_title</th>\n",
       "      <th></th>\n",
       "      <th></th>\n",
       "      <th></th>\n",
       "      <th></th>\n",
       "      <th></th>\n",
       "      <th></th>\n",
       "    </tr>\n",
       "  </thead>\n",
       "  <tbody>\n",
       "    <tr>\n",
       "      <th rowspan=\"4\" valign=\"top\">A</th>\n",
       "      <th>First Auction Price</th>\n",
       "      <td>13.10***</td>\n",
       "      <td>11.99***</td>\n",
       "      <td>13.32***</td>\n",
       "      <td>12.02***</td>\n",
       "      <td>13.71***</td>\n",
       "      <td>12.26***</td>\n",
       "    </tr>\n",
       "    <tr>\n",
       "      <th>Standard Error</th>\n",
       "      <td>(1.61)</td>\n",
       "      <td>(1.32)</td>\n",
       "      <td>(1.77)</td>\n",
       "      <td>(1.47)</td>\n",
       "      <td>(1.72)</td>\n",
       "      <td>(1.38)</td>\n",
       "    </tr>\n",
       "    <tr>\n",
       "      <th>R$^2$</th>\n",
       "      <td>0.505</td>\n",
       "      <td>0.639</td>\n",
       "      <td>0.493</td>\n",
       "      <td>0.614</td>\n",
       "      <td>0.526</td>\n",
       "      <td>0.644</td>\n",
       "    </tr>\n",
       "    <tr>\n",
       "      <th>Observations</th>\n",
       "      <td>1262</td>\n",
       "      <td>1262</td>\n",
       "      <td>1275</td>\n",
       "      <td>1275</td>\n",
       "      <td>880</td>\n",
       "      <td>880</td>\n",
       "    </tr>\n",
       "    <tr>\n",
       "      <th rowspan=\"4\" valign=\"top\">B</th>\n",
       "      <th>First Auction Price</th>\n",
       "      <td>7.20***</td>\n",
       "      <td>5.87***</td>\n",
       "      <td>5.14**</td>\n",
       "      <td>4.33**</td>\n",
       "      <td>7.25***</td>\n",
       "      <td>5.71**</td>\n",
       "    </tr>\n",
       "    <tr>\n",
       "      <th>Standard Error</th>\n",
       "      <td>(1.99)</td>\n",
       "      <td>(2.05)</td>\n",
       "      <td>(2.16)</td>\n",
       "      <td>(2.13)</td>\n",
       "      <td>(2.23)</td>\n",
       "      <td>(2.20)</td>\n",
       "    </tr>\n",
       "    <tr>\n",
       "      <th>R$^2$</th>\n",
       "      <td>0.111</td>\n",
       "      <td>0.156</td>\n",
       "      <td>0.185</td>\n",
       "      <td>0.214</td>\n",
       "      <td>0.160</td>\n",
       "      <td>0.221</td>\n",
       "    </tr>\n",
       "    <tr>\n",
       "      <th>Observations</th>\n",
       "      <td>1092</td>\n",
       "      <td>1092</td>\n",
       "      <td>1049</td>\n",
       "      <td>1049</td>\n",
       "      <td>742</td>\n",
       "      <td>742</td>\n",
       "    </tr>\n",
       "    <tr>\n",
       "      <th rowspan=\"4\" valign=\"top\">C</th>\n",
       "      <th>First Auction Price</th>\n",
       "      <td>25.23**</td>\n",
       "      <td>34.18***</td>\n",
       "      <td>19.36*</td>\n",
       "      <td>27.98***</td>\n",
       "      <td>27.73**</td>\n",
       "      <td>39.28***</td>\n",
       "    </tr>\n",
       "    <tr>\n",
       "      <th>Standard Error</th>\n",
       "      <td>(12.05)</td>\n",
       "      <td>(12.13)</td>\n",
       "      <td>(9.81)</td>\n",
       "      <td>(10.14)</td>\n",
       "      <td>(10.78)</td>\n",
       "      <td>(12.00)</td>\n",
       "    </tr>\n",
       "    <tr>\n",
       "      <th>R$^2$</th>\n",
       "      <td>0.085</td>\n",
       "      <td>0.122</td>\n",
       "      <td>0.111</td>\n",
       "      <td>0.148</td>\n",
       "      <td>0.095</td>\n",
       "      <td>0.147</td>\n",
       "    </tr>\n",
       "    <tr>\n",
       "      <th>Observations</th>\n",
       "      <td>1110</td>\n",
       "      <td>1110</td>\n",
       "      <td>1084</td>\n",
       "      <td>1084</td>\n",
       "      <td>747</td>\n",
       "      <td>747</td>\n",
       "    </tr>\n",
       "    <tr>\n",
       "      <th rowspan=\"4\" valign=\"top\">D</th>\n",
       "      <th>First Auction Price</th>\n",
       "      <td>28.70***</td>\n",
       "      <td>26.23**</td>\n",
       "      <td>27.29**</td>\n",
       "      <td>23.54**</td>\n",
       "      <td>34.05***</td>\n",
       "      <td>33.04**</td>\n",
       "    </tr>\n",
       "    <tr>\n",
       "      <th>Standard Error</th>\n",
       "      <td>(10.78)</td>\n",
       "      <td>(11.18)</td>\n",
       "      <td>(10.50)</td>\n",
       "      <td>(11.64)</td>\n",
       "      <td>(11.72)</td>\n",
       "      <td>(14.40)</td>\n",
       "    </tr>\n",
       "    <tr>\n",
       "      <th>R$^2$</th>\n",
       "      <td>0.554</td>\n",
       "      <td>0.566</td>\n",
       "      <td>0.531</td>\n",
       "      <td>0.547</td>\n",
       "      <td>0.546</td>\n",
       "      <td>0.565</td>\n",
       "    </tr>\n",
       "    <tr>\n",
       "      <th>Observations</th>\n",
       "      <td>777</td>\n",
       "      <td>777</td>\n",
       "      <td>777</td>\n",
       "      <td>777</td>\n",
       "      <td>549</td>\n",
       "      <td>549</td>\n",
       "    </tr>\n",
       "  </tbody>\n",
       "</table>\n",
       "</div>"
      ],
      "text/plain": [
       "                             Control(1)    Control(2)    Control(3)  \\\n",
       "Panel value_title                                                     \n",
       "A     First Auction Price    13.10***      11.99***      13.32***     \n",
       "      Standard Error         (1.61)        (1.32)        (1.77)       \n",
       "      R$^2$                  0.505         0.639         0.493        \n",
       "      Observations           1262          1262          1275         \n",
       "B     First Auction Price    7.20***       5.87***       5.14**       \n",
       "      Standard Error         (1.99)        (2.05)        (2.16)       \n",
       "      R$^2$                  0.111         0.156         0.185        \n",
       "      Observations           1092          1092          1049         \n",
       "C     First Auction Price    25.23**       34.18***      19.36*       \n",
       "      Standard Error         (12.05)       (12.13)       (9.81)       \n",
       "      R$^2$                  0.085         0.122         0.111        \n",
       "      Observations           1110          1110          1084         \n",
       "D     First Auction Price   28.70***      26.23**       27.29**       \n",
       "      Standard Error        (10.78)       (11.18)       (10.50)       \n",
       "      R$^2$                 0.554         0.566         0.531         \n",
       "      Observations          777           777           777           \n",
       "\n",
       "                             Control(4)    Control(5)    Control(6)  \n",
       "Panel value_title                                                    \n",
       "A     First Auction Price    12.02***      13.71***      12.26***    \n",
       "      Standard Error         (1.47)        (1.72)        (1.38)      \n",
       "      R$^2$                  0.614         0.526         0.644       \n",
       "      Observations           1275          880           880         \n",
       "B     First Auction Price    4.33**        7.25***       5.71**      \n",
       "      Standard Error         (2.13)        (2.23)        (2.20)      \n",
       "      R$^2$                  0.214         0.160         0.221       \n",
       "      Observations           1049          742           742         \n",
       "C     First Auction Price    27.98***      27.73**       39.28***    \n",
       "      Standard Error         (10.14)       (10.78)       (12.00)     \n",
       "      R$^2$                  0.148         0.095         0.147       \n",
       "      Observations           1084          747           747         \n",
       "D     First Auction Price   23.54**       34.05***      33.04**      \n",
       "      Standard Error        (11.64)       (11.72)       (14.40)      \n",
       "      R$^2$                 0.547         0.546         0.565        \n",
       "      Observations          777           549           549          "
      ]
     },
     "execution_count": 18,
     "metadata": {},
     "output_type": "execute_result"
    }
   ],
   "source": [
    "#table2\n",
    "table2_reg = table2_list(df)\n",
    "main_table(table2_reg)"
   ]
  },
  {
   "cell_type": "code",
   "execution_count": 19,
   "metadata": {},
   "outputs": [
    {
     "name": "stderr",
     "output_type": "stream",
     "text": [
      "C:\\Users\\thxkn\\anaconda3\\lib\\site-packages\\statsmodels\\regression\\linear_model.py:1685: RuntimeWarning: invalid value encountered in true_divide\n",
      "  return 1 - self.ssr/self.centered_tss\n",
      "C:\\Users\\thxkn\\anaconda3\\lib\\site-packages\\statsmodels\\stats\\outliers_influence.py:193: RuntimeWarning: divide by zero encountered in double_scalars\n",
      "  vif = 1. / (1. - r_squared_i)\n",
      "C:\\Users\\thxkn\\anaconda3\\lib\\site-packages\\statsmodels\\regression\\linear_model.py:1685: RuntimeWarning: invalid value encountered in double_scalars\n",
      "  return 1 - self.ssr/self.centered_tss\n"
     ]
    },
    {
     "data": {
      "text/html": [
       "<div>\n",
       "<style scoped>\n",
       "    .dataframe tbody tr th:only-of-type {\n",
       "        vertical-align: middle;\n",
       "    }\n",
       "\n",
       "    .dataframe tbody tr th {\n",
       "        vertical-align: top;\n",
       "    }\n",
       "\n",
       "    .dataframe thead th {\n",
       "        text-align: right;\n",
       "    }\n",
       "</style>\n",
       "<table border=\"1\" class=\"dataframe\">\n",
       "  <thead>\n",
       "    <tr style=\"text-align: right;\">\n",
       "      <th></th>\n",
       "      <th></th>\n",
       "      <th>Control(1)</th>\n",
       "      <th>Control(2)</th>\n",
       "      <th>Control(3)</th>\n",
       "      <th>Control(4)</th>\n",
       "      <th>Control(5)</th>\n",
       "      <th>Control(6)</th>\n",
       "    </tr>\n",
       "    <tr>\n",
       "      <th>Panel</th>\n",
       "      <th>value_title</th>\n",
       "      <th></th>\n",
       "      <th></th>\n",
       "      <th></th>\n",
       "      <th></th>\n",
       "      <th></th>\n",
       "      <th></th>\n",
       "    </tr>\n",
       "  </thead>\n",
       "  <tbody>\n",
       "    <tr>\n",
       "      <th rowspan=\"4\" valign=\"top\">A</th>\n",
       "      <th>First Auction Price</th>\n",
       "      <td>8.65***</td>\n",
       "      <td>8.69***</td>\n",
       "      <td>8.58***</td>\n",
       "      <td>8.29***</td>\n",
       "      <td>8.78***</td>\n",
       "      <td>8.66***</td>\n",
       "    </tr>\n",
       "    <tr>\n",
       "      <th>Standard Error</th>\n",
       "      <td>(1.15)</td>\n",
       "      <td>(1.10)</td>\n",
       "      <td>(1.31)</td>\n",
       "      <td>(1.17)</td>\n",
       "      <td>(1.33)</td>\n",
       "      <td>(1.10)</td>\n",
       "    </tr>\n",
       "    <tr>\n",
       "      <th>R$^2$</th>\n",
       "      <td>0.419</td>\n",
       "      <td>0.579</td>\n",
       "      <td>0.544</td>\n",
       "      <td>0.671</td>\n",
       "      <td>0.553</td>\n",
       "      <td>0.675</td>\n",
       "    </tr>\n",
       "    <tr>\n",
       "      <th>Observations</th>\n",
       "      <td>1355</td>\n",
       "      <td>1355</td>\n",
       "      <td>653</td>\n",
       "      <td>653</td>\n",
       "      <td>567</td>\n",
       "      <td>567</td>\n",
       "    </tr>\n",
       "    <tr>\n",
       "      <th rowspan=\"4\" valign=\"top\">B</th>\n",
       "      <th>First Auction Price</th>\n",
       "      <td>0.04</td>\n",
       "      <td>0.20</td>\n",
       "      <td>1.01</td>\n",
       "      <td>0.66</td>\n",
       "      <td>1.58</td>\n",
       "      <td>0.56</td>\n",
       "    </tr>\n",
       "    <tr>\n",
       "      <th>Standard Error</th>\n",
       "      <td>(3.29)</td>\n",
       "      <td>(3.55)</td>\n",
       "      <td>(3.19)</td>\n",
       "      <td>(3.23)</td>\n",
       "      <td>(3.18)</td>\n",
       "      <td>(3.25)</td>\n",
       "    </tr>\n",
       "    <tr>\n",
       "      <th>R$^2$</th>\n",
       "      <td>0.120</td>\n",
       "      <td>0.149</td>\n",
       "      <td>0.155</td>\n",
       "      <td>0.188</td>\n",
       "      <td>0.156</td>\n",
       "      <td>0.193</td>\n",
       "    </tr>\n",
       "    <tr>\n",
       "      <th>Observations</th>\n",
       "      <td>1167</td>\n",
       "      <td>1167</td>\n",
       "      <td>517</td>\n",
       "      <td>517</td>\n",
       "      <td>454</td>\n",
       "      <td>454</td>\n",
       "    </tr>\n",
       "    <tr>\n",
       "      <th rowspan=\"4\" valign=\"top\">C</th>\n",
       "      <th>First Auction Price</th>\n",
       "      <td>12.95</td>\n",
       "      <td>10.76</td>\n",
       "      <td>9.69</td>\n",
       "      <td>7.99</td>\n",
       "      <td>10.36</td>\n",
       "      <td>9.59</td>\n",
       "    </tr>\n",
       "    <tr>\n",
       "      <th>Standard Error</th>\n",
       "      <td>(17.84)</td>\n",
       "      <td>(18.72)</td>\n",
       "      <td>(16.12)</td>\n",
       "      <td>(18.27)</td>\n",
       "      <td>(17.65)</td>\n",
       "      <td>(20.00)</td>\n",
       "    </tr>\n",
       "    <tr>\n",
       "      <th>R$^2$</th>\n",
       "      <td>0.089</td>\n",
       "      <td>0.126</td>\n",
       "      <td>0.065</td>\n",
       "      <td>0.106</td>\n",
       "      <td>0.067</td>\n",
       "      <td>0.106</td>\n",
       "    </tr>\n",
       "    <tr>\n",
       "      <th>Observations</th>\n",
       "      <td>1206</td>\n",
       "      <td>1206</td>\n",
       "      <td>560</td>\n",
       "      <td>560</td>\n",
       "      <td>498</td>\n",
       "      <td>498</td>\n",
       "    </tr>\n",
       "    <tr>\n",
       "      <th rowspan=\"4\" valign=\"top\">D</th>\n",
       "      <th>First Auction Price</th>\n",
       "      <td>35.02***</td>\n",
       "      <td>37.49***</td>\n",
       "      <td>48.00***</td>\n",
       "      <td>53.45***</td>\n",
       "      <td>53.53***</td>\n",
       "      <td>59.33***</td>\n",
       "    </tr>\n",
       "    <tr>\n",
       "      <th>Standard Error</th>\n",
       "      <td>(7.86)</td>\n",
       "      <td>(8.30)</td>\n",
       "      <td>(6.99)</td>\n",
       "      <td>(7.87)</td>\n",
       "      <td>(8.82)</td>\n",
       "      <td>(9.40)</td>\n",
       "    </tr>\n",
       "    <tr>\n",
       "      <th>R$^2$</th>\n",
       "      <td>0.383</td>\n",
       "      <td>0.409</td>\n",
       "      <td>0.390</td>\n",
       "      <td>0.434</td>\n",
       "      <td>0.428</td>\n",
       "      <td>0.473</td>\n",
       "    </tr>\n",
       "    <tr>\n",
       "      <th>Observations</th>\n",
       "      <td>817</td>\n",
       "      <td>817</td>\n",
       "      <td>443</td>\n",
       "      <td>443</td>\n",
       "      <td>386</td>\n",
       "      <td>386</td>\n",
       "    </tr>\n",
       "  </tbody>\n",
       "</table>\n",
       "</div>"
      ],
      "text/plain": [
       "                             Control(1)    Control(2)    Control(3)  \\\n",
       "Panel value_title                                                     \n",
       "A     First Auction Price    8.65***       8.69***       8.58***      \n",
       "      Standard Error         (1.15)        (1.10)        (1.31)       \n",
       "      R$^2$                  0.419         0.579         0.544        \n",
       "      Observations           1355          1355          653          \n",
       "B     First Auction Price    0.04          0.20          1.01         \n",
       "      Standard Error         (3.29)        (3.55)        (3.19)       \n",
       "      R$^2$                  0.120         0.149         0.155        \n",
       "      Observations           1167          1167          517          \n",
       "C     First Auction Price    12.95         10.76         9.69         \n",
       "      Standard Error         (17.84)       (18.72)       (16.12)      \n",
       "      R$^2$                  0.089         0.126         0.065        \n",
       "      Observations           1206          1206          560          \n",
       "D     First Auction Price   35.02***      37.49***      48.00***      \n",
       "      Standard Error        (7.86)        (8.30)        (6.99)        \n",
       "      R$^2$                 0.383         0.409         0.390         \n",
       "      Observations          817           817           443           \n",
       "\n",
       "                             Control(4)    Control(5)    Control(6)  \n",
       "Panel value_title                                                    \n",
       "A     First Auction Price    8.29***       8.78***       8.66***     \n",
       "      Standard Error         (1.17)        (1.33)        (1.10)      \n",
       "      R$^2$                  0.671         0.553         0.675       \n",
       "      Observations           653           567           567         \n",
       "B     First Auction Price    0.66          1.58          0.56        \n",
       "      Standard Error         (3.23)        (3.18)        (3.25)      \n",
       "      R$^2$                  0.188         0.156         0.193       \n",
       "      Observations           517           454           454         \n",
       "C     First Auction Price    7.99          10.36         9.59        \n",
       "      Standard Error         (18.27)       (17.65)       (20.00)     \n",
       "      R$^2$                  0.106         0.067         0.106       \n",
       "      Observations           560           498           498         \n",
       "D     First Auction Price   53.45***      53.53***      59.33***     \n",
       "      Standard Error        (7.87)        (8.82)        (9.40)       \n",
       "      R$^2$                 0.434         0.428         0.473        \n",
       "      Observations          443           386           386          "
      ]
     },
     "execution_count": 19,
     "metadata": {},
     "output_type": "execute_result"
    }
   ],
   "source": [
    "#table3\n",
    "table3_reg = table3_list(df)\n",
    "main_table(table3_reg)"
   ]
  },
  {
   "cell_type": "markdown",
   "metadata": {},
   "source": [
    "**3.B. The Dependent Variables**"
   ]
  },
  {
   "cell_type": "markdown",
   "metadata": {},
   "source": [
    "1. Winning Discount\n",
    "2. Performance\n",
    "    - used two proxies of performance: cost overruns and time delays\n",
    "    - cost overruns: the diff btw the final payment and the winning bid as a percentage of the reserve price\n",
    "    - time delays: the diff btw the actual and the contractual time as a percentage of the contractual time\n",
    "    - each will be referred to as *Extra Cost* and *Extra Time*\n",
    "3. Screening Cost\n",
    "    - the diff in days btw =n when the bids are opned by the awarding commission and when the PA announces the identity of the winner\n",
    "    - consist of indirect costs  of slowing the procurement process and generating transaction costs\n",
    "    - referred to as *Days to Award*\n",
    "    - Screening: the engineers of the PA review the bids and ask bidders to justify the prices they offered."
   ]
  },
  {
   "cell_type": "markdown",
   "metadata": {},
   "source": [
    "# 4. Empirical Analysis"
   ]
  },
  {
   "cell_type": "markdown",
   "metadata": {},
   "source": [
    "**4.A. Empirical Strategy**"
   ]
  },
  {
   "cell_type": "markdown",
   "metadata": {},
   "source": [
    "The methology will be analogous to a difference-in-differences(DD) regression exploiting the difference in the timing with which Turin adopted FPAs relative to other PAs. The only differences are due to some features on the pretreatment regime."
   ]
  },
  {
   "cell_type": "markdown",
   "metadata": {},
   "source": [
    "\\begin{align*}\n",
    "Y_{ist} = a_s + b_t + cX_{ist} + \\beta FPA_{st} + \\epsilon_{ist}\n",
    "\\end{align*}"
   ]
  },
  {
   "cell_type": "markdown",
   "metadata": {},
   "source": [
    "- i = the auction\n",
    "- s = the PA\n",
    "- t = the year\n",
    "- beta = the coefficient of interest, dummy; the effect of FPAs on the dependent variable equal to one\n",
    "- a_s = condtional on fixed effects for the PA\n",
    "- b_t = condtional on fixed effects for time\n",
    "- X = other covariates "
   ]
  },
  {
   "cell_type": "markdown",
   "metadata": {},
   "source": [
    "- The two main challenges to interpret beta  \n",
    "(1) the treated PAs are not randomly assigend to the FPA but switch to it voluntarily  \n",
    "(2) features of the pretreatment regime, which matter for both the construction of the DD estimator and for the interpretation of the estimates."
   ]
  },
  {
   "cell_type": "markdown",
   "metadata": {},
   "source": [
    "* Assumptions to defining the control group for DD analysis  \n",
    "(1) The essential randomness that the switch observed in 2003 occurred in Turin and not in another one of the PAs that would have abandoned the ABA had the central government not challenged the Turin reform.  \n",
    "(2) We can reasonably infer which PAs would have switched together with Turin if so allowed."
   ]
  },
  {
   "cell_type": "markdown",
   "metadata": {},
   "source": [
    "**4.B. Effects of the FPA on Price, Performance, and Bids Screening**"
   ]
  },
  {
   "cell_type": "markdown",
   "metadata": {},
   "source": [
    "Table (2) and (3) : The DD estimates for the Municipality of Turin and the County of Turin"
   ]
  },
  {
   "cell_type": "markdown",
   "metadata": {},
   "source": [
    "- Table(2) M of Turin: Four panels(the winning discount, the cost overrun, the time delay, the number of days taken to award the contract)  \n",
    "Within each pannel, the reulst of six regressions are reported\n",
    "* the switch from ABAs to FPAs is associated with a large and statistically significant increase in the winning discount(12-14% of the RP)\n",
    "* but because of ex post renegotiation, PA lost between one third and one half of its saving."
   ]
  },
  {
   "cell_type": "markdown",
   "metadata": {},
   "source": [
    "- Table(3) C of Turin"
   ]
  },
  {
   "cell_type": "markdown",
   "metadata": {},
   "source": [
    "**4.C. Robustness Checks**"
   ]
  },
  {
   "cell_type": "markdown",
   "metadata": {},
   "source": [
    "1) the presence of common time trends among the treated and control groups(table4)  \n",
    "-> augmenting the models of Table2 and 3 with PA-specific, time-varying variables."
   ]
  },
  {
   "cell_type": "code",
   "execution_count": 21,
   "metadata": {},
   "outputs": [
    {
     "ename": "KeyboardInterrupt",
     "evalue": "",
     "output_type": "error",
     "traceback": [
      "\u001b[1;31m---------------------------------------------------------------------------\u001b[0m",
      "\u001b[1;31mKeyboardInterrupt\u001b[0m                         Traceback (most recent call last)",
      "\u001b[1;32m<ipython-input-21-f9c1b249eb55>\u001b[0m in \u001b[0;36m<module>\u001b[1;34m\u001b[0m\n\u001b[1;32m----> 1\u001b[1;33m \u001b[0mdf_4\u001b[0m \u001b[1;33m=\u001b[0m \u001b[0mtable4_setting\u001b[0m\u001b[1;33m(\u001b[0m\u001b[0mdf\u001b[0m\u001b[1;33m)\u001b[0m\u001b[1;33m\u001b[0m\u001b[1;33m\u001b[0m\u001b[0m\n\u001b[0m",
      "\u001b[1;32m~\\anaconda3\\microeconometrics-course-project-HyeinJeong\\auxiliary\\table4.py\u001b[0m in \u001b[0;36mtable4_setting\u001b[1;34m(data)\u001b[0m\n\u001b[0;32m     36\u001b[0m         \u001b[1;32mfor\u001b[0m \u001b[0mj\u001b[0m \u001b[1;32min\u001b[0m \u001b[0mrange\u001b[0m\u001b[1;33m(\u001b[0m\u001b[0mlen\u001b[0m\u001b[1;33m(\u001b[0m\u001b[0mdf\u001b[0m\u001b[1;33m)\u001b[0m\u001b[1;33m)\u001b[0m\u001b[1;33m:\u001b[0m\u001b[1;33m\u001b[0m\u001b[1;33m\u001b[0m\u001b[0m\n\u001b[0;32m     37\u001b[0m             \u001b[1;32mif\u001b[0m \u001b[0mdf\u001b[0m\u001b[1;33m.\u001b[0m\u001b[0mloc\u001b[0m\u001b[1;33m[\u001b[0m\u001b[0mj\u001b[0m\u001b[1;33m,\u001b[0m \u001b[1;34m'id_auth'\u001b[0m\u001b[1;33m]\u001b[0m \u001b[1;33m==\u001b[0m \u001b[0mi\u001b[0m\u001b[1;33m+\u001b[0m\u001b[1;36m1\u001b[0m \u001b[1;33m:\u001b[0m\u001b[1;33m\u001b[0m\u001b[1;33m\u001b[0m\u001b[0m\n\u001b[1;32m---> 38\u001b[1;33m                 \u001b[0mdf\u001b[0m\u001b[1;33m.\u001b[0m\u001b[0mloc\u001b[0m\u001b[1;33m[\u001b[0m\u001b[0mj\u001b[0m\u001b[1;33m,\u001b[0m \u001b[0mname\u001b[0m\u001b[1;33m]\u001b[0m \u001b[1;33m=\u001b[0m \u001b[0mdf\u001b[0m\u001b[1;33m.\u001b[0m\u001b[0mloc\u001b[0m\u001b[1;33m[\u001b[0m\u001b[0mj\u001b[0m\u001b[1;33m,\u001b[0m\u001b[1;34m'trend'\u001b[0m\u001b[1;33m]\u001b[0m\u001b[1;33m\u001b[0m\u001b[1;33m\u001b[0m\u001b[0m\n\u001b[0m\u001b[0;32m     39\u001b[0m \u001b[1;33m\u001b[0m\u001b[0m\n\u001b[0;32m     40\u001b[0m     \u001b[1;32mreturn\u001b[0m\u001b[1;33m(\u001b[0m\u001b[0mdf\u001b[0m\u001b[1;33m)\u001b[0m\u001b[1;33m\u001b[0m\u001b[1;33m\u001b[0m\u001b[0m\n",
      "\u001b[1;32m~\\anaconda3\\lib\\site-packages\\pandas\\core\\indexing.py\u001b[0m in \u001b[0;36m__setitem__\u001b[1;34m(self, key, value)\u001b[0m\n\u001b[0;32m    668\u001b[0m             \u001b[0mkey\u001b[0m \u001b[1;33m=\u001b[0m \u001b[0mcom\u001b[0m\u001b[1;33m.\u001b[0m\u001b[0mapply_if_callable\u001b[0m\u001b[1;33m(\u001b[0m\u001b[0mkey\u001b[0m\u001b[1;33m,\u001b[0m \u001b[0mself\u001b[0m\u001b[1;33m.\u001b[0m\u001b[0mobj\u001b[0m\u001b[1;33m)\u001b[0m\u001b[1;33m\u001b[0m\u001b[1;33m\u001b[0m\u001b[0m\n\u001b[0;32m    669\u001b[0m         \u001b[0mindexer\u001b[0m \u001b[1;33m=\u001b[0m \u001b[0mself\u001b[0m\u001b[1;33m.\u001b[0m\u001b[0m_get_setitem_indexer\u001b[0m\u001b[1;33m(\u001b[0m\u001b[0mkey\u001b[0m\u001b[1;33m)\u001b[0m\u001b[1;33m\u001b[0m\u001b[1;33m\u001b[0m\u001b[0m\n\u001b[1;32m--> 670\u001b[1;33m         \u001b[0mself\u001b[0m\u001b[1;33m.\u001b[0m\u001b[0m_setitem_with_indexer\u001b[0m\u001b[1;33m(\u001b[0m\u001b[0mindexer\u001b[0m\u001b[1;33m,\u001b[0m \u001b[0mvalue\u001b[0m\u001b[1;33m)\u001b[0m\u001b[1;33m\u001b[0m\u001b[1;33m\u001b[0m\u001b[0m\n\u001b[0m\u001b[0;32m    671\u001b[0m \u001b[1;33m\u001b[0m\u001b[0m\n\u001b[0;32m    672\u001b[0m     \u001b[1;32mdef\u001b[0m \u001b[0m_validate_key\u001b[0m\u001b[1;33m(\u001b[0m\u001b[0mself\u001b[0m\u001b[1;33m,\u001b[0m \u001b[0mkey\u001b[0m\u001b[1;33m,\u001b[0m \u001b[0maxis\u001b[0m\u001b[1;33m:\u001b[0m \u001b[0mint\u001b[0m\u001b[1;33m)\u001b[0m\u001b[1;33m:\u001b[0m\u001b[1;33m\u001b[0m\u001b[1;33m\u001b[0m\u001b[0m\n",
      "\u001b[1;32m~\\anaconda3\\lib\\site-packages\\pandas\\core\\indexing.py\u001b[0m in \u001b[0;36m_setitem_with_indexer\u001b[1;34m(self, indexer, value)\u001b[0m\n\u001b[0;32m    788\u001b[0m \u001b[1;33m\u001b[0m\u001b[0m\n\u001b[0;32m    789\u001b[0m         \u001b[1;31m# maybe partial set\u001b[0m\u001b[1;33m\u001b[0m\u001b[1;33m\u001b[0m\u001b[1;33m\u001b[0m\u001b[0m\n\u001b[1;32m--> 790\u001b[1;33m         \u001b[0mtake_split_path\u001b[0m \u001b[1;33m=\u001b[0m \u001b[0mself\u001b[0m\u001b[1;33m.\u001b[0m\u001b[0mobj\u001b[0m\u001b[1;33m.\u001b[0m\u001b[0m_is_mixed_type\u001b[0m\u001b[1;33m\u001b[0m\u001b[1;33m\u001b[0m\u001b[0m\n\u001b[0m\u001b[0;32m    791\u001b[0m \u001b[1;33m\u001b[0m\u001b[0m\n\u001b[0;32m    792\u001b[0m         \u001b[1;31m# if there is only one block/type, still have to take split path\u001b[0m\u001b[1;33m\u001b[0m\u001b[1;33m\u001b[0m\u001b[1;33m\u001b[0m\u001b[0m\n",
      "\u001b[1;32m~\\anaconda3\\lib\\site-packages\\pandas\\core\\generic.py\u001b[0m in \u001b[0;36m_is_mixed_type\u001b[1;34m(self)\u001b[0m\n\u001b[0;32m   5372\u001b[0m     \u001b[1;32mdef\u001b[0m \u001b[0m_is_mixed_type\u001b[0m\u001b[1;33m(\u001b[0m\u001b[0mself\u001b[0m\u001b[1;33m)\u001b[0m\u001b[1;33m:\u001b[0m\u001b[1;33m\u001b[0m\u001b[1;33m\u001b[0m\u001b[0m\n\u001b[0;32m   5373\u001b[0m         \u001b[0mf\u001b[0m \u001b[1;33m=\u001b[0m \u001b[1;32mlambda\u001b[0m\u001b[1;33m:\u001b[0m \u001b[0mself\u001b[0m\u001b[1;33m.\u001b[0m\u001b[0m_data\u001b[0m\u001b[1;33m.\u001b[0m\u001b[0mis_mixed_type\u001b[0m\u001b[1;33m\u001b[0m\u001b[1;33m\u001b[0m\u001b[0m\n\u001b[1;32m-> 5374\u001b[1;33m         \u001b[1;32mreturn\u001b[0m \u001b[0mself\u001b[0m\u001b[1;33m.\u001b[0m\u001b[0m_protect_consolidate\u001b[0m\u001b[1;33m(\u001b[0m\u001b[0mf\u001b[0m\u001b[1;33m)\u001b[0m\u001b[1;33m\u001b[0m\u001b[1;33m\u001b[0m\u001b[0m\n\u001b[0m\u001b[0;32m   5375\u001b[0m \u001b[1;33m\u001b[0m\u001b[0m\n\u001b[0;32m   5376\u001b[0m     \u001b[1;33m@\u001b[0m\u001b[0mproperty\u001b[0m\u001b[1;33m\u001b[0m\u001b[1;33m\u001b[0m\u001b[0m\n",
      "\u001b[1;32m~\\anaconda3\\lib\\site-packages\\pandas\\core\\generic.py\u001b[0m in \u001b[0;36m_protect_consolidate\u001b[1;34m(self, f)\u001b[0m\n\u001b[0;32m   5334\u001b[0m         \"\"\"\n\u001b[0;32m   5335\u001b[0m         \u001b[0mblocks_before\u001b[0m \u001b[1;33m=\u001b[0m \u001b[0mlen\u001b[0m\u001b[1;33m(\u001b[0m\u001b[0mself\u001b[0m\u001b[1;33m.\u001b[0m\u001b[0m_data\u001b[0m\u001b[1;33m.\u001b[0m\u001b[0mblocks\u001b[0m\u001b[1;33m)\u001b[0m\u001b[1;33m\u001b[0m\u001b[1;33m\u001b[0m\u001b[0m\n\u001b[1;32m-> 5336\u001b[1;33m         \u001b[0mresult\u001b[0m \u001b[1;33m=\u001b[0m \u001b[0mf\u001b[0m\u001b[1;33m(\u001b[0m\u001b[1;33m)\u001b[0m\u001b[1;33m\u001b[0m\u001b[1;33m\u001b[0m\u001b[0m\n\u001b[0m\u001b[0;32m   5337\u001b[0m         \u001b[1;32mif\u001b[0m \u001b[0mlen\u001b[0m\u001b[1;33m(\u001b[0m\u001b[0mself\u001b[0m\u001b[1;33m.\u001b[0m\u001b[0m_data\u001b[0m\u001b[1;33m.\u001b[0m\u001b[0mblocks\u001b[0m\u001b[1;33m)\u001b[0m \u001b[1;33m!=\u001b[0m \u001b[0mblocks_before\u001b[0m\u001b[1;33m:\u001b[0m\u001b[1;33m\u001b[0m\u001b[1;33m\u001b[0m\u001b[0m\n\u001b[0;32m   5338\u001b[0m             \u001b[0mself\u001b[0m\u001b[1;33m.\u001b[0m\u001b[0m_clear_item_cache\u001b[0m\u001b[1;33m(\u001b[0m\u001b[1;33m)\u001b[0m\u001b[1;33m\u001b[0m\u001b[1;33m\u001b[0m\u001b[0m\n",
      "\u001b[1;32m~\\anaconda3\\lib\\site-packages\\pandas\\core\\generic.py\u001b[0m in \u001b[0;36m<lambda>\u001b[1;34m()\u001b[0m\n\u001b[0;32m   5371\u001b[0m     \u001b[1;33m@\u001b[0m\u001b[0mproperty\u001b[0m\u001b[1;33m\u001b[0m\u001b[1;33m\u001b[0m\u001b[0m\n\u001b[0;32m   5372\u001b[0m     \u001b[1;32mdef\u001b[0m \u001b[0m_is_mixed_type\u001b[0m\u001b[1;33m(\u001b[0m\u001b[0mself\u001b[0m\u001b[1;33m)\u001b[0m\u001b[1;33m:\u001b[0m\u001b[1;33m\u001b[0m\u001b[1;33m\u001b[0m\u001b[0m\n\u001b[1;32m-> 5373\u001b[1;33m         \u001b[0mf\u001b[0m \u001b[1;33m=\u001b[0m \u001b[1;32mlambda\u001b[0m\u001b[1;33m:\u001b[0m \u001b[0mself\u001b[0m\u001b[1;33m.\u001b[0m\u001b[0m_data\u001b[0m\u001b[1;33m.\u001b[0m\u001b[0mis_mixed_type\u001b[0m\u001b[1;33m\u001b[0m\u001b[1;33m\u001b[0m\u001b[0m\n\u001b[0m\u001b[0;32m   5374\u001b[0m         \u001b[1;32mreturn\u001b[0m \u001b[0mself\u001b[0m\u001b[1;33m.\u001b[0m\u001b[0m_protect_consolidate\u001b[0m\u001b[1;33m(\u001b[0m\u001b[0mf\u001b[0m\u001b[1;33m)\u001b[0m\u001b[1;33m\u001b[0m\u001b[1;33m\u001b[0m\u001b[0m\n\u001b[0;32m   5375\u001b[0m \u001b[1;33m\u001b[0m\u001b[0m\n",
      "\u001b[1;32m~\\anaconda3\\lib\\site-packages\\pandas\\core\\internals\\managers.py\u001b[0m in \u001b[0;36mis_mixed_type\u001b[1;34m(self)\u001b[0m\n\u001b[0;32m    661\u001b[0m     \u001b[1;32mdef\u001b[0m \u001b[0mis_mixed_type\u001b[0m\u001b[1;33m(\u001b[0m\u001b[0mself\u001b[0m\u001b[1;33m)\u001b[0m\u001b[1;33m:\u001b[0m\u001b[1;33m\u001b[0m\u001b[1;33m\u001b[0m\u001b[0m\n\u001b[0;32m    662\u001b[0m         \u001b[1;31m# Warning, consolidation needs to get checked upstairs\u001b[0m\u001b[1;33m\u001b[0m\u001b[1;33m\u001b[0m\u001b[1;33m\u001b[0m\u001b[0m\n\u001b[1;32m--> 663\u001b[1;33m         \u001b[0mself\u001b[0m\u001b[1;33m.\u001b[0m\u001b[0m_consolidate_inplace\u001b[0m\u001b[1;33m(\u001b[0m\u001b[1;33m)\u001b[0m\u001b[1;33m\u001b[0m\u001b[1;33m\u001b[0m\u001b[0m\n\u001b[0m\u001b[0;32m    664\u001b[0m         \u001b[1;32mreturn\u001b[0m \u001b[0mlen\u001b[0m\u001b[1;33m(\u001b[0m\u001b[0mself\u001b[0m\u001b[1;33m.\u001b[0m\u001b[0mblocks\u001b[0m\u001b[1;33m)\u001b[0m \u001b[1;33m>\u001b[0m \u001b[1;36m1\u001b[0m\u001b[1;33m\u001b[0m\u001b[1;33m\u001b[0m\u001b[0m\n\u001b[0;32m    665\u001b[0m \u001b[1;33m\u001b[0m\u001b[0m\n",
      "\u001b[1;32m~\\anaconda3\\lib\\site-packages\\pandas\\core\\internals\\managers.py\u001b[0m in \u001b[0;36m_consolidate_inplace\u001b[1;34m(self)\u001b[0m\n\u001b[0;32m    943\u001b[0m     \u001b[1;32mdef\u001b[0m \u001b[0m_consolidate_inplace\u001b[0m\u001b[1;33m(\u001b[0m\u001b[0mself\u001b[0m\u001b[1;33m)\u001b[0m\u001b[1;33m:\u001b[0m\u001b[1;33m\u001b[0m\u001b[1;33m\u001b[0m\u001b[0m\n\u001b[0;32m    944\u001b[0m         \u001b[1;32mif\u001b[0m \u001b[1;32mnot\u001b[0m \u001b[0mself\u001b[0m\u001b[1;33m.\u001b[0m\u001b[0mis_consolidated\u001b[0m\u001b[1;33m(\u001b[0m\u001b[1;33m)\u001b[0m\u001b[1;33m:\u001b[0m\u001b[1;33m\u001b[0m\u001b[1;33m\u001b[0m\u001b[0m\n\u001b[1;32m--> 945\u001b[1;33m             \u001b[0mself\u001b[0m\u001b[1;33m.\u001b[0m\u001b[0mblocks\u001b[0m \u001b[1;33m=\u001b[0m \u001b[0mtuple\u001b[0m\u001b[1;33m(\u001b[0m\u001b[0m_consolidate\u001b[0m\u001b[1;33m(\u001b[0m\u001b[0mself\u001b[0m\u001b[1;33m.\u001b[0m\u001b[0mblocks\u001b[0m\u001b[1;33m)\u001b[0m\u001b[1;33m)\u001b[0m\u001b[1;33m\u001b[0m\u001b[1;33m\u001b[0m\u001b[0m\n\u001b[0m\u001b[0;32m    946\u001b[0m             \u001b[0mself\u001b[0m\u001b[1;33m.\u001b[0m\u001b[0m_is_consolidated\u001b[0m \u001b[1;33m=\u001b[0m \u001b[1;32mTrue\u001b[0m\u001b[1;33m\u001b[0m\u001b[1;33m\u001b[0m\u001b[0m\n\u001b[0;32m    947\u001b[0m             \u001b[0mself\u001b[0m\u001b[1;33m.\u001b[0m\u001b[0m_known_consolidated\u001b[0m \u001b[1;33m=\u001b[0m \u001b[1;32mTrue\u001b[0m\u001b[1;33m\u001b[0m\u001b[1;33m\u001b[0m\u001b[0m\n",
      "\u001b[1;32m~\\anaconda3\\lib\\site-packages\\pandas\\core\\internals\\managers.py\u001b[0m in \u001b[0;36m_consolidate\u001b[1;34m(blocks)\u001b[0m\n\u001b[0;32m   1885\u001b[0m     \u001b[1;32mfor\u001b[0m \u001b[1;33m(\u001b[0m\u001b[0m_can_consolidate\u001b[0m\u001b[1;33m,\u001b[0m \u001b[0mdtype\u001b[0m\u001b[1;33m)\u001b[0m\u001b[1;33m,\u001b[0m \u001b[0mgroup_blocks\u001b[0m \u001b[1;32min\u001b[0m \u001b[0mgrouper\u001b[0m\u001b[1;33m:\u001b[0m\u001b[1;33m\u001b[0m\u001b[1;33m\u001b[0m\u001b[0m\n\u001b[0;32m   1886\u001b[0m         merged_blocks = _merge_blocks(\n\u001b[1;32m-> 1887\u001b[1;33m             \u001b[0mlist\u001b[0m\u001b[1;33m(\u001b[0m\u001b[0mgroup_blocks\u001b[0m\u001b[1;33m)\u001b[0m\u001b[1;33m,\u001b[0m \u001b[0mdtype\u001b[0m\u001b[1;33m=\u001b[0m\u001b[0mdtype\u001b[0m\u001b[1;33m,\u001b[0m \u001b[0m_can_consolidate\u001b[0m\u001b[1;33m=\u001b[0m\u001b[0m_can_consolidate\u001b[0m\u001b[1;33m\u001b[0m\u001b[1;33m\u001b[0m\u001b[0m\n\u001b[0m\u001b[0;32m   1888\u001b[0m         )\n\u001b[0;32m   1889\u001b[0m         \u001b[0mnew_blocks\u001b[0m \u001b[1;33m=\u001b[0m \u001b[0m_extend_blocks\u001b[0m\u001b[1;33m(\u001b[0m\u001b[0mmerged_blocks\u001b[0m\u001b[1;33m,\u001b[0m \u001b[0mnew_blocks\u001b[0m\u001b[1;33m)\u001b[0m\u001b[1;33m\u001b[0m\u001b[1;33m\u001b[0m\u001b[0m\n",
      "\u001b[1;32m~\\anaconda3\\lib\\site-packages\\pandas\\core\\internals\\blocks.py\u001b[0m in \u001b[0;36m_merge_blocks\u001b[1;34m(blocks, dtype, _can_consolidate)\u001b[0m\n\u001b[0;32m   3094\u001b[0m \u001b[1;33m\u001b[0m\u001b[0m\n\u001b[0;32m   3095\u001b[0m         \u001b[0margsort\u001b[0m \u001b[1;33m=\u001b[0m \u001b[0mnp\u001b[0m\u001b[1;33m.\u001b[0m\u001b[0margsort\u001b[0m\u001b[1;33m(\u001b[0m\u001b[0mnew_mgr_locs\u001b[0m\u001b[1;33m)\u001b[0m\u001b[1;33m\u001b[0m\u001b[1;33m\u001b[0m\u001b[0m\n\u001b[1;32m-> 3096\u001b[1;33m         \u001b[0mnew_values\u001b[0m \u001b[1;33m=\u001b[0m \u001b[0mnew_values\u001b[0m\u001b[1;33m[\u001b[0m\u001b[0margsort\u001b[0m\u001b[1;33m]\u001b[0m\u001b[1;33m\u001b[0m\u001b[1;33m\u001b[0m\u001b[0m\n\u001b[0m\u001b[0;32m   3097\u001b[0m         \u001b[0mnew_mgr_locs\u001b[0m \u001b[1;33m=\u001b[0m \u001b[0mnew_mgr_locs\u001b[0m\u001b[1;33m[\u001b[0m\u001b[0margsort\u001b[0m\u001b[1;33m]\u001b[0m\u001b[1;33m\u001b[0m\u001b[1;33m\u001b[0m\u001b[0m\n\u001b[0;32m   3098\u001b[0m \u001b[1;33m\u001b[0m\u001b[0m\n",
      "\u001b[1;31mKeyboardInterrupt\u001b[0m: "
     ]
    }
   ],
   "source": [
    "df_4 = table4_setting(df)"
   ]
  },
  {
   "cell_type": "code",
   "execution_count": 20,
   "metadata": {},
   "outputs": [
    {
     "ename": "NameError",
     "evalue": "name 'df_4' is not defined",
     "output_type": "error",
     "traceback": [
      "\u001b[1;31m---------------------------------------------------------------------------\u001b[0m",
      "\u001b[1;31mNameError\u001b[0m                                 Traceback (most recent call last)",
      "\u001b[1;32m<ipython-input-20-1f7786d0fcd7>\u001b[0m in \u001b[0;36m<module>\u001b[1;34m\u001b[0m\n\u001b[0;32m      1\u001b[0m \u001b[1;31m#table4 new version\u001b[0m\u001b[1;33m\u001b[0m\u001b[1;33m\u001b[0m\u001b[1;33m\u001b[0m\u001b[0m\n\u001b[1;32m----> 2\u001b[1;33m \u001b[0mtab4_1\u001b[0m \u001b[1;33m=\u001b[0m \u001b[0mtable4_odd\u001b[0m\u001b[1;33m(\u001b[0m\u001b[0mdf_4\u001b[0m\u001b[1;33m)\u001b[0m\u001b[1;33m\u001b[0m\u001b[1;33m\u001b[0m\u001b[0m\n\u001b[0m\u001b[0;32m      3\u001b[0m \u001b[0mtab4_2\u001b[0m \u001b[1;33m=\u001b[0m \u001b[0mtable4_even\u001b[0m\u001b[1;33m(\u001b[0m\u001b[0mdf_4\u001b[0m\u001b[1;33m)\u001b[0m\u001b[1;33m\u001b[0m\u001b[1;33m\u001b[0m\u001b[0m\n\u001b[0;32m      4\u001b[0m \u001b[0mtable4\u001b[0m \u001b[1;33m=\u001b[0m \u001b[0mtable4_new\u001b[0m\u001b[1;33m(\u001b[0m\u001b[0mtab4_1\u001b[0m\u001b[1;33m,\u001b[0m \u001b[0mtab4_2\u001b[0m\u001b[1;33m)\u001b[0m\u001b[1;33m\u001b[0m\u001b[1;33m\u001b[0m\u001b[0m\n",
      "\u001b[1;31mNameError\u001b[0m: name 'df_4' is not defined"
     ]
    }
   ],
   "source": [
    "#table4 new version\n",
    "tab4_1 = table4_odd(df_4)\n",
    "tab4_2 = table4_even(df_4)\n",
    "table4 = table4_new(tab4_1, tab4_2)"
   ]
  },
  {
   "cell_type": "markdown",
   "metadata": {},
   "source": [
    "2) The standard errors used to conduct inference about the effect of FPAs.(table5)  \n",
    "-> criticism: errors autocorrelation -> the PA-year level clustering to produce statistical significance when sig is in fact absent, requires assessing whether the estimate of beta remains significant once standard errors are clustered at PA level. "
   ]
  },
  {
   "cell_type": "code",
   "execution_count": 22,
   "metadata": {},
   "outputs": [],
   "source": [
    "#table5_setting\n",
    "df_tab5 = table5_setting(df)"
   ]
  },
  {
   "cell_type": "code",
   "execution_count": 23,
   "metadata": {},
   "outputs": [],
   "source": [
    "from auxiliary.table5 import* "
   ]
  },
  {
   "cell_type": "code",
   "execution_count": 17,
   "metadata": {},
   "outputs": [
    {
     "ename": "NameError",
     "evalue": "name 'df' is not defined",
     "output_type": "error",
     "traceback": [
      "\u001b[1;31m---------------------------------------------------------------------------\u001b[0m",
      "\u001b[1;31mNameError\u001b[0m                                 Traceback (most recent call last)",
      "\u001b[1;32m<ipython-input-17-7cfcea636657>\u001b[0m in \u001b[0;36m<module>\u001b[1;34m\u001b[0m\n\u001b[0;32m      2\u001b[0m \u001b[0moutcomes\u001b[0m \u001b[1;33m=\u001b[0m \u001b[1;33m[\u001b[0m\u001b[1;34m'discount'\u001b[0m\u001b[1;33m,\u001b[0m\u001b[1;34m'delay_ratio'\u001b[0m\u001b[1;33m,\u001b[0m\u001b[1;34m'overrun_ratio'\u001b[0m\u001b[1;33m,\u001b[0m\u001b[1;34m'days_to_award'\u001b[0m\u001b[1;33m]\u001b[0m\u001b[1;33m\u001b[0m\u001b[1;33m\u001b[0m\u001b[0m\n\u001b[0;32m      3\u001b[0m \u001b[1;32mfor\u001b[0m \u001b[0mo\u001b[0m \u001b[1;32min\u001b[0m \u001b[0moutcomes\u001b[0m\u001b[1;33m:\u001b[0m\u001b[1;33m\u001b[0m\u001b[1;33m\u001b[0m\u001b[0m\n\u001b[1;32m----> 4\u001b[1;33m     \u001b[0mtable5_PanelA_odd\u001b[0m\u001b[1;33m(\u001b[0m\u001b[0mdf_tab5\u001b[0m\u001b[1;33m,\u001b[0m \u001b[0mo\u001b[0m\u001b[1;33m)\u001b[0m\u001b[1;33m\u001b[0m\u001b[1;33m\u001b[0m\u001b[0m\n\u001b[0m\u001b[0;32m      5\u001b[0m     \u001b[0mtable5_PanelA_even\u001b[0m\u001b[1;33m(\u001b[0m\u001b[0mdf_tab5\u001b[0m\u001b[1;33m,\u001b[0m \u001b[0mo\u001b[0m\u001b[1;33m)\u001b[0m\u001b[1;33m\u001b[0m\u001b[1;33m\u001b[0m\u001b[0m\n",
      "\u001b[1;32m~\\anaconda3\\microeconometrics-course-project-HyeinJeong\\auxiliary\\table5.py\u001b[0m in \u001b[0;36mtable5_PanelA_odd\u001b[1;34m(data, o)\u001b[0m\n\u001b[0;32m     64\u001b[0m     \u001b[0mc_outcomes\u001b[0m\u001b[1;33m=\u001b[0m\u001b[1;36m1\u001b[0m\u001b[1;33m\u001b[0m\u001b[1;33m\u001b[0m\u001b[0m\n\u001b[0;32m     65\u001b[0m     \u001b[0mi\u001b[0m \u001b[1;33m=\u001b[0m \u001b[1;36m5\u001b[0m\u001b[1;33m\u001b[0m\u001b[1;33m\u001b[0m\u001b[0m\n\u001b[1;32m---> 66\u001b[1;33m     \u001b[0mdf1\u001b[0m \u001b[1;33m=\u001b[0m \u001b[0mdata\u001b[0m\u001b[1;33m\u001b[0m\u001b[1;33m\u001b[0m\u001b[0m\n\u001b[0m\u001b[0;32m     67\u001b[0m     \u001b[0mdf1\u001b[0m \u001b[1;33m=\u001b[0m \u001b[0mdf1\u001b[0m\u001b[1;33m[\u001b[0m\u001b[1;33m(\u001b[0m\u001b[0mdf1\u001b[0m\u001b[1;33m[\u001b[0m\u001b[0mt\u001b[0m\u001b[1;33m]\u001b[0m\u001b[1;33m==\u001b[0m\u001b[1;36m1\u001b[0m\u001b[1;33m)\u001b[0m \u001b[1;33m&\u001b[0m \u001b[1;33m(\u001b[0m\u001b[0mdf1\u001b[0m\u001b[1;33m[\u001b[0m\u001b[0mg\u001b[0m \u001b[1;33m+\u001b[0m\u001b[1;34m'_'\u001b[0m \u001b[1;33m+\u001b[0m \u001b[0mt\u001b[0m\u001b[1;33m]\u001b[0m\u001b[1;33m==\u001b[0m\u001b[1;36m1\u001b[0m\u001b[1;33m)\u001b[0m \u001b[1;33m&\u001b[0m \u001b[1;33m(\u001b[0m\u001b[0mdf1\u001b[0m\u001b[1;33m[\u001b[0m\u001b[1;34m'post_experience'\u001b[0m\u001b[1;33m]\u001b[0m\u001b[1;33m>=\u001b[0m\u001b[0mi\u001b[0m\u001b[1;33m)\u001b[0m \u001b[1;33m&\u001b[0m \u001b[1;33m(\u001b[0m\u001b[0mdf1\u001b[0m\u001b[1;33m[\u001b[0m\u001b[1;34m'pre_experience'\u001b[0m\u001b[1;33m]\u001b[0m\u001b[1;33m>=\u001b[0m\u001b[0mi\u001b[0m\u001b[1;33m)\u001b[0m\u001b[1;33m&\u001b[0m \u001b[1;33m(\u001b[0m\u001b[0mdf1\u001b[0m\u001b[1;33m[\u001b[0m\u001b[1;34m'post_experience'\u001b[0m\u001b[1;33m]\u001b[0m\u001b[1;33m.\u001b[0m\u001b[0misnull\u001b[0m\u001b[1;33m(\u001b[0m\u001b[1;33m)\u001b[0m\u001b[1;33m==\u001b[0m\u001b[1;32mFalse\u001b[0m\u001b[1;33m)\u001b[0m \u001b[1;33m&\u001b[0m \u001b[1;33m(\u001b[0m\u001b[0mdf1\u001b[0m\u001b[1;33m[\u001b[0m\u001b[1;34m'pre_experience'\u001b[0m\u001b[1;33m]\u001b[0m\u001b[1;33m.\u001b[0m\u001b[0misnull\u001b[0m\u001b[1;33m(\u001b[0m\u001b[1;33m)\u001b[0m\u001b[1;33m==\u001b[0m\u001b[1;32mFalse\u001b[0m\u001b[1;33m)\u001b[0m \u001b[1;33m&\u001b[0m \u001b[1;33m(\u001b[0m\u001b[0mdf1\u001b[0m\u001b[1;33m[\u001b[0m\u001b[1;34m'missing'\u001b[0m\u001b[1;33m]\u001b[0m\u001b[1;33m==\u001b[0m\u001b[1;36m0\u001b[0m\u001b[1;33m)\u001b[0m \u001b[1;33m&\u001b[0m \u001b[1;33m(\u001b[0m\u001b[0mdf1\u001b[0m\u001b[1;33m[\u001b[0m\u001b[0mo\u001b[0m\u001b[1;33m]\u001b[0m\u001b[1;33m.\u001b[0m\u001b[0misnull\u001b[0m\u001b[1;33m(\u001b[0m\u001b[1;33m)\u001b[0m\u001b[1;33m==\u001b[0m\u001b[1;32mFalse\u001b[0m\u001b[1;33m)\u001b[0m \u001b[1;33m&\u001b[0m \u001b[1;33m(\u001b[0m\u001b[0mdf1\u001b[0m\u001b[1;33m[\u001b[0m\u001b[1;34m'fiscal_efficiency'\u001b[0m\u001b[1;33m]\u001b[0m\u001b[1;33m.\u001b[0m\u001b[0misnull\u001b[0m\u001b[1;33m(\u001b[0m\u001b[1;33m)\u001b[0m\u001b[1;33m==\u001b[0m\u001b[1;32mFalse\u001b[0m\u001b[1;33m)\u001b[0m \u001b[1;33m&\u001b[0m \u001b[1;33m(\u001b[0m\u001b[0mdf1\u001b[0m\u001b[1;33m[\u001b[0m\u001b[1;34m'reserve_price'\u001b[0m\u001b[1;33m]\u001b[0m\u001b[1;33m.\u001b[0m\u001b[0misnull\u001b[0m\u001b[1;33m(\u001b[0m\u001b[1;33m)\u001b[0m\u001b[1;33m==\u001b[0m\u001b[1;32mFalse\u001b[0m\u001b[1;33m)\u001b[0m\u001b[1;33m&\u001b[0m\u001b[1;33m(\u001b[0m\u001b[0mdf1\u001b[0m\u001b[1;33m[\u001b[0m\u001b[1;34m'municipality'\u001b[0m\u001b[1;33m]\u001b[0m\u001b[1;33m.\u001b[0m\u001b[0misnull\u001b[0m\u001b[1;33m(\u001b[0m\u001b[1;33m)\u001b[0m\u001b[1;33m==\u001b[0m\u001b[1;32mFalse\u001b[0m\u001b[1;33m)\u001b[0m\u001b[1;33m]\u001b[0m\u001b[1;33m\u001b[0m\u001b[1;33m\u001b[0m\u001b[0m\n\u001b[0;32m     68\u001b[0m \u001b[1;33m\u001b[0m\u001b[0m\n",
      "\u001b[1;31mNameError\u001b[0m: name 'df' is not defined"
     ]
    }
   ],
   "source": [
    "#table5_A\n",
    "outcomes = ['discount','delay_ratio','overrun_ratio','days_to_award']\n",
    "for o in outcomes:\n",
    "    table5_PanelA_odd(df_tab5, o)\n",
    "    table5_PanelA_even(df_tab5, o)"
   ]
  },
  {
   "cell_type": "code",
   "execution_count": null,
   "metadata": {},
   "outputs": [],
   "source": [
    "#table5_B\n",
    "table5_PanelB_odd(df_tab5, o)\n",
    "table5_PanelB_even(df_tab5, o)"
   ]
  },
  {
   "cell_type": "markdown",
   "metadata": {},
   "source": [
    "3) The presence of a sample selection bias(table6)"
   ]
  },
  {
   "cell_type": "code",
   "execution_count": null,
   "metadata": {},
   "outputs": [],
   "source": [
    "#table6 setting\n",
    "df_6 = table6_setting(df)"
   ]
  },
  {
   "cell_type": "code",
   "execution_count": null,
   "metadata": {},
   "outputs": [],
   "source": [
    "#table6 calculation\n",
    "table6_reg = table6_list(df_6)\n",
    "table6(table6_reg)"
   ]
  },
  {
   "cell_type": "markdown",
   "metadata": {},
   "source": [
    "# 5. Discussion and Policy Implication"
   ]
  },
  {
   "cell_type": "markdown",
   "metadata": {},
   "source": [
    "The previous finding suggest that reforms towards FPAs can be successful only if their design carefully accounts for the features of the institutions ensuring bids reliability, which include financial guarantees, ex ante prequalification, and ex post screening.  \n",
    "The final cost of the project under FPAs in M of Turin and C of Turin declines by approximately 8 percent of the original RP(80,000euro - 100,000euro)  \n",
    "This amount of saving is high enough to compensate for the increased cost of bid screening and for the possible presence cost of transaction costs associated with contract renegotiation."
   ]
  },
  {
   "cell_type": "markdown",
   "metadata": {},
   "source": [
    "# 6. Conclusion "
   ]
  },
  {
   "cell_type": "code",
   "execution_count": null,
   "metadata": {},
   "outputs": [],
   "source": [
    "df_IE = pd.read_stata('data/IE.dta')"
   ]
  },
  {
   "cell_type": "code",
   "execution_count": null,
   "metadata": {},
   "outputs": [],
   "source": [
    "describe_a = table7_PanelA(df_IE)\n",
    "describe_b = table7_PanelB(df_IE)\n",
    "table7(describe_a, describe_b)"
   ]
  },
  {
   "cell_type": "markdown",
   "metadata": {},
   "source": [
    "# 7. Extension"
   ]
  },
  {
   "cell_type": "code",
   "execution_count": null,
   "metadata": {},
   "outputs": [],
   "source": [
    "df_ext = extension_setting_IE(df_IE, df)"
   ]
  },
  {
   "cell_type": "markdown",
   "metadata": {},
   "source": [
    "*extension1*\n",
    "\n",
    "re construct control group in IE\n",
    "to make a new var 'ctrl_exp_adopters_vlunt' if voluntarily swiching groups.exp\n",
    "same process in terms of pop as well\n",
    "(but ctrl_pop = vlunt, thus i didnt handle this group/ ctrl_pop_exp is as well)\n",
    "\n",
    "then, calculated following Table2 col1 and col2"
   ]
  },
  {
   "cell_type": "markdown",
   "metadata": {},
   "source": [
    "result:\n",
    "both cols reported lower effect on winning discount and days to awards.\n",
    "As the author mentioned the PAs which are reluctant to switch to FPAs experinced higher cost on ex post screening after forced switch, this re constructed ctrl group and voluntarily switched group's result shows that the previous ctrl group included PAs who actually wouldnt choose FPA even though they are available and this new recontruct control groups excluded them\n",
    "Thus, the previous coefficient of Days to awards was exaggerated by the PAs who actually do not change to FPAs and I could checked the coefficient's decreasing by re contruction of ctrl group"
   ]
  },
  {
   "cell_type": "markdown",
   "metadata": {},
   "source": [
    "*extension.2*\n",
    "\n",
    "The author mentioned that the absence of randomness is one of limitation. One of the assumptions to solve it, he assumed that Municipality of Turin and County of Turin is a randomly picked treated group with the assumption which is other PAs had switched their auction type to FPAs if so allowed. And I figure out that we can check this assumption is valid through additional data IE.dta which covers the period from 2006 to 2011. With this data, I could see the real switch to FPAs after the restriction removed. Furthermore, as he mentioned before, population and experience of awards are the main factors to induce switching to FPAs. Thus, I extract population and the number of awards(experience) to revise the existing control groups. Then recalculate the main table(table2)"
   ]
  },
  {
   "cell_type": "code",
   "execution_count": null,
   "metadata": {},
   "outputs": [],
   "source": [
    "extension_setting_auth(Authority, IE)"
   ]
  },
  {
   "cell_type": "markdown",
   "metadata": {},
   "source": [
    "Since the only experience gruop is differed, I checked only control group removed forced group's population values."
   ]
  },
  {
   "cell_type": "code",
   "execution_count": null,
   "metadata": {},
   "outputs": [],
   "source": [
    "ctrl_revised_reg = remove_aba_col1\n",
    "ctrl_revised_reg2 = remove_aba_col2"
   ]
  },
  {
   "cell_type": "markdown",
   "metadata": {},
   "source": [
    "We can compare this result with Table2. columns 1 and 2.  \n",
    "As a result, I could checked that "
   ]
  }
 ],
 "metadata": {
  "kernelspec": {
   "display_name": "Python 3",
   "language": "python",
   "name": "python3"
  },
  "language_info": {
   "codemirror_mode": {
    "name": "ipython",
    "version": 3
   },
   "file_extension": ".py",
   "mimetype": "text/x-python",
   "name": "python",
   "nbconvert_exporter": "python",
   "pygments_lexer": "ipython3",
   "version": "3.7.6"
  }
 },
 "nbformat": 4,
 "nbformat_minor": 4
}
