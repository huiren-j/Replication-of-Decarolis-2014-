{
 "cells": [
  {
   "cell_type": "code",
   "execution_count": 1,
   "metadata": {},
   "outputs": [
    {
     "name": "stdout",
     "output_type": "stream",
     "text": [
      "(16127, 31)\n"
     ]
    }
   ],
   "source": [
    "#main_taberconley_controls.do\n",
    "#sample.do\n",
    "#!pip install linearmodels\n",
    "#!pip install econtools\n",
    "import pandas as pd\n",
    "import numpy as np\n",
    "import matplotlib as plt\n",
    "from linearmodels import PanelOLS\n",
    "import statsmodels.api as sm\n",
    "import econtools as econ\n",
    "import econtools.metrics as mt\n",
    "\n",
    "df = pd.read_stata('data/Authority.dta')\n",
    "print(df.shape)\n",
    "#list(df.columns)\n",
    "\n",
    "#construct work category dummy\n",
    "df['OG03_dummy'] = 0\n",
    "df.loc[(df['work_category']=='OG03')&(df['work_category']!=''),'OG03_dummy'] = 1\n",
    "\n",
    "df['OG01_dummy'] = 0\n",
    "df.loc[(df['work_category']=='OG01')&(df['work_category']!=''),'OG01_dummy'] = 1\n",
    "\n",
    "df['OG_rest_dummy'] = 0\n",
    "df.loc[(df['OG01_dummy']!=1)&(df['OG03_dummy']!=1)&(df['work_category']!=''),'OG_rest_dummy'] = 1\n",
    "\n",
    "df['OG_dummy'] = 0\n",
    "df.loc[df['work_category'].str[0:2] == 'OG','OG_dummy'] = 1\n",
    "\n",
    "df['OS_dummy'] = 0\n",
    "df.loc[df['work_category'].str[0:2] == 'OS','OS_dummy'] = 1\n",
    "\n",
    "#treated vs controls\n",
    "df['trend'] = df['year'] - 1999\n",
    "\n",
    "df['trend_treat'] = df['trend']\n",
    "df.loc[(df['authority_code']!=3090272)&(df['authority_code']!=3070001),'trend_treat'] = 0\n",
    "#15225 real change made / no zeros in df['trend']\n",
    "#print(df['trend_treat'].value_counts()) chekced\n",
    "\n",
    "df['trend_control'] = df['trend']\n",
    "df.loc[(df['authority_code']==3090272)|(df['authority_code']==3070001),'trend_control'] = 0\n",
    "#902 real change made\n",
    "#print(df['trend_control'].value_counts()) checked\n",
    "\n",
    "#PA specifics\n",
    "df = df.sort_values(by='authority_code',ascending=True)\n",
    "#auth = econ.group_id(df, cols = 'authority_code')\n",
    "#print(auth) #dataframe\n",
    "\n",
    "auth_list = df['authority_code'].values.tolist()\n",
    "auth_list = list(set(auth_list))\n",
    "#겹치는 부분 = authority_code야\n",
    "#id_auth = group_id + 1 if df의 auth code == auth의 code\n",
    "\n",
    "df['id_auth'] = 0\n",
    "for i in range(len(df)):\n",
    "    for j in range(len(auth_list)):\n",
    "        if df.loc[i,'authority_code'] == auth_list[j]:\n",
    "            df.loc[i,'id_auth'] = j+1\n",
    "\n",
    "work_dum = pd.get_dummies(df['work_category'])\n",
    "year_dum = pd.get_dummies(df['year'])\n",
    "work_list = list(work_dum.columns)\n",
    "year_list = list(year_dum.columns)\n",
    "\n",
    "df_dum = pd.concat([year_dum, work_dum],axis = 1)\n",
    "df = pd.concat([df, df_dum],axis = 1)\n",
    "\n",
    "#for statement check            \n",
    "#df.head\n",
    "#print(max(df['id_path']))"
   ]
  },
  {
   "cell_type": "code",
   "execution_count": 2,
   "metadata": {},
   "outputs": [
    {
     "name": "stderr",
     "output_type": "stream",
     "text": [
      "C:\\Users\\thxkn\\anaconda3\\lib\\site-packages\\ipykernel_launcher.py:3: UserWarning: Boolean Series key will be reindexed to match DataFrame index.\n",
      "  This is separate from the ipykernel package so we can avoid doing imports until\n"
     ]
    }
   ],
   "source": [
    "#keep the observations need\n",
    "df5= df[((df['turin_co_sample'] == 1)|(df['turin_pr_sample']==1))&(df['post_experience']>=5)&(df['pre_experience']>=5)&(df['missing']==0)]\n",
    "df5= df5[(df5['ctrl_pop_turin_co_sample']==1) | (df5['ctrl_pop_turin_pr_sample']==1) | (df5['ctrl_exp_turin_co_sample']==1) | (df5['ctrl_exp_turin_pr_sample']==1) | (df5['ctrl_pop_exp_turin_co_sample']==1) | (df['ctrl_pop_exp_turin_pr_sample']==1)]"
   ]
  },
  {
   "cell_type": "code",
   "execution_count": 19,
   "metadata": {},
   "outputs": [
    {
     "ename": "KeyError",
     "evalue": "'id_auth_remained1'",
     "output_type": "error",
     "traceback": [
      "\u001b[1;31m---------------------------------------------------------------------------\u001b[0m",
      "\u001b[1;31mKeyError\u001b[0m                                  Traceback (most recent call last)",
      "\u001b[1;32m~\\anaconda3\\lib\\site-packages\\pandas\\core\\indexes\\base.py\u001b[0m in \u001b[0;36mget_loc\u001b[1;34m(self, key, method, tolerance)\u001b[0m\n\u001b[0;32m   2645\u001b[0m             \u001b[1;32mtry\u001b[0m\u001b[1;33m:\u001b[0m\u001b[1;33m\u001b[0m\u001b[1;33m\u001b[0m\u001b[0m\n\u001b[1;32m-> 2646\u001b[1;33m                 \u001b[1;32mreturn\u001b[0m \u001b[0mself\u001b[0m\u001b[1;33m.\u001b[0m\u001b[0m_engine\u001b[0m\u001b[1;33m.\u001b[0m\u001b[0mget_loc\u001b[0m\u001b[1;33m(\u001b[0m\u001b[0mkey\u001b[0m\u001b[1;33m)\u001b[0m\u001b[1;33m\u001b[0m\u001b[1;33m\u001b[0m\u001b[0m\n\u001b[0m\u001b[0;32m   2647\u001b[0m             \u001b[1;32mexcept\u001b[0m \u001b[0mKeyError\u001b[0m\u001b[1;33m:\u001b[0m\u001b[1;33m\u001b[0m\u001b[1;33m\u001b[0m\u001b[0m\n",
      "\u001b[1;32mpandas\\_libs\\index.pyx\u001b[0m in \u001b[0;36mpandas._libs.index.IndexEngine.get_loc\u001b[1;34m()\u001b[0m\n",
      "\u001b[1;32mpandas\\_libs\\index.pyx\u001b[0m in \u001b[0;36mpandas._libs.index.IndexEngine.get_loc\u001b[1;34m()\u001b[0m\n",
      "\u001b[1;32mpandas\\_libs\\index.pyx\u001b[0m in \u001b[0;36mpandas._libs.index.IndexEngine._get_loc_duplicates\u001b[1;34m()\u001b[0m\n",
      "\u001b[1;32mpandas\\_libs\\index.pyx\u001b[0m in \u001b[0;36mpandas._libs.index.IndexEngine._maybe_get_bool_indexer\u001b[1;34m()\u001b[0m\n",
      "\u001b[1;31mKeyError\u001b[0m: 'id_auth_remained1'",
      "\nDuring handling of the above exception, another exception occurred:\n",
      "\u001b[1;31mKeyError\u001b[0m                                  Traceback (most recent call last)",
      "\u001b[1;32m<ipython-input-19-e975c64898d4>\u001b[0m in \u001b[0;36m<module>\u001b[1;34m\u001b[0m\n\u001b[0;32m      7\u001b[0m \u001b[1;32mfor\u001b[0m \u001b[0mi\u001b[0m \u001b[1;32min\u001b[0m \u001b[0mrange\u001b[0m\u001b[1;33m(\u001b[0m\u001b[0mlen\u001b[0m\u001b[1;33m(\u001b[0m\u001b[0mauth_list\u001b[0m\u001b[1;33m)\u001b[0m\u001b[1;33m)\u001b[0m\u001b[1;33m:\u001b[0m\u001b[1;33m\u001b[0m\u001b[1;33m\u001b[0m\u001b[0m\n\u001b[0;32m      8\u001b[0m     \u001b[0mdf5\u001b[0m\u001b[1;33m[\u001b[0m\u001b[1;34m'trend_pa_remained'\u001b[0m\u001b[1;33m+\u001b[0m\u001b[0mstr\u001b[0m\u001b[1;33m(\u001b[0m\u001b[0mi\u001b[0m\u001b[1;33m+\u001b[0m\u001b[1;36m1\u001b[0m\u001b[1;33m)\u001b[0m\u001b[1;33m]\u001b[0m \u001b[1;33m=\u001b[0m\u001b[1;36m0\u001b[0m\u001b[1;33m\u001b[0m\u001b[1;33m\u001b[0m\u001b[0m\n\u001b[1;32m----> 9\u001b[1;33m     \u001b[1;32mif\u001b[0m \u001b[0mdf5\u001b[0m\u001b[1;33m[\u001b[0m\u001b[1;34m'id_auth_remained'\u001b[0m\u001b[1;33m+\u001b[0m\u001b[0mstr\u001b[0m\u001b[1;33m(\u001b[0m\u001b[0mi\u001b[0m\u001b[1;33m+\u001b[0m\u001b[1;36m1\u001b[0m\u001b[1;33m)\u001b[0m\u001b[1;33m]\u001b[0m\u001b[1;33m==\u001b[0m\u001b[1;36m1\u001b[0m \u001b[1;32mand\u001b[0m \u001b[1;33m(\u001b[0m\u001b[0mdf5\u001b[0m\u001b[1;33m[\u001b[0m\u001b[1;34m'authority_code'\u001b[0m\u001b[1;33m]\u001b[0m\u001b[1;33m!=\u001b[0m \u001b[1;36m3090272\u001b[0m\u001b[1;33m)\u001b[0m \u001b[1;32mand\u001b[0m \u001b[1;33m(\u001b[0m\u001b[0mdf5\u001b[0m\u001b[1;33m[\u001b[0m\u001b[1;34m'authority_code'\u001b[0m\u001b[1;33m]\u001b[0m\u001b[1;33m!=\u001b[0m\u001b[1;36m3070001\u001b[0m\u001b[1;33m)\u001b[0m\u001b[1;33m:\u001b[0m\u001b[1;33m\u001b[0m\u001b[1;33m\u001b[0m\u001b[0m\n\u001b[0m\u001b[0;32m     10\u001b[0m         \u001b[0mdf5\u001b[0m\u001b[1;33m.\u001b[0m\u001b[0mloc\u001b[0m\u001b[1;33m[\u001b[0m\u001b[0mi\u001b[0m \u001b[1;33m,\u001b[0m\u001b[1;34m'trend_pa_remained'\u001b[0m\u001b[1;33m+\u001b[0m\u001b[0mstr\u001b[0m\u001b[1;33m(\u001b[0m\u001b[0mi\u001b[0m\u001b[1;33m+\u001b[0m\u001b[1;36m1\u001b[0m\u001b[1;33m)\u001b[0m\u001b[1;33m]\u001b[0m \u001b[1;33m=\u001b[0m \u001b[0mdf5\u001b[0m\u001b[1;33m.\u001b[0m\u001b[0mloc\u001b[0m\u001b[1;33m[\u001b[0m\u001b[0mi\u001b[0m\u001b[1;33m,\u001b[0m \u001b[1;34m'trend'\u001b[0m\u001b[1;33m]\u001b[0m\u001b[1;33m\u001b[0m\u001b[1;33m\u001b[0m\u001b[0m\n",
      "\u001b[1;32m~\\anaconda3\\lib\\site-packages\\pandas\\core\\frame.py\u001b[0m in \u001b[0;36m__getitem__\u001b[1;34m(self, key)\u001b[0m\n\u001b[0;32m   2798\u001b[0m             \u001b[1;32mif\u001b[0m \u001b[0mself\u001b[0m\u001b[1;33m.\u001b[0m\u001b[0mcolumns\u001b[0m\u001b[1;33m.\u001b[0m\u001b[0mnlevels\u001b[0m \u001b[1;33m>\u001b[0m \u001b[1;36m1\u001b[0m\u001b[1;33m:\u001b[0m\u001b[1;33m\u001b[0m\u001b[1;33m\u001b[0m\u001b[0m\n\u001b[0;32m   2799\u001b[0m                 \u001b[1;32mreturn\u001b[0m \u001b[0mself\u001b[0m\u001b[1;33m.\u001b[0m\u001b[0m_getitem_multilevel\u001b[0m\u001b[1;33m(\u001b[0m\u001b[0mkey\u001b[0m\u001b[1;33m)\u001b[0m\u001b[1;33m\u001b[0m\u001b[1;33m\u001b[0m\u001b[0m\n\u001b[1;32m-> 2800\u001b[1;33m             \u001b[0mindexer\u001b[0m \u001b[1;33m=\u001b[0m \u001b[0mself\u001b[0m\u001b[1;33m.\u001b[0m\u001b[0mcolumns\u001b[0m\u001b[1;33m.\u001b[0m\u001b[0mget_loc\u001b[0m\u001b[1;33m(\u001b[0m\u001b[0mkey\u001b[0m\u001b[1;33m)\u001b[0m\u001b[1;33m\u001b[0m\u001b[1;33m\u001b[0m\u001b[0m\n\u001b[0m\u001b[0;32m   2801\u001b[0m             \u001b[1;32mif\u001b[0m \u001b[0mis_integer\u001b[0m\u001b[1;33m(\u001b[0m\u001b[0mindexer\u001b[0m\u001b[1;33m)\u001b[0m\u001b[1;33m:\u001b[0m\u001b[1;33m\u001b[0m\u001b[1;33m\u001b[0m\u001b[0m\n\u001b[0;32m   2802\u001b[0m                 \u001b[0mindexer\u001b[0m \u001b[1;33m=\u001b[0m \u001b[1;33m[\u001b[0m\u001b[0mindexer\u001b[0m\u001b[1;33m]\u001b[0m\u001b[1;33m\u001b[0m\u001b[1;33m\u001b[0m\u001b[0m\n",
      "\u001b[1;32m~\\anaconda3\\lib\\site-packages\\pandas\\core\\indexes\\base.py\u001b[0m in \u001b[0;36mget_loc\u001b[1;34m(self, key, method, tolerance)\u001b[0m\n\u001b[0;32m   2646\u001b[0m                 \u001b[1;32mreturn\u001b[0m \u001b[0mself\u001b[0m\u001b[1;33m.\u001b[0m\u001b[0m_engine\u001b[0m\u001b[1;33m.\u001b[0m\u001b[0mget_loc\u001b[0m\u001b[1;33m(\u001b[0m\u001b[0mkey\u001b[0m\u001b[1;33m)\u001b[0m\u001b[1;33m\u001b[0m\u001b[1;33m\u001b[0m\u001b[0m\n\u001b[0;32m   2647\u001b[0m             \u001b[1;32mexcept\u001b[0m \u001b[0mKeyError\u001b[0m\u001b[1;33m:\u001b[0m\u001b[1;33m\u001b[0m\u001b[1;33m\u001b[0m\u001b[0m\n\u001b[1;32m-> 2648\u001b[1;33m                 \u001b[1;32mreturn\u001b[0m \u001b[0mself\u001b[0m\u001b[1;33m.\u001b[0m\u001b[0m_engine\u001b[0m\u001b[1;33m.\u001b[0m\u001b[0mget_loc\u001b[0m\u001b[1;33m(\u001b[0m\u001b[0mself\u001b[0m\u001b[1;33m.\u001b[0m\u001b[0m_maybe_cast_indexer\u001b[0m\u001b[1;33m(\u001b[0m\u001b[0mkey\u001b[0m\u001b[1;33m)\u001b[0m\u001b[1;33m)\u001b[0m\u001b[1;33m\u001b[0m\u001b[1;33m\u001b[0m\u001b[0m\n\u001b[0m\u001b[0;32m   2649\u001b[0m         \u001b[0mindexer\u001b[0m \u001b[1;33m=\u001b[0m \u001b[0mself\u001b[0m\u001b[1;33m.\u001b[0m\u001b[0mget_indexer\u001b[0m\u001b[1;33m(\u001b[0m\u001b[1;33m[\u001b[0m\u001b[0mkey\u001b[0m\u001b[1;33m]\u001b[0m\u001b[1;33m,\u001b[0m \u001b[0mmethod\u001b[0m\u001b[1;33m=\u001b[0m\u001b[0mmethod\u001b[0m\u001b[1;33m,\u001b[0m \u001b[0mtolerance\u001b[0m\u001b[1;33m=\u001b[0m\u001b[0mtolerance\u001b[0m\u001b[1;33m)\u001b[0m\u001b[1;33m\u001b[0m\u001b[1;33m\u001b[0m\u001b[0m\n\u001b[0;32m   2650\u001b[0m         \u001b[1;32mif\u001b[0m \u001b[0mindexer\u001b[0m\u001b[1;33m.\u001b[0m\u001b[0mndim\u001b[0m \u001b[1;33m>\u001b[0m \u001b[1;36m1\u001b[0m \u001b[1;32mor\u001b[0m \u001b[0mindexer\u001b[0m\u001b[1;33m.\u001b[0m\u001b[0msize\u001b[0m \u001b[1;33m>\u001b[0m \u001b[1;36m1\u001b[0m\u001b[1;33m:\u001b[0m\u001b[1;33m\u001b[0m\u001b[1;33m\u001b[0m\u001b[0m\n",
      "\u001b[1;32mpandas\\_libs\\index.pyx\u001b[0m in \u001b[0;36mpandas._libs.index.IndexEngine.get_loc\u001b[1;34m()\u001b[0m\n",
      "\u001b[1;32mpandas\\_libs\\index.pyx\u001b[0m in \u001b[0;36mpandas._libs.index.IndexEngine.get_loc\u001b[1;34m()\u001b[0m\n",
      "\u001b[1;32mpandas\\_libs\\index.pyx\u001b[0m in \u001b[0;36mpandas._libs.index.IndexEngine._get_loc_duplicates\u001b[1;34m()\u001b[0m\n",
      "\u001b[1;32mpandas\\_libs\\index.pyx\u001b[0m in \u001b[0;36mpandas._libs.index.IndexEngine._maybe_get_bool_indexer\u001b[1;34m()\u001b[0m\n",
      "\u001b[1;31mKeyError\u001b[0m: 'id_auth_remained1'"
     ]
    }
   ],
   "source": [
    "#reconstruct trend_pa\n",
    "df['id_auth_remained'] = df['id_auth']\n",
    "id_auth_remained_dum = pd.get_dummies(df5['id_auth']).rename(columns=lambda x: 'id_auth_remained' + str(x))\n",
    "\n",
    "df = pd.concat([df, id_auth_remained_dum],axis = 1)\n",
    "\n",
    "for i in range(len(auth_list)):\n",
    "    df['trend_pa_remained'+str(i+1)] =0\n",
    "    if df['id_auth_remained'+str(i+1)]==1 and (df['authority_code']!= 3090272) and (df['authority_code']!=3070001):\n",
    "        df.loc[i ,'trend_pa_remained'+str(i+1)] = df.loc[i, 'trend']"
   ]
  },
  {
   "cell_type": "code",
   "execution_count": null,
   "metadata": {},
   "outputs": [],
   "source": [
    "#create dummies\n",
    "\n",
    "c_outcomes = 1\n",
    "i = 5\n",
    "\n",
    "for t in treatment:\n",
    "    for g in group:\n",
    "        for o in outcomes:\n",
    "            \n",
    "            #matrix = nc_ + o + t \n",
    "            df_tab5 = df[(df[t]==1) & (df[g +'_' + t]==1) & (df['post_experience']>=i) & (df['pre_experience']>=i) & (df['post_experience'].isnull()==False) & (df['pre_experience'].isnull()==False) & (df['missing']==0) & (df[o].isnull()==False) & (df['fiscal_efficiency'].isnull()==False) & (df['reserve_price'].isnull()==False) & (df['municipality'].isnull()=False) & (df['work_category']!=\"\")]\n",
    "            \n",
    "            "
   ]
  },
  {
   "cell_type": "code",
   "execution_count": null,
   "metadata": {},
   "outputs": [],
   "source": [
    "#create dummies for administration-year pairs \n",
    "\n",
    "all_years = df['year'].unique()\n",
    "all_authorities = df['authority_code'].unique\n",
    "for auth in all_authorities:\n",
    "    for yr in all_ywars:\n",
    "        df['auth_year_' + auth + yr] = 0\n",
    "        df.loc[(df['year']==yr) & (df['authority_code']==auth), 'auth_year_' + auth + yr ] = 1"
   ]
  },
  {
   "cell_type": "code",
   "execution_count": null,
   "metadata": {},
   "outputs": [],
   "source": [
    "# create dummies for work category\n",
    "from statsmodels.stats.outliers_influence import variance_inflation_factor\n",
    "\n",
    "all_categories = df['work_cateogory'].unique()\n",
    "i = 1\n",
    "for cat in all_categories:\n",
    "    df['cat_'+cat] = 0\n",
    "    df.loc[df['work_category']==cat, 'cat'+cat] =1\n",
    "    # Regression first stage \n",
    "    \n",
    "    # mutlicollinearity function\n",
    "    def calc_vif(X):\n",
    "\n",
    "        # Calculating VIF\n",
    "        vif = pd.DataFrame()\n",
    "        vif[\"variables\"] = X.columns\n",
    "        vif[\"VIF\"] = [variance_inflation_factor(X.values, i) for i in range(X.shape[1])]\n",
    "\n",
    "        return(vif)\n",
    "\n",
    "    #iteration\n",
    "for o in outcome:\n",
    "    #days_to_award(4,6)\n",
    "    idx = df_reg_co[df_reg_co[o].isnull()==True].index\n",
    "    df_name = df_reg_co.drop(idx)\n",
    "    \n",
    "    #vif cal\n",
    "    #first, make a column list\n",
    "    reg_col = []\n",
    "    for i in work_list:\n",
    "        reg_col.append(i)\n",
    "    for j in year_list:\n",
    "        reg_col.append(j)\n",
    "    exog_var = ['fpsb_auction','id_auth','reserve_price','municipality']\n",
    "    exog = exog_var + reg_col \n",
    "\n",
    "\n",
    "    #check multicollinearity\n",
    "    X = df_name.loc[:,exog]\n",
    "    vif = calc_vif(X)\n",
    "    #print(vif)\n",
    "\n",
    "\n",
    "    #delete from col list\n",
    "    for i in range(len(vif)):\n",
    "        if np.isnan(vif.loc[i, 'VIF']) == True:\n",
    "            reg_col.remove(vif.loc[i, 'variables'])\n",
    "        elif vif.loc[i,'VIF'] > 10:\n",
    "            for j in exog_var:\n",
    "                if str(vif.loc[i,'variables']) is j and vif.loc[i,'variables'] is not 'fpsb_auction' and vif.loc[i,'variables'] is not 'id_auth':\n",
    "                    exog_var.remove(vif.loc[i,'variables'])\n",
    "                \n",
    "    exog = exog_var + reg_col\n",
    "    exog.remove('id_auth')\n",
    "    exog.remove(2000)\n",
    "    exog.remove('OG01')\n",
    "    #exog.remove('municipality')\n",
    "\n",
    "    #print(exog) #check\n",
    "    fe_reg = mt.reg(df_name, o, exog, fe_name = 'authority_code', cluster = 'auth_anno')\n",
    "    print(fe_reg) \n",
    "\n",
    "    #미쳤다 코드 겁나 기네..."
   ]
  },
  {
   "cell_type": "code",
   "execution_count": null,
   "metadata": {},
   "outputs": [],
   "source": [
    "\n",
    "\n"
   ]
  }
 ],
 "metadata": {
  "kernelspec": {
   "display_name": "Python 3",
   "language": "python",
   "name": "python3"
  },
  "language_info": {
   "codemirror_mode": {
    "name": "ipython",
    "version": 3
   },
   "file_extension": ".py",
   "mimetype": "text/x-python",
   "name": "python",
   "nbconvert_exporter": "python",
   "pygments_lexer": "ipython3",
   "version": "3.7.6"
  }
 },
 "nbformat": 4,
 "nbformat_minor": 4
}
