{
 "cells": [
  {
   "cell_type": "code",
   "execution_count": null,
   "metadata": {},
   "outputs": [],
   "source": [
    "import pandas as pd\n",
    "import numpy as np\n",
    "import matplotlib as plt\n",
    "\n",
    "df = pd.read_stata('data/Authority.dta')\n",
    "print(df.shape)\n",
    "#list(df.columns)\n",
    "\n",
    "#construct work category dummy\n",
    "df['OG03_dummy'] = 0\n",
    "df.loc[(df['work_category']=='OG03')&(df['work_category']!=''),'OG03_dummy'] = 1\n",
    "\n",
    "df['OG01_dummy'] = 0\n",
    "df.loc[(df['work_category']=='OG01')&(df['work_category']!=''),'OG01_dummy'] = 1\n",
    "\n",
    "df['OG_rest_dummy'] = 0\n",
    "df.loc[(df['OG01_dummy']!=1)&(df['OG03_dummy']!=1)&(df['work_category']!=''),'OG_rest_dummy'] = 1\n",
    "\n",
    "df['OG_dummy'] = 0\n",
    "df.loc[df['work_category'].str[0:2] == 'OG','OG_dummy'] = 1\n",
    "\n",
    "df['OS_dummy'] = 0\n",
    "df.loc[df['work_category'].str[0:2] == 'OS','OS_dummy'] = 1\n",
    "\n",
    "#treated vs controls\n",
    "df['trend'] = df['year'] - 1999\n",
    "\n",
    "df['trend_treat'] = df['trend']\n",
    "df.loc[(df['authority_code']!=3090272)&(df['authority_code']!=3070001),'trend_treat'] = 0\n",
    "#15225 real change made / no zeros in df['trend']\n",
    "#print(df['trend_treat'].value_counts()) chekced\n",
    "\n",
    "df['trend_control'] = df['trend']\n",
    "df.loc[(df['authority_code']==3090272)|(df['authority_code']==3070001),'trend_control'] = 0\n",
    "#902 real change made\n",
    "#print(df['trend_control'].value_counts()) checked\n",
    "\n",
    "#PA specifics\n",
    "df = df.sort_values(by='authority_code',ascending=True)\n",
    "#auth = econ.group_id(df, cols = 'authority_code')\n",
    "#print(auth) #dataframe\n",
    "\n",
    "auth_list = df['authority_code'].values.tolist()\n",
    "auth_list = list(set(auth_list))\n",
    "#겹치는 부분 = authority_code야\n",
    "#id_auth = group_id + 1 if df의 auth code == auth의 code\n",
    "\n",
    "df['id_auth'] = 0\n",
    "for i in range(len(df)):\n",
    "    for j in range(len(auth_list)):\n",
    "        if df.loc[i,'authority_code'] == auth_list[j]:\n",
    "            df.loc[i,'id_auth'] = j+1\n",
    "\n",
    "#for statement check            \n",
    "#df.head\n",
    "#print(max(df['id_path']))"
   ]
  },
  {
   "cell_type": "code",
   "execution_count": null,
   "metadata": {},
   "outputs": [],
   "source": [
    "#table 3 = pr\n",
    "#(df['turin_pr_sample']==1)&(df['ctrl_exp_turin_pr_sample']==1)\n",
    "df_reg_exp = df[(df['turin_pr_sample']==1)&(df['ctrl_exp_turin_pr_sample']==1)&(df['post_experience']>= 5) & (df['pre_experience']>=5) &(df['post_experience'].isnull() == False ) & (df['pre_experience'].isnull()==False)&(df['missing']==0)]\n",
    "year = pd.Categorical(df_reg_exp.year)\n",
    "\n",
    "id_auth = pd.Categorical(df_reg_exp.id_auth)\n",
    "df_reg_exp = df_reg_exp.set_index(['authority_code', 'year'])\n",
    "df_reg_exp['year'] = year\n",
    "df_reg_exp['auth_anno'] = id_auth\n",
    "exog_var = ['fpsb_auction','year','auth_anno']\n",
    "exog = sm.add_constant(df_reg_exp[exog_var])\n",
    "mod = PanelOLS(df_reg_exp.discount, exog, time_effects=True, drop_absorbed = True)  \n",
    "fe_res = mod.fit()  \n",
    "print(fe_res) \n",
    "#value chekced"
   ]
  },
  {
   "cell_type": "code",
   "execution_count": null,
   "metadata": {},
   "outputs": [],
   "source": []
  }
 ],
 "metadata": {
  "kernelspec": {
   "display_name": "Python 3",
   "language": "python",
   "name": "python3"
  },
  "language_info": {
   "codemirror_mode": {
    "name": "ipython",
    "version": 3
   },
   "file_extension": ".py",
   "mimetype": "text/x-python",
   "name": "python",
   "nbconvert_exporter": "python",
   "pygments_lexer": "ipython3",
   "version": "3.7.6"
  }
 },
 "nbformat": 4,
 "nbformat_minor": 4
}
