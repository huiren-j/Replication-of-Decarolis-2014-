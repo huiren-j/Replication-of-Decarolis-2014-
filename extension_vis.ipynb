{
 "cells": [
  {
   "cell_type": "code",
   "execution_count": 1,
   "metadata": {},
   "outputs": [],
   "source": [
    "#extension_visualization\n",
    "import pandas as pd\n",
    "import numpy as np\n",
    "import matplotlib as plt  \n",
    "from linearmodels import PanelOLS\n",
    "import statsmodels.api as sm\n",
    "\n",
    "from econtools import read, outreg, table_statrow, write_notes\n",
    "import econtools as econ\n",
    "import econtools.metrics as mt\n",
    "\n",
    "#!pip install pylatex\n",
    "#!pip install pylatex[matrices]\n",
    "from econtools import read, outreg, table_statrow, write_notes\n",
    "from pylatex import Document, Section, Subsection, Tabular, Math, TikZ, Axis, \\\n",
    "    Plot, Figure, Matrix, Alignat\n",
    "from pylatex.utils import italic\n",
    "import os\n",
    "\n",
    "df = pd.read_stata('data/Authority.dta')\n",
    "\n",
    "#construct work category dummy\n",
    "df['OG03_dummy'] = 0\n",
    "df.loc[(df['work_category']=='OG03')&(df['work_category']!=''),'OG03_dummy'] = 1\n",
    "\n",
    "df['OG01_dummy'] = 0\n",
    "df.loc[(df['work_category']=='OG01')&(df['work_category']!=''),'OG01_dummy'] = 1\n",
    "\n",
    "df['OG_rest_dummy'] = 0\n",
    "df.loc[(df['OG01_dummy']!=1)&(df['OG03_dummy']!=1)&(df['work_category']!=''),'OG_rest_dummy'] = 1\n",
    "\n",
    "df['OG_dummy'] = 0\n",
    "df.loc[df['work_category'].str[0:2] == 'OG','OG_dummy'] = 1\n",
    "\n",
    "df['OS_dummy'] = 0\n",
    "df.loc[df['work_category'].str[0:2] == 'OS','OS_dummy'] = 1\n",
    "\n",
    "#treated vs controls\n",
    "df['trend'] = df['year'] - 1999\n",
    "\n",
    "df['trend_treat'] = df['trend']\n",
    "df.loc[(df['authority_code']!=3090272)&(df['authority_code']!=3070001),'trend_treat'] = 0\n",
    "#15225 real change made / no zeros in df['trend']\n",
    "#print(df['trend_treat'].value_counts()) chekced\n",
    "\n",
    "df['trend_control'] = df['trend']\n",
    "df.loc[(df['authority_code']==3090272)|(df['authority_code']==3070001),'trend_control'] = 0\n",
    "#902 real change made\n",
    "#print(df['trend_control'].value_counts()) checked\n",
    "\n",
    "#PA specifics\n",
    "df = df.sort_values(by='authority_code',ascending=True)\n",
    "#auth = econ.group_id(df, cols = 'authority_code')\n",
    "#print(auth) #dataframe\n",
    "\n",
    "auth_list = df['authority_code'].values.tolist()\n",
    "auth_list = list(set(auth_list))\n",
    "#겹치는 부분 = authority_code야\n",
    "#id_auth = group_id + 1 if df의 auth code == auth의 code\n",
    "\n",
    "df['id_auth'] = 0\n",
    "for i in range(len(df)):\n",
    "    for j in range(len(auth_list)):\n",
    "        if df.loc[i,'authority_code'] == auth_list[j]:\n",
    "            df.loc[i,'id_auth'] = j+1\n",
    "\n",
    "work_dum = pd.get_dummies(df['work_category'])\n",
    "year_dum = pd.get_dummies(df['year'])\n",
    "work_list = list(work_dum.columns)\n",
    "year_list = list(year_dum.columns)\n",
    "\n",
    "df_dum = pd.concat([year_dum, work_dum],axis = 1)\n",
    "df = pd.concat([df, df_dum],axis = 1)"
   ]
  },
  {
   "cell_type": "code",
   "execution_count": 2,
   "metadata": {},
   "outputs": [
    {
     "name": "stderr",
     "output_type": "stream",
     "text": [
      "C:\\Users\\thxkn\\anaconda3\\lib\\site-packages\\statsmodels\\stats\\outliers_influence.py:193: RuntimeWarning: divide by zero encountered in double_scalars\n",
      "  vif = 1. / (1. - r_squared_i)\n",
      "C:\\Users\\thxkn\\anaconda3\\lib\\site-packages\\statsmodels\\regression\\linear_model.py:1685: RuntimeWarning: invalid value encountered in double_scalars\n",
      "  return 1 - self.ssr/self.centered_tss\n"
     ]
    }
   ],
   "source": [
    "#table2 col 2 for all outcomes\n",
    "#f.write r2 and N\n",
    "#talbe 2 col2 fianl version\n",
    "#to make iterable\n",
    "#스엉공..\n",
    "df_reg_co = df[(df['turin_co_sample']==1)&(df['ctrl_exp_turin_co_sample']==1)&(df['post_experience']>= 5) & (df['pre_experience']>=5) &(df['post_experience'].isnull() == False ) & (df['pre_experience'].isnull()==False)&(df['missing']==0)]\n",
    "outcome = ['discount', 'delay_ratio', 'overrun_ratio', 'days_to_award']\n",
    "\n",
    "# mutlicollinearity function\n",
    "from statsmodels.stats.outliers_influence import variance_inflation_factor\n",
    "def calc_vif(X):\n",
    "\n",
    "    # Calculating VIF\n",
    "    vif = pd.DataFrame()\n",
    "    vif[\"variables\"] = X.columns\n",
    "    vif[\"VIF\"] = [variance_inflation_factor(X.values, i) for i in range(X.shape[1])]\n",
    "\n",
    "    return(vif)\n",
    "\n",
    "#iteration\n",
    "for o in outcome:\n",
    "    #idx = df_reg_co[df_reg_co[o].isnull()==True].index\n",
    "    #df_name = df_reg_co.drop(idx)\n",
    "    \n",
    "    #vif cal\n",
    "    #first, make a column list\n",
    "    reg_col = []\n",
    "    for i in work_list:\n",
    "        reg_col.append(i)\n",
    "    for j in year_list:\n",
    "        reg_col.append(j)\n",
    "    exog_var = ['fpsb_auction','id_auth','reserve_price','municipality']\n",
    "    exog = exog_var + reg_col \n",
    "\n",
    "\n",
    "    #check multicollinearity\n",
    "    X = df_reg_co.loc[:,exog]\n",
    "    vif = calc_vif(X)\n",
    "    #print(vif)\n",
    "\n",
    "\n",
    "    #delete from col list\n",
    "    for i in range(len(vif)):\n",
    "        if np.isnan(vif.loc[i, 'VIF']) == True:\n",
    "            reg_col.remove(vif.loc[i, 'variables'])\n",
    "        elif vif.loc[i,'VIF'] > 10:\n",
    "            for j in exog_var:\n",
    "                if str(vif.loc[i,'variables']) is j and vif.loc[i,'variables'] is not 'fpsb_auction' and vif.loc[i,'variables'] is not 'id_auth':\n",
    "                    exog_var.remove(vif.loc[i,'variables'])\n",
    "                \n",
    "    exog = exog_var + reg_col\n",
    "    exog.remove('id_auth')\n",
    "    exog.remove(2000)\n",
    "    exog.remove('OG01')\n",
    "        #exog.remove('municipality')\n",
    "\n",
    "    if o == 'discount':\n",
    "        fe_reg_discount = mt.reg(df_reg_co, o, exog, fe_name = 'authority_code', cluster = 'auth_anno')\n",
    "    elif o == 'delay_ratio':\n",
    "        fe_reg_delay = mt.reg(df_reg_co, o, exog, fe_name = 'authority_code', cluster = 'auth_anno')\n",
    "    elif o == 'overrun_ratio':\n",
    "        exog.remove('OS07')\n",
    "        fe_reg_overrun = mt.reg(df_reg_co, o, exog, fe_name = 'authority_code', cluster = 'auth_anno',check_colinear = True)\n",
    "    else :\n",
    "        exog.remove('OG04')\n",
    "        exog.remove('OS05')\n",
    "        exog.remove('OS07')\n",
    "        exog.remove('OS11')\n",
    "        exog.remove('OS26')\n",
    "        fe_reg_award = mt.reg(df_reg_co, o, exog, fe_name = 'authority_code', cluster = 'auth_anno',check_colinear = True)\n",
    "\n",
    "result_path = 'my_result.tex'\n",
    "with open(result_path,'w') as f:\n",
    "    reg = (fe_reg_discount, fe_reg_delay, fe_reg_overrun, fe_reg_award )\n",
    "    table_string = outreg(reg, ['fpsb_auction'], ['First Price Auction'], digits = 3)\n",
    "    #table_string += '\\\\\\ \\n'\n",
    "    table_string += table_statrow(\"R$^2$\", [x.r2 for x in reg], digits =3)\n",
    "    table_string += table_statrow(\"Number of Observation\", [x.N for x in reg])\n",
    "        #table_string += table_statrwo(\"Stdard Error\",[iterable])\n",
    "    f.write(table_string + '\\n')"
   ]
  },
  {
   "cell_type": "code",
   "execution_count": 8,
   "metadata": {},
   "outputs": [
    {
     "ename": "AttributeError",
     "evalue": "'str' object has no attribute 'lsplit'",
     "output_type": "error",
     "traceback": [
      "\u001b[1;31m---------------------------------------------------------------------------\u001b[0m",
      "\u001b[1;31mAttributeError\u001b[0m                            Traceback (most recent call last)",
      "\u001b[1;32m<ipython-input-8-90663434132a>\u001b[0m in \u001b[0;36m<module>\u001b[1;34m\u001b[0m\n\u001b[0;32m      1\u001b[0m \u001b[0mtable_list\u001b[0m \u001b[1;33m=\u001b[0m \u001b[0mtable_string\u001b[0m\u001b[1;33m.\u001b[0m\u001b[0msplit\u001b[0m\u001b[1;33m(\u001b[0m\u001b[1;34m'&'\u001b[0m\u001b[1;33m)\u001b[0m\u001b[1;33m\u001b[0m\u001b[1;33m\u001b[0m\u001b[0m\n\u001b[0;32m      2\u001b[0m \u001b[1;31m#type = list\u001b[0m\u001b[1;33m\u001b[0m\u001b[1;33m\u001b[0m\u001b[1;33m\u001b[0m\u001b[0m\n\u001b[1;32m----> 3\u001b[1;33m \u001b[0mtable_list\u001b[0m \u001b[1;33m=\u001b[0m \u001b[1;33m[\u001b[0m\u001b[0mi\u001b[0m\u001b[1;33m.\u001b[0m\u001b[0mlsplit\u001b[0m\u001b[1;33m(\u001b[0m\u001b[1;34m' '\u001b[0m\u001b[1;33m,\u001b[0m \u001b[1;33m-\u001b[0m\u001b[1;36m1\u001b[0m\u001b[1;33m)\u001b[0m\u001b[1;33m[\u001b[0m\u001b[1;36m0\u001b[0m\u001b[1;33m]\u001b[0m \u001b[1;32mfor\u001b[0m \u001b[0mi\u001b[0m \u001b[1;32min\u001b[0m \u001b[0mtable_list\u001b[0m\u001b[1;33m]\u001b[0m\u001b[1;33m\u001b[0m\u001b[1;33m\u001b[0m\u001b[0m\n\u001b[0m",
      "\u001b[1;32m<ipython-input-8-90663434132a>\u001b[0m in \u001b[0;36m<listcomp>\u001b[1;34m(.0)\u001b[0m\n\u001b[0;32m      1\u001b[0m \u001b[0mtable_list\u001b[0m \u001b[1;33m=\u001b[0m \u001b[0mtable_string\u001b[0m\u001b[1;33m.\u001b[0m\u001b[0msplit\u001b[0m\u001b[1;33m(\u001b[0m\u001b[1;34m'&'\u001b[0m\u001b[1;33m)\u001b[0m\u001b[1;33m\u001b[0m\u001b[1;33m\u001b[0m\u001b[0m\n\u001b[0;32m      2\u001b[0m \u001b[1;31m#type = list\u001b[0m\u001b[1;33m\u001b[0m\u001b[1;33m\u001b[0m\u001b[1;33m\u001b[0m\u001b[0m\n\u001b[1;32m----> 3\u001b[1;33m \u001b[0mtable_list\u001b[0m \u001b[1;33m=\u001b[0m \u001b[1;33m[\u001b[0m\u001b[0mi\u001b[0m\u001b[1;33m.\u001b[0m\u001b[0mlsplit\u001b[0m\u001b[1;33m(\u001b[0m\u001b[1;34m' '\u001b[0m\u001b[1;33m,\u001b[0m \u001b[1;33m-\u001b[0m\u001b[1;36m1\u001b[0m\u001b[1;33m)\u001b[0m\u001b[1;33m[\u001b[0m\u001b[1;36m0\u001b[0m\u001b[1;33m]\u001b[0m \u001b[1;32mfor\u001b[0m \u001b[0mi\u001b[0m \u001b[1;32min\u001b[0m \u001b[0mtable_list\u001b[0m\u001b[1;33m]\u001b[0m\u001b[1;33m\u001b[0m\u001b[1;33m\u001b[0m\u001b[0m\n\u001b[0m",
      "\u001b[1;31mAttributeError\u001b[0m: 'str' object has no attribute 'lsplit'"
     ]
    }
   ],
   "source": [
    "table_list = table_string.split('&')\n",
    "#type = list\n",
    "#table_list = [i.lsplit(' ', -1)[0] for i in table_list]"
   ]
  },
  {
   "cell_type": "code",
   "execution_count": 11,
   "metadata": {},
   "outputs": [
    {
     "ename": "TypeError",
     "evalue": "data type not understood",
     "output_type": "error",
     "traceback": [
      "\u001b[1;31m---------------------------------------------------------------------------\u001b[0m",
      "\u001b[1;31mTypeError\u001b[0m                                 Traceback (most recent call last)",
      "\u001b[1;32m<ipython-input-11-7e1b7dc85ffc>\u001b[0m in \u001b[0;36m<module>\u001b[1;34m\u001b[0m\n\u001b[0;32m     12\u001b[0m     \u001b[1;32melse\u001b[0m\u001b[1;33m:\u001b[0m\u001b[1;33m\u001b[0m\u001b[1;33m\u001b[0m\u001b[0m\n\u001b[0;32m     13\u001b[0m         \u001b[0mlist_N\u001b[0m\u001b[1;33m.\u001b[0m\u001b[0mappend\u001b[0m\u001b[1;33m(\u001b[0m\u001b[0mtable_list2\u001b[0m\u001b[1;33m[\u001b[0m\u001b[0mi\u001b[0m\u001b[1;33m]\u001b[0m\u001b[1;33m)\u001b[0m\u001b[1;33m\u001b[0m\u001b[1;33m\u001b[0m\u001b[0m\n\u001b[1;32m---> 14\u001b[1;33m \u001b[0mtable_series\u001b[0m \u001b[1;33m=\u001b[0m \u001b[0mpd\u001b[0m\u001b[1;33m.\u001b[0m\u001b[0mSeries\u001b[0m\u001b[1;33m(\u001b[0m\u001b[0mlist_fpa\u001b[0m\u001b[1;33m,\u001b[0m \u001b[0mlist_r2\u001b[0m\u001b[1;33m,\u001b[0m \u001b[0mlist_N\u001b[0m\u001b[1;33m)\u001b[0m\u001b[1;33m\u001b[0m\u001b[1;33m\u001b[0m\u001b[0m\n\u001b[0m\u001b[0;32m     15\u001b[0m \u001b[0mprint\u001b[0m\u001b[1;33m(\u001b[0m\u001b[0mtable_series\u001b[0m\u001b[1;33m)\u001b[0m\u001b[1;33m\u001b[0m\u001b[1;33m\u001b[0m\u001b[0m\n",
      "\u001b[1;32m~\\anaconda3\\lib\\site-packages\\pandas\\core\\series.py\u001b[0m in \u001b[0;36m__init__\u001b[1;34m(self, data, index, dtype, name, copy, fastpath)\u001b[0m\n\u001b[0;32m    218\u001b[0m                 \u001b[0mdata\u001b[0m \u001b[1;33m=\u001b[0m \u001b[1;33m{\u001b[0m\u001b[1;33m}\u001b[0m\u001b[1;33m\u001b[0m\u001b[1;33m\u001b[0m\u001b[0m\n\u001b[0;32m    219\u001b[0m             \u001b[1;32mif\u001b[0m \u001b[0mdtype\u001b[0m \u001b[1;32mis\u001b[0m \u001b[1;32mnot\u001b[0m \u001b[1;32mNone\u001b[0m\u001b[1;33m:\u001b[0m\u001b[1;33m\u001b[0m\u001b[1;33m\u001b[0m\u001b[0m\n\u001b[1;32m--> 220\u001b[1;33m                 \u001b[0mdtype\u001b[0m \u001b[1;33m=\u001b[0m \u001b[0mself\u001b[0m\u001b[1;33m.\u001b[0m\u001b[0m_validate_dtype\u001b[0m\u001b[1;33m(\u001b[0m\u001b[0mdtype\u001b[0m\u001b[1;33m)\u001b[0m\u001b[1;33m\u001b[0m\u001b[1;33m\u001b[0m\u001b[0m\n\u001b[0m\u001b[0;32m    221\u001b[0m \u001b[1;33m\u001b[0m\u001b[0m\n\u001b[0;32m    222\u001b[0m             \u001b[1;32mif\u001b[0m \u001b[0misinstance\u001b[0m\u001b[1;33m(\u001b[0m\u001b[0mdata\u001b[0m\u001b[1;33m,\u001b[0m \u001b[0mMultiIndex\u001b[0m\u001b[1;33m)\u001b[0m\u001b[1;33m:\u001b[0m\u001b[1;33m\u001b[0m\u001b[1;33m\u001b[0m\u001b[0m\n",
      "\u001b[1;32m~\\anaconda3\\lib\\site-packages\\pandas\\core\\generic.py\u001b[0m in \u001b[0;36m_validate_dtype\u001b[1;34m(self, dtype)\u001b[0m\n\u001b[0;32m    257\u001b[0m \u001b[1;33m\u001b[0m\u001b[0m\n\u001b[0;32m    258\u001b[0m         \u001b[1;32mif\u001b[0m \u001b[0mdtype\u001b[0m \u001b[1;32mis\u001b[0m \u001b[1;32mnot\u001b[0m \u001b[1;32mNone\u001b[0m\u001b[1;33m:\u001b[0m\u001b[1;33m\u001b[0m\u001b[1;33m\u001b[0m\u001b[0m\n\u001b[1;32m--> 259\u001b[1;33m             \u001b[0mdtype\u001b[0m \u001b[1;33m=\u001b[0m \u001b[0mpandas_dtype\u001b[0m\u001b[1;33m(\u001b[0m\u001b[0mdtype\u001b[0m\u001b[1;33m)\u001b[0m\u001b[1;33m\u001b[0m\u001b[1;33m\u001b[0m\u001b[0m\n\u001b[0m\u001b[0;32m    260\u001b[0m \u001b[1;33m\u001b[0m\u001b[0m\n\u001b[0;32m    261\u001b[0m             \u001b[1;31m# a compound dtype\u001b[0m\u001b[1;33m\u001b[0m\u001b[1;33m\u001b[0m\u001b[1;33m\u001b[0m\u001b[0m\n",
      "\u001b[1;32m~\\anaconda3\\lib\\site-packages\\pandas\\core\\dtypes\\common.py\u001b[0m in \u001b[0;36mpandas_dtype\u001b[1;34m(dtype)\u001b[0m\n\u001b[0;32m   1872\u001b[0m     \u001b[1;31m# raise a consistent TypeError if failed\u001b[0m\u001b[1;33m\u001b[0m\u001b[1;33m\u001b[0m\u001b[1;33m\u001b[0m\u001b[0m\n\u001b[0;32m   1873\u001b[0m     \u001b[1;32mtry\u001b[0m\u001b[1;33m:\u001b[0m\u001b[1;33m\u001b[0m\u001b[1;33m\u001b[0m\u001b[0m\n\u001b[1;32m-> 1874\u001b[1;33m         \u001b[0mnpdtype\u001b[0m \u001b[1;33m=\u001b[0m \u001b[0mnp\u001b[0m\u001b[1;33m.\u001b[0m\u001b[0mdtype\u001b[0m\u001b[1;33m(\u001b[0m\u001b[0mdtype\u001b[0m\u001b[1;33m)\u001b[0m\u001b[1;33m\u001b[0m\u001b[1;33m\u001b[0m\u001b[0m\n\u001b[0m\u001b[0;32m   1875\u001b[0m     \u001b[1;32mexcept\u001b[0m \u001b[0mSyntaxError\u001b[0m\u001b[1;33m:\u001b[0m\u001b[1;33m\u001b[0m\u001b[1;33m\u001b[0m\u001b[0m\n\u001b[0;32m   1876\u001b[0m         \u001b[1;31m# np.dtype uses `eval` which can raise SyntaxError\u001b[0m\u001b[1;33m\u001b[0m\u001b[1;33m\u001b[0m\u001b[1;33m\u001b[0m\u001b[0m\n",
      "\u001b[1;31mTypeError\u001b[0m: data type not understood"
     ]
    }
   ],
   "source": [
    "table_list2 = [i.split('\\\\\\\\ \\n',1)[0] for i in table_list]\n",
    "#print(table_list2)\n",
    "#문제는 R제곱같은 게 같이 없어짐\n",
    "list_fpa =[]\n",
    "list_r2 =[]\n",
    "list_N = []\n",
    "for i in range(len(table_list2)):\n",
    "    if i<5:\n",
    "        list_fpa.append(table_list2[i])\n",
    "    elif i>=5 and i<9:\n",
    "        list_r2.append(table_list2[i])\n",
    "    else:\n",
    "        list_N.append(table_list2[i])\n",
    "table_series = pd.Series(list_fpa, list_r2, list_N)"
   ]
  },
  {
   "cell_type": "code",
   "execution_count": null,
   "metadata": {},
   "outputs": [],
   "source": [
    "table_series =pd.Series(table_string)\n",
    "#tb_2 = table_series.str.split('\\\\\\ \\n')\n",
    "#tb_2 = table_series.str.split('\\\\\\\\')\n",
    "tb_2 = table_series.str.split('&')\n",
    "#tb_2.to_dict()"
   ]
  },
  {
   "cell_type": "code",
   "execution_count": null,
   "metadata": {},
   "outputs": [],
   "source": [
    "print(tb_2.values)"
   ]
  },
  {
   "cell_type": "code",
   "execution_count": null,
   "metadata": {},
   "outputs": [],
   "source": [
    "df_table = pd.DataFrame({'table2':[tb_2.keys], 'table2_val':[tb_2.values]})\n",
    "df_table.head()"
   ]
  },
  {
   "cell_type": "code",
   "execution_count": null,
   "metadata": {},
   "outputs": [],
   "source": [
    "# df\n",
    "df_string = pd.DataFrame({'table2':[table_string]})\n",
    "#df['strip'] = df['table2'].str.strip()\n",
    "#df['lstrip'] = df['table2'].str.lstrip()\n",
    "#df['rstrip'] = df['table2'].str.rstrip()\n",
    "df[[df[1]] = df['table2'].str.split('&', n=3, expand=True)\n",
    "# = df['table2'].str.partition(sep='&')\n",
    "df\n"
   ]
  }
 ],
 "metadata": {
  "kernelspec": {
   "display_name": "Python 3",
   "language": "python",
   "name": "python3"
  },
  "language_info": {
   "codemirror_mode": {
    "name": "ipython",
    "version": 3
   },
   "file_extension": ".py",
   "mimetype": "text/x-python",
   "name": "python",
   "nbconvert_exporter": "python",
   "pygments_lexer": "ipython3",
   "version": "3.7.6"
  }
 },
 "nbformat": 4,
 "nbformat_minor": 4
}
