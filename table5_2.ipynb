{
 "cells": [
  {
   "cell_type": "code",
   "execution_count": 1,
   "metadata": {},
   "outputs": [],
   "source": [
    "import pandas as pd\n",
    "import numpy as np\n",
    "import matplotlib as plt\n",
    "from linearmodels import PanelOLS\n",
    "import statsmodels.api as sm\n",
    "import econtools as econ\n",
    "import econtools.metrics as mt\n",
    "import math\n",
    "from statsmodels.stats.outliers_influence import variance_inflation_factor\n",
    "\n",
    "\n",
    "from auxiliary.prepare import *\n",
    "#from auxiliary.table2 import *\n",
    "#from auxiliary.table3 import *\n",
    "from auxiliary.table4 import *\n",
    "#from auxiliary.table6 import *\n",
    "#from auxiliary.table_formula import *"
   ]
  },
  {
   "cell_type": "code",
   "execution_count": 2,
   "metadata": {},
   "outputs": [],
   "source": [
    "data = pd.read_stata('data/Authority.dta')\n",
    "\n",
    "#data for table2,3,5,6\n",
    "data = basic_setting(data)"
   ]
  },
  {
   "cell_type": "code",
   "execution_count": 3,
   "metadata": {},
   "outputs": [],
   "source": [
    "def calc_vif(X):\n",
    "    vif = pd.DataFrame()\n",
    "    vif[\"variables\"] = X.columns\n",
    "    vif[\"VIF\"] = [variance_inflation_factor(X.values, i) for i in range(X.shape[1])]\n",
    "\n",
    "    return(vif)"
   ]
  },
  {
   "cell_type": "code",
   "execution_count": 4,
   "metadata": {},
   "outputs": [
    {
     "data": {
      "text/plain": [
       "(2016, 94)"
      ]
     },
     "execution_count": 4,
     "metadata": {},
     "output_type": "execute_result"
    }
   ],
   "source": [
    "#keep the observation needed\n",
    "df = data\n",
    "df = df[((df['turin_co_sample']==1) | (df['turin_pr_sample']==1)) & ((df['post_experience']>=5)|(df['post_experience'].isnull()==True))  & ((df['pre_experience']>=5)|(df['pre_experience'].isnull()==True))& (df['missing']==0)]\n",
    "df = df[(df['ctrl_pop_turin_co_sample']==1) | (df['ctrl_pop_turin_pr_sample']==1) | (df['ctrl_exp_turin_co_sample']==1) | (df['ctrl_exp_turin_pr_sample']==1) | (df['ctrl_pop_exp_turin_co_sample']==1) | (df['ctrl_pop_exp_turin_pr_sample']==1)]\n",
    "df = df.reset_index()\n",
    "df.shape"
   ]
  },
  {
   "cell_type": "code",
   "execution_count": 5,
   "metadata": {},
   "outputs": [],
   "source": [
    "#re-construct trend-pa\n",
    "id_auth_remained = df['id_auth'].unique()\n",
    "id_auth_remained_df = pd.DataFrame({'id_auth': [], 'group_num': []})\n",
    "for i in range(len(id_auth_remained)):\n",
    "    id_auth_remained_df.loc[i,'id_auth'] = id_auth_remained[i]\n",
    "    id_auth_remained_df.loc[i,'group_num'] = i+1\n",
    "\n",
    "for i in range(len(df)):\n",
    "    for j in range(len(id_auth_remained_df)):\n",
    "        if df.loc[i, 'id_auth'] == id_auth_remained_df.loc[j, 'id_auth']:\n",
    "            df.loc[i, 'id_auth_remained'] = j+1\n",
    "id_auth_remained_dum = pd.get_dummies(df['id_auth_remained']).rename(columns=lambda x: 'id_auth_remained' + str(x))\n",
    "df = pd.concat([df, id_auth_remained_dum],axis = 1)\n",
    "\n",
    "#df['id_auth_remained'].value_counts()\n",
    "#value checked"
   ]
  },
  {
   "cell_type": "code",
   "execution_count": 6,
   "metadata": {},
   "outputs": [],
   "source": [
    "#re-contstruc trend-pa 시작\n",
    "for i in range(len(id_auth_remained_dum.columns)):\n",
    "    df['trend_pa_remained_'+str(i+1)] = 0\n",
    "    for j in range(len(df)):\n",
    "        if df.loc[j, id_auth_remained_dum.columns[i]]==1 and df.loc[j, 'authority_code']!=3090272 and df.loc[j, 'authority_code']!=3070001:\n",
    "            df.loc[j,'trend_pa_remained_'+str(i+1)] = 1\n",
    "    df.drop([id_auth_remained_dum.columns[i]],axis = 1)"
   ]
  },
  {
   "cell_type": "code",
   "execution_count": 16,
   "metadata": {},
   "outputs": [],
   "source": [
    "c_outcomes=1\n",
    "t = \"turin_co_sample\"\n",
    "g = \"ctrl_exp\"\n",
    "o = \"discount\"\n",
    "i = 5\n",
    "\n",
    "###First SPECIFICATION###\n",
    "#setting for first specification df1\n",
    "df1 = df\n",
    "#work_category = 공백이나 nan값없어서 필터링 안함\n",
    "df1 = df1[(df1[t]==1) & (df1[g +'_' + t]==1) & (df1['post_experience']>=i) & (df1['pre_experience']>=i)& (df1['post_experience'].isnull()==False) & (df1['pre_experience'].isnull()==False) & (df1['missing']==0) & (df1[o].isnull()==False) & (df1['fiscal_efficiency'].isnull()==False) & (df1['reserve_price'].isnull()==False)&(df1['municipality'].isnull()==False)]\n",
    "\n",
    "df1 = df1.reset_index() #to use loc\n",
    "df1 = df1.sort_values(by = 'authority_code', ascending = True)\n",
    "#df1 value checked 1262\n",
    "\n",
    "df1['ind'] = np.nan\n",
    "for i in range(len(df1)):\n",
    "    if i == 0:\n",
    "        df1.loc[i, 'ind'] = 1\n",
    "    else:\n",
    "        if df1.loc[i, 'authority_code'] != df1.loc[i-1, 'authority_code']:\n",
    "            df1.loc[i, 'ind'] = 1\n",
    "#ind sum=15 checked"
   ]
  },
  {
   "cell_type": "code",
   "execution_count": 17,
   "metadata": {},
   "outputs": [
    {
     "data": {
      "text/plain": [
       "'2005.0'"
      ]
     },
     "execution_count": 17,
     "metadata": {},
     "output_type": "execute_result"
    }
   ],
   "source": [
    "#그냥 확인임 안돌려도 됨\n",
    "df1['authority_code'].value_counts()\n",
    "df1['ind'].sum()\n",
    "all_years = df1['year'].unique()\n",
    "str(all_years[0])"
   ]
  },
  {
   "cell_type": "code",
   "execution_count": 18,
   "metadata": {},
   "outputs": [],
   "source": [
    "#create dummies for administration-year pairs \n",
    "all_years = df1['year'].unique()\n",
    "all_authorities = df1['authority_code'].unique()\n",
    "auth_year_reg_col = []\n",
    "for auth in all_authorities:\n",
    "    for yr in all_years:\n",
    "        df1['auth_year_' + str(auth)+'_' + str(yr)] = 0\n",
    "        auth_year_reg_col.append('auth_year_' + str(auth)+'_' + str(yr))\n",
    "        df1.loc[(df1['year']==yr) & (df1['authority_code']==auth), 'auth_year_' + str(auth)+'_' + str(yr) ] = 1\n",
    "#df1['auth_year_3.0_2002.0'].value_counts() =13 checked"
   ]
  },
  {
   "cell_type": "code",
   "execution_count": 19,
   "metadata": {},
   "outputs": [],
   "source": [
    "##regression for first stage\n",
    "#create dummies for work category\n",
    "all_categories = df1['work_category'].unique()\n",
    "#len(all_categories) = 30 checked\n",
    "for cat in all_categories:\n",
    "    df1['cat_'+cat] = 0\n",
    "    df1.loc[df1['work_category']==cat, 'cat_'+cat] =1\n",
    "#dummy_cat 안함 앞에 beta 필요해서\n",
    "#df1['cat_OG03'].value_counts() checked"
   ]
  },
  {
   "cell_type": "code",
   "execution_count": 20,
   "metadata": {},
   "outputs": [],
   "source": [
    "### Regression first stage \n",
    "#setting\n",
    "work_dum = pd.get_dummies(df1['work_category']).rename(columns=lambda x: 'work_dum_' + str(x))\n",
    "year_dum = pd.get_dummies(df1['year']).rename(columns=lambda x: 'year_dum_' + str(x))\n",
    "auth_dum = pd.get_dummies(df1['authority_code']).rename(columns=lambda x: 'auth_dum_' + str(x))\n",
    "dum_df = pd.concat([work_dum, year_dum, auth_dum],axis = 1)\n",
    "#이렇게 해주고 부터 fe_reg_1 singular matrix 걸림\n",
    "df1 = pd.concat([df1,dum_df],axis = 1)\n",
    "\n",
    "work_list = list(work_dum.columns)\n",
    "year_list = list(year_dum.columns)\n",
    "auth_list = list(auth_dum.columns)"
   ]
  },
  {
   "cell_type": "code",
   "execution_count": 21,
   "metadata": {},
   "outputs": [
    {
     "name": "stdout",
     "output_type": "stream",
     "text": [
      "=======================================================\n",
      "Dependent variable:\tdiscount\n",
      "N:\t\t\t1262\n",
      "R-squared:\t\t0.6395\n",
      "Estimation method:\tOLS\n",
      "VCE method:\t\tCluster\n",
      "  Cluster variable:\t  auth_anno\n",
      "  No. of clusters:\t  101\n",
      "=======================================================\n",
      "                    coeff    se      t   p>t  CI_low CI_high\n",
      "fpsb_auction       12.178 1.329  9.163 0.000   9.541  14.815\n",
      "reserve_price       0.000 0.000  5.988 0.000   0.000   0.000\n",
      "municipality       -7.233 1.930 -3.748 0.000 -11.062  -3.404\n",
      "fiscal_efficiency  -2.611 4.586 -0.569 0.570 -11.709   6.486\n",
      "work_dum_OG02       0.223 0.629  0.354 0.724  -1.024   1.470\n",
      "work_dum_OG03      -0.560 0.543 -1.032 0.304  -1.638   0.517\n",
      "work_dum_OG04      -4.715 3.311 -1.424 0.157 -11.283   1.853\n",
      "work_dum_OG06       0.816 0.667  1.223 0.224  -0.508   2.140\n",
      "work_dum_OG07       4.494 5.104  0.881 0.381  -5.632  14.620\n",
      "work_dum_OG08       0.788 1.600  0.492 0.624  -2.386   3.961\n",
      "work_dum_OG10       8.384 0.510 16.450 0.000   7.373   9.396\n",
      "work_dum_OG11       5.676 1.066  5.325 0.000   3.561   7.791\n",
      "work_dum_OG12       5.928 1.926  3.079 0.003   2.108   9.749\n",
      "work_dum_OS01      -2.562 1.188 -2.156 0.033  -4.920  -0.205\n",
      "work_dum_OS02       9.570 1.422  6.728 0.000   6.748  12.391\n",
      "work_dum_OS05       5.767 1.039  5.551 0.000   3.706   7.828\n",
      "work_dum_OS06       4.674 1.615  2.894 0.005   1.470   7.879\n",
      "work_dum_OS07       3.255 0.712  4.569 0.000   1.841   4.668\n",
      "work_dum_OS08       5.271 3.082  1.710 0.090  -0.844  11.385\n",
      "work_dum_OS10      14.505 1.646  8.815 0.000  11.240  17.770\n",
      "work_dum_OS11      -5.721 1.001 -5.714 0.000  -7.707  -3.735\n",
      "work_dum_OS12      17.401 1.336 13.025 0.000  14.750  20.051\n",
      "work_dum_OS14       4.007 0.859  4.665 0.000   2.303   5.712\n",
      "work_dum_OS18      -1.801 1.964 -0.917 0.361  -5.699   2.096\n",
      "work_dum_OS19       3.254 0.926  3.515 0.001   1.417   5.091\n",
      "work_dum_OS21       3.670 1.779  2.063 0.042   0.141   7.199\n",
      "work_dum_OS22       0.584 1.262  0.463 0.645  -1.919   3.087\n",
      "work_dum_OS23       1.028 2.185  0.471 0.639  -3.307   5.363\n",
      "work_dum_OS24       1.135 1.887  0.601 0.549  -2.610   4.879\n",
      "work_dum_OS26       0.602 0.787  0.765 0.446  -0.960   2.164\n",
      "work_dum_OS28       3.636 1.237  2.939 0.004   1.181   6.090\n",
      "work_dum_OS30       7.946 1.578  5.037 0.000   4.816  11.075\n",
      "work_dum_OS34      12.898 3.039  4.244 0.000   6.868  18.928\n",
      "year_dum_2001.0     1.878 1.042  1.802 0.075  -0.189   3.945\n",
      "year_dum_2002.0    -0.022 0.913 -0.025 0.980  -1.833   1.788\n",
      "year_dum_2003.0    -0.435 0.993 -0.438 0.662  -2.405   1.536\n",
      "year_dum_2004.0     1.294 0.954  1.356 0.178  -0.599   3.188\n",
      "year_dum_2005.0     3.175 1.025  3.098 0.003   1.142   5.209\n",
      "year_dum_2006.0     3.931 1.178  3.337 0.001   1.594   6.267\n",
      "auth_dum_4.0       -1.057 1.921 -0.550 0.583  -4.868   2.755\n",
      "auth_dum_6.0        1.239 1.801  0.688 0.493  -2.334   4.811\n",
      "auth_dum_9.0       -1.900 1.997 -0.951 0.344  -5.862   2.062\n",
      "auth_dum_16.0      -6.463 1.986 -3.254 0.002 -10.403  -2.522\n",
      "auth_dum_20.0      -4.197 2.104 -1.995 0.049  -8.371  -0.023\n",
      "auth_dum_25.0      -2.681 1.669 -1.606 0.111  -5.992   0.631\n",
      "auth_dum_30.0      -3.036 1.965 -1.545 0.126  -6.934   0.863\n",
      "auth_dum_1246.0     1.919 1.098  1.747 0.084  -0.261   4.098\n",
      "auth_dum_1739.0     3.935 1.001  3.932 0.000   1.950   5.921\n",
      "auth_dum_1768.0     6.262 0.765  8.183 0.000   4.744   7.781\n",
      "auth_dum_1858.0     3.559 0.752  4.731 0.000   2.067   5.051\n",
      "auth_dum_1866.0     3.603 0.770  4.677 0.000   2.075   5.132\n",
      "auth_dum_3090272.0  9.598 1.291  7.436 0.000   7.038  12.159\n",
      "_cons              13.927 4.452  3.129 0.002   5.095  22.759\n",
      "=======================================================\n",
      "\n",
      "=======================================================\n",
      "Dependent variable:\tdiscount\n",
      "N:\t\t\t1262\n",
      "R-squared:\t\t0.6395\n",
      "Estimation method:\tOLS\n",
      "VCE method:\t\tCluster\n",
      "  Cluster variable:\t  authority_code\n",
      "  No. of clusters:\t  15\n",
      "=======================================================\n",
      "                    coeff    se       t   p>t  CI_low CI_high\n",
      "fpsb_auction       12.178 0.820  14.856 0.000  10.420  13.936\n",
      "reserve_price       0.000 0.000   8.483 0.000   0.000   0.000\n",
      "municipality       -7.233 0.958  -7.554 0.000  -9.287  -5.180\n",
      "fiscal_efficiency  -2.611 4.395  -0.594 0.562 -12.037   6.814\n",
      "work_dum_OG02       0.223 0.888   0.251 0.806  -1.682   2.127\n",
      "work_dum_OG03      -0.560 0.981  -0.571 0.577  -2.665   1.544\n",
      "work_dum_OG04      -4.715 3.428  -1.375 0.191 -12.067   2.638\n",
      "work_dum_OG06       0.816 1.000   0.817 0.428  -1.328   2.961\n",
      "work_dum_OG07       4.494 5.189   0.866 0.401  -6.636  15.624\n",
      "work_dum_OG08       0.788 1.426   0.552 0.590  -2.272   3.847\n",
      "work_dum_OG10       8.384 0.474  17.688 0.000   7.368   9.401\n",
      "work_dum_OG11       5.676 1.427   3.979 0.001   2.616   8.735\n",
      "work_dum_OG12       5.928 1.423   4.167 0.001   2.877   8.980\n",
      "work_dum_OS01      -2.562 1.110  -2.309 0.037  -4.942  -0.182\n",
      "work_dum_OS02       9.570 0.722  13.247 0.000   8.020  11.119\n",
      "work_dum_OS05       5.767 1.628   3.542 0.003   2.275   9.259\n",
      "work_dum_OS06       4.674 1.506   3.104 0.008   1.444   7.904\n",
      "work_dum_OS07       3.255 0.776   4.192 0.001   1.589   4.920\n",
      "work_dum_OS08       5.271 2.419   2.179 0.047   0.082  10.460\n",
      "work_dum_OS10      14.505 1.658   8.748 0.000  10.949  18.061\n",
      "work_dum_OS11      -5.721 0.460 -12.430 0.000  -6.708  -4.734\n",
      "work_dum_OS12      17.401 1.366  12.740 0.000  14.471  20.330\n",
      "work_dum_OS14       4.007 1.128   3.554 0.003   1.589   6.426\n",
      "work_dum_OS18      -1.801 2.469  -0.730 0.478  -7.096   3.493\n",
      "work_dum_OS19       3.254 0.654   4.976 0.000   1.852   4.657\n",
      "work_dum_OS21       3.670 1.679   2.186 0.046   0.070   7.270\n",
      "work_dum_OS22       0.584 1.006   0.580 0.571  -1.573   2.741\n",
      "work_dum_OS23       1.028 2.692   0.382 0.708  -4.745   6.801\n",
      "work_dum_OS24       1.135 3.276   0.346 0.734  -5.893   8.162\n",
      "work_dum_OS26       0.602 0.925   0.651 0.526  -1.383   2.587\n",
      "work_dum_OS28       3.636 0.756   4.808 0.000   2.014   5.258\n",
      "work_dum_OS30       7.946 1.601   4.963 0.000   4.512  11.379\n",
      "work_dum_OS34      12.898 3.314   3.892 0.002   5.791  20.005\n",
      "year_dum_2001.0     1.878 1.462   1.284 0.220  -1.259   5.014\n",
      "year_dum_2002.0    -0.022 1.286  -0.017 0.986  -2.781   2.737\n",
      "year_dum_2003.0    -0.435 1.211  -0.359 0.725  -3.033   2.163\n",
      "year_dum_2004.0     1.294 1.333   0.971 0.348  -1.565   4.153\n",
      "year_dum_2005.0     3.175 1.144   2.775 0.015   0.721   5.630\n",
      "year_dum_2006.0     3.931 1.492   2.634 0.020   0.731   7.130\n",
      "auth_dum_4.0       -1.057 0.365  -2.899 0.012  -1.839  -0.275\n",
      "auth_dum_6.0        1.239 0.515   2.406 0.031   0.134   2.343\n",
      "auth_dum_9.0       -1.900 0.648  -2.931 0.011  -3.290  -0.510\n",
      "auth_dum_16.0      -6.463 0.561 -11.522 0.000  -7.666  -5.260\n",
      "auth_dum_20.0      -4.197 0.281 -14.955 0.000  -4.799  -3.595\n",
      "auth_dum_25.0      -2.681 0.361  -7.425 0.000  -3.455  -1.906\n",
      "auth_dum_30.0      -3.036 0.157 -19.323 0.000  -3.372  -2.699\n",
      "auth_dum_1246.0     1.919 0.450   4.268 0.001   0.954   2.883\n",
      "auth_dum_1739.0     3.935 0.477   8.245 0.000   2.911   4.959\n",
      "auth_dum_1768.0     6.262 0.240  26.077 0.000   5.747   6.777\n",
      "auth_dum_1858.0     3.559 0.306  11.627 0.000   2.903   4.216\n",
      "auth_dum_1866.0     3.603 0.284  12.677 0.000   2.994   4.213\n",
      "auth_dum_3090272.0  9.598 0.465  20.647 0.000   8.601  10.595\n",
      "_cons              13.927 3.903   3.568 0.003   5.556  22.299\n",
      "=======================================================\n",
      "\n",
      "=======================================================\n",
      "Dependent variable:\tdiscount\n",
      "N:\t\t\t1262\n",
      "R-squared:\t\t0.7012\n",
      "Estimation method:\tOLS\n",
      "VCE method:\t\tCluster\n",
      "  Cluster variable:\t  auth_anno\n",
      "  No. of clusters:\t  101\n",
      "=======================================================\n",
      "                             coeff    se         t   p>t  CI_low CI_high\n",
      "reserve_price                0.000 0.000     5.636 0.000   0.000   0.000\n",
      "municipality               -15.828 0.002 -7617.073 0.000 -15.832 -15.824\n",
      "auth_year_3.0_2005.0        -8.055 0.198   -40.632 0.000  -8.449  -7.662\n",
      "auth_year_3.0_2003.0        -8.592 0.236   -36.417 0.000  -9.060  -8.124\n",
      "auth_year_3.0_2004.0        -5.571 0.339   -16.441 0.000  -6.243  -4.899\n",
      "auth_year_3.0_2001.0        -0.611 0.408    -1.498 0.137  -1.420   0.198\n",
      "auth_year_3.0_2002.0        -5.258 0.358   -14.682 0.000  -5.968  -4.547\n",
      "auth_year_3.0_2006.0        13.563 0.038   356.581 0.000  13.488  13.639\n",
      "auth_year_3.0_2000.0        -5.964 0.582   -10.241 0.000  -7.120  -4.809\n",
      "auth_year_4.0_2005.0        -9.608 0.917   -10.479 0.000 -11.428  -7.789\n",
      "auth_year_4.0_2003.0        -8.494 0.253   -33.606 0.000  -8.995  -7.992\n",
      "auth_year_4.0_2004.0        -2.820 0.298    -9.450 0.000  -3.412  -2.228\n",
      "auth_year_4.0_2001.0        -1.757 0.579    -3.036 0.003  -2.905  -0.609\n",
      "auth_year_4.0_2002.0        -8.878 0.348   -25.482 0.000  -9.569  -8.186\n",
      "auth_year_4.0_2006.0        -4.587 0.441   -10.409 0.000  -5.461  -3.712\n",
      "auth_year_6.0_2005.0        -1.337 1.521    -0.879 0.381  -4.354   1.680\n",
      "auth_year_6.0_2003.0        -5.023 0.132   -38.149 0.000  -5.284  -4.762\n",
      "auth_year_6.0_2004.0        -6.134 0.031  -200.732 0.000  -6.195  -6.074\n",
      "auth_year_6.0_2001.0        -1.370 0.005  -256.471 0.000  -1.381  -1.360\n",
      "auth_year_6.0_2002.0        -3.041 0.125   -24.381 0.000  -3.289  -2.794\n",
      "auth_year_6.0_2006.0        -2.330 0.482    -4.836 0.000  -3.286  -1.374\n",
      "auth_year_9.0_2005.0        -0.786 0.282    -2.782 0.006  -1.346  -0.225\n",
      "auth_year_9.0_2003.0       -15.437 0.248   -62.250 0.000 -15.929 -14.945\n",
      "auth_year_9.0_2004.0        -7.212 0.369   -19.542 0.000  -7.944  -6.479\n",
      "auth_year_9.0_2001.0        -7.294 0.675   -10.801 0.000  -8.634  -5.954\n",
      "auth_year_9.0_2002.0        -8.403 0.786   -10.691 0.000  -9.962  -6.843\n",
      "auth_year_9.0_2006.0        -7.552 0.051  -147.220 0.000  -7.653  -7.450\n",
      "auth_year_9.0_2000.0        -4.051 0.589    -6.879 0.000  -5.220  -2.883\n",
      "auth_year_16.0_2005.0       -8.304 0.084   -98.576 0.000  -8.471  -8.137\n",
      "auth_year_16.0_2001.0       -9.375 0.504   -18.596 0.000 -10.376  -8.375\n",
      "auth_year_16.0_2006.0      -11.589 0.067  -173.864 0.000 -11.721 -11.456\n",
      "auth_year_16.0_2000.0      -11.586 0.312   -37.137 0.000 -12.205 -10.967\n",
      "auth_year_20.0_2005.0       -4.254 0.325   -13.083 0.000  -4.899  -3.609\n",
      "auth_year_20.0_2003.0      -15.029 0.048  -315.364 0.000 -15.123 -14.934\n",
      "auth_year_20.0_2004.0      -11.392 0.774   -14.725 0.000 -12.927  -9.857\n",
      "auth_year_20.0_2001.0      -12.624 1.741    -7.249 0.000 -16.079  -9.169\n",
      "auth_year_20.0_2002.0      -12.218 0.630   -19.387 0.000 -13.469 -10.968\n",
      "auth_year_20.0_2006.0       -5.798 0.342   -16.939 0.000  -6.477  -5.119\n",
      "auth_year_20.0_2000.0       -9.994 0.143   -70.038 0.000 -10.277  -9.711\n",
      "auth_year_25.0_2005.0       -6.025 0.611    -9.855 0.000  -7.239  -4.812\n",
      "auth_year_25.0_2003.0       -7.179 0.694   -10.340 0.000  -8.556  -5.801\n",
      "auth_year_25.0_2004.0       -7.282 0.662   -11.003 0.000  -8.595  -5.969\n",
      "auth_year_25.0_2001.0       -9.790 0.766   -12.788 0.000 -11.309  -8.271\n",
      "auth_year_25.0_2002.0       -8.160 0.402   -20.297 0.000  -8.957  -7.362\n",
      "auth_year_25.0_2006.0       -5.580 0.442   -12.628 0.000  -6.456  -4.703\n",
      "auth_year_25.0_2000.0       -7.889 0.639   -12.346 0.000  -9.157  -6.621\n",
      "auth_year_30.0_2005.0       -6.082 0.256   -23.763 0.000  -6.590  -5.575\n",
      "auth_year_30.0_2003.0      -10.355 0.197   -52.586 0.000 -10.746  -9.965\n",
      "auth_year_30.0_2004.0       -5.390 0.264   -20.436 0.000  -5.913  -4.867\n",
      "auth_year_30.0_2001.0       -6.943 0.589   -11.793 0.000  -8.111  -5.775\n",
      "auth_year_30.0_2002.0       -9.316 0.275   -33.854 0.000  -9.862  -8.770\n",
      "auth_year_30.0_2006.0      -11.228 0.144   -78.216 0.000 -11.513 -10.943\n",
      "auth_year_30.0_2000.0      -17.734 0.088  -202.463 0.000 -17.907 -17.560\n",
      "auth_year_1246.0_2005.0     10.305 0.482    21.399 0.000   9.350  11.260\n",
      "auth_year_1246.0_2003.0      3.068 0.443     6.928 0.000   2.189   3.947\n",
      "auth_year_1246.0_2004.0      5.445 0.267    20.389 0.000   4.915   5.974\n",
      "auth_year_1246.0_2001.0      6.050 0.732     8.267 0.000   4.598   7.502\n",
      "auth_year_1246.0_2002.0      3.566 0.317    11.238 0.000   2.937   4.196\n",
      "auth_year_1246.0_2006.0      8.572 0.060   141.855 0.000   8.452   8.692\n",
      "auth_year_1708.0_2005.0      7.920 0.687    11.526 0.000   6.557   9.283\n",
      "auth_year_1708.0_2003.0      2.715 0.495     5.484 0.000   1.733   3.698\n",
      "auth_year_1708.0_2004.0      4.931 0.452    10.906 0.000   4.034   5.828\n",
      "auth_year_1708.0_2001.0      2.471 0.322     7.685 0.000   1.833   3.109\n",
      "auth_year_1708.0_2002.0      3.215 0.431     7.457 0.000   2.359   4.070\n",
      "auth_year_1708.0_2006.0     11.034 0.414    26.634 0.000  10.212  11.855\n",
      "auth_year_1708.0_2000.0      3.397 0.205    16.573 0.000   2.991   3.804\n",
      "auth_year_1739.0_2005.0      9.881 0.315    31.324 0.000   9.256  10.507\n",
      "auth_year_1739.0_2003.0      7.565 0.325    23.267 0.000   6.920   8.210\n",
      "auth_year_1739.0_2004.0      8.357 0.382    21.886 0.000   7.599   9.114\n",
      "auth_year_1739.0_2001.0      5.851 0.215    27.236 0.000   5.425   6.277\n",
      "auth_year_1739.0_2002.0      6.600 0.306    21.603 0.000   5.994   7.206\n",
      "auth_year_1739.0_2006.0      9.935 0.312    31.877 0.000   9.316  10.553\n",
      "auth_year_1739.0_2000.0      6.588 0.153    43.117 0.000   6.285   6.891\n",
      "auth_year_1768.0_2005.0     12.556 0.466    26.935 0.000  11.631  13.481\n",
      "auth_year_1768.0_2003.0     10.551 0.388    27.218 0.000   9.782  11.320\n",
      "auth_year_1768.0_2004.0      9.440 0.386    24.451 0.000   8.674  10.206\n",
      "auth_year_1768.0_2001.0      9.994 0.432    23.145 0.000   9.137  10.850\n",
      "auth_year_1768.0_2002.0      9.090 0.396    22.942 0.000   8.304   9.876\n",
      "auth_year_1768.0_2006.0     13.613 0.433    31.403 0.000  12.753  14.473\n",
      "auth_year_1768.0_2000.0      9.073 0.440    20.622 0.000   8.200   9.946\n",
      "auth_year_1858.0_2005.0      7.972 0.368    21.650 0.000   7.242   8.703\n",
      "auth_year_1858.0_2003.0      7.497 0.360    20.849 0.000   6.784   8.210\n",
      "auth_year_1858.0_2004.0      6.764 0.244    27.693 0.000   6.279   7.248\n",
      "auth_year_1858.0_2001.0      8.817 0.278    31.727 0.000   8.266   9.368\n",
      "auth_year_1858.0_2002.0      6.855 0.324    21.173 0.000   6.213   7.498\n",
      "auth_year_1858.0_2006.0     10.579 0.318    33.261 0.000   9.948  11.210\n",
      "auth_year_1858.0_2000.0      8.059 0.497    16.199 0.000   7.072   9.046\n",
      "auth_year_1866.0_2005.0     10.739 0.462    23.233 0.000   9.822  11.656\n",
      "auth_year_1866.0_2003.0      8.295 0.350    23.715 0.000   7.601   8.988\n",
      "auth_year_1866.0_2004.0      8.154 0.185    44.044 0.000   7.787   8.521\n",
      "auth_year_1866.0_2001.0      6.714 0.497    13.502 0.000   5.728   7.701\n",
      "auth_year_1866.0_2002.0      5.832 0.353    16.525 0.000   5.132   6.533\n",
      "auth_year_1866.0_2006.0      9.486 0.272    34.875 0.000   8.946  10.026\n",
      "auth_year_1866.0_2000.0      6.488 0.288    22.495 0.000   5.916   7.060\n",
      "auth_year_3090272.0_2005.0  27.128 0.534    50.774 0.000  26.068  28.188\n",
      "auth_year_3090272.0_2003.0  22.883 0.628    36.417 0.000  21.636  24.130\n",
      "auth_year_3090272.0_2004.0  26.706 0.575    46.454 0.000  25.565  27.847\n",
      "auth_year_3090272.0_2001.0  15.819 0.343    46.068 0.000  15.137  16.500\n",
      "auth_year_3090272.0_2002.0  14.505 0.597    24.284 0.000  13.320  15.690\n",
      "auth_year_3090272.0_2006.0  32.782 0.502    65.301 0.000  31.786  33.778\n",
      "auth_year_3090272.0_2000.0  10.548 0.263    40.125 0.000  10.027  11.070\n",
      "cat_OG02                    -3.410 0.735    -4.640 0.000  -4.868  -1.952\n",
      "cat_OG03                    -4.204 0.608    -6.909 0.000  -5.411  -2.997\n",
      "cat_OG01                    -4.047 0.590    -6.865 0.000  -5.216  -2.877\n",
      "cat_OG12                     0.658 2.127     0.309 0.758  -3.563   4.878\n",
      "cat_OS12                    14.767 0.949    15.555 0.000  12.883  16.650\n",
      "cat_OS28                     0.619 1.666     0.371 0.711  -2.687   3.924\n",
      "cat_OS06                     1.470 1.210     1.215 0.227  -0.931   3.871\n",
      "cat_OS30                     5.242 1.587     3.303 0.001   2.093   8.391\n",
      "cat_OG08                    -3.558 1.889    -1.884 0.063  -7.306   0.189\n",
      "cat_OG11                     1.667 1.203     1.385 0.169  -0.720   4.054\n",
      "cat_OS21                    -0.769 1.865    -0.412 0.681  -4.468   2.930\n",
      "cat_OS10                     9.821 2.113     4.647 0.000   5.628  14.013\n",
      "cat_OG10                     4.932 0.550     8.972 0.000   3.841   6.023\n",
      "cat_OS22                    -5.445 1.806    -3.014 0.003  -9.029  -1.861\n",
      "cat_OG07                     1.409 5.601     0.252 0.802  -9.704  12.522\n",
      "cat_OG06                    -3.088 0.711    -4.341 0.000  -4.499  -1.676\n",
      "cat_OS19                     0.293 0.545     0.538 0.592  -0.788   1.375\n",
      "cat_OS01                    -5.723 1.653    -3.462 0.001  -9.003  -2.443\n",
      "cat_OS08                     2.130 3.599     0.592 0.555  -5.011   9.271\n",
      "cat_OS11                   -10.719 0.583   -18.396 0.000 -11.874  -9.563\n",
      "cat_OG04                    -9.045 3.954    -2.288 0.024 -16.890  -1.201\n",
      "cat_OS18                    -6.003 2.115    -2.838 0.005 -10.199  -1.806\n",
      "cat_OS02                     5.890 1.558     3.780 0.000   2.798   8.981\n",
      "cat_OS24                    -2.729 1.717    -1.589 0.115  -6.135   0.678\n",
      "cat_OS34                     8.571 3.273     2.619 0.010   2.077  15.065\n",
      "cat_OS23                    -2.098 1.449    -1.448 0.151  -4.972   0.776\n",
      "cat_OS14                    -1.225 0.526    -2.331 0.022  -2.268  -0.182\n",
      "cat_OS26                    -3.493 0.492    -7.093 0.000  -4.470  -2.516\n",
      "cat_OS05                     2.126 0.523     4.061 0.000   1.087   3.164\n",
      "_cons                       21.395 0.619    34.591 0.000  20.168  22.622\n",
      "=======================================================\n",
      "\n"
     ]
    }
   ],
   "source": [
    "reg_col = []\n",
    "for i in work_list:\n",
    "    reg_col.append(i)\n",
    "for j in year_list:\n",
    "    reg_col.append(j)\n",
    "for k in auth_list:\n",
    "    reg_col.append(k)\n",
    "            \n",
    "exog_var = ['fpsb_auction','reserve_price','municipality','fiscal_efficiency']\n",
    "exog = exog_var + reg_col \n",
    "exog.remove('year_dum_2000.0')\n",
    "\n",
    "exog.remove('work_dum_OG01')\n",
    "exog.remove('auth_dum_3.0')\n",
    "exog.remove('auth_dum_1708.0')\n",
    "\n",
    "#reg_col for co_sample, discount,ctrl_exp, fe_reg_1&2\n",
    "#값은 다음\n",
    "#exog = exog_var + reg_col\n",
    "    \n",
    "#1. reg\n",
    "fe_reg_1 = mt.reg(df1, o, exog, cluster = 'auth_anno', addcons= True, check_colinear = True)\n",
    "print(fe_reg_1)\n",
    "#값 나와따\n",
    "\n",
    "#2. reg\n",
    "fe_reg_2 = mt.reg(df1, o, exog, cluster = 'authority_code',addcons= True, check_colinear = True)\n",
    "print(fe_reg_2)\n",
    "#얘도 나왔따\n",
    "\n",
    "#3. reg\n",
    "reg_col = auth_year_reg_col\n",
    "for cat in all_categories:\n",
    "    reg_col.append('cat_'+cat)\n",
    "exog_var = ['reserve_price','municipality','fiscal_efficiency']\n",
    "exog = exog_var + reg_col\n",
    "\n",
    "exog.remove('auth_year_4.0_2000.0')\n",
    "exog.remove('auth_year_6.0_2000.0') \n",
    "exog.remove('auth_year_16.0_2002.0')\n",
    "exog.remove('auth_year_16.0_2003.0')\n",
    "exog.remove('auth_year_16.0_2004.0')\n",
    "exog.remove('auth_year_1246.0_2000.0')\n",
    "exog.remove('cat_OS07')\n",
    "exog.remove('fiscal_efficiency')\n",
    "\n",
    "fe_reg_3 = mt.reg(df1, o, exog, cluster = 'auth_anno', addcons = True, check_colinear = True) #singular error\n",
    "print(fe_reg_3)\n",
    "#값나옴"
   ]
  },
  {
   "cell_type": "code",
   "execution_count": 46,
   "metadata": {},
   "outputs": [],
   "source": [
    "df1['dummy_cat'] = 0\n",
    "#exog에 있는 것만으로 계싼하기\n",
    "beta_cat_list = []\n",
    "beta_list = []\n",
    "for i in range(len(exog)):\n",
    "    for cat in all_categories:\n",
    "        if exog[i] == 'cat_'+cat:\n",
    "            beta_cat_list.append(exog[i])\n",
    "    for exo in exog_var:\n",
    "        if exog[i] == exo:\n",
    "            beta_list.append(exog[i])\n",
    "\n",
    "if o == 'discount':\n",
    "    discount_hat = fe_reg_3.yhat\n",
    "    for i in range(len(df1)):\n",
    "        for cat in beta_cat_list:\n",
    "            df1.loc[i, 'discount_beta'] = discount_hat[i] - (df1.loc[i,'dummy_cat']-df1.loc[i,cat] * fe_reg_3.beta[cat])\n",
    "            for exo in beta_list:\n",
    "                df1.loc[i,'discount_beta'] = df1.loc[i,'discount_beta']- df1.loc[i,exo]*fe_reg_3.beta[exo]\n",
    "elif o == 'delay_ratio':\n",
    "    delay_ratio_hat = fe_reg_3.yhat\n",
    "    for cat in all_categories:\n",
    "        df1['delay_ratio_beta'] = delay_ratio_hat - (df1['dummy_cat']-df1['cat_'+cat] * fe_reg_3.beta['cat_'+cat]) - df1['reserve_price']*fe_reg_3.beta['reserve_price'] -df1['fiscal_efficiency']*fe_reg_3.beta['fiscal_efficiency'] # -df1['municipality']*fe_reg_3.beta['municipality']\n",
    "elif o == 'overrun_ratio':\n",
    "    overrun_ratio_hat = fe_reg_3.yhat\n",
    "    for cat in all_categories:\n",
    "        df1['overrun_ratio_beta'] = overrun_ratio_hat - (df1['dummy_cat']-df1['cat_'+cat] * fe_reg_3.beta['cat_'+cat]) - df1['reserve_price']*fe_reg_3.beta['reserve_price'] -df1['fiscal_efficiency']*fe_reg_3.beta['fiscal_efficiency'] # -df1['municipality']*fe_reg_3.beta['municipality']\n",
    "else:\n",
    "    days_to_award_hat = fe_reg_3.yhat\n",
    "    for cat in all_categories:\n",
    "        df1['days_to_award_beta'] =days_to_award_hat - (df1['dummy_cat']-df1['cat_'+cat] * fe_reg_3.beta['cat_'+cat]) - df1['reserve_price']*fe_reg_3.beta['reserve_price'] -df1['fiscal_efficiency']*fe_reg_3.beta['fiscal_efficiency'] #-df1['municipality']*fe_reg_3.beta['municipality']\n",
    "#worked"
   ]
  },
  {
   "cell_type": "code",
   "execution_count": 48,
   "metadata": {},
   "outputs": [
    {
     "data": {
      "text/plain": [
       "8.773208     2\n",
       "31.246967    1\n",
       "34.578647    1\n",
       "11.573486    1\n",
       "24.115179    1\n",
       "            ..\n",
       "27.758995    1\n",
       "12.338564    1\n",
       "22.687773    1\n",
       "22.409561    1\n",
       "26.360089    1\n",
       "Name: discount_beta, Length: 1261, dtype: int64"
      ]
     },
     "execution_count": 48,
     "metadata": {},
     "output_type": "execute_result"
    }
   ],
   "source": [
    "df1['discount_beta'].value_counts()"
   ]
  },
  {
   "cell_type": "code",
   "execution_count": 49,
   "metadata": {},
   "outputs": [
    {
     "data": {
      "text/plain": [
       "(2016, 165)"
      ]
     },
     "execution_count": 49,
     "metadata": {},
     "output_type": "execute_result"
    }
   ],
   "source": [
    "df.shape"
   ]
  },
  {
   "cell_type": "code",
   "execution_count": 13,
   "metadata": {},
   "outputs": [],
   "source": [
    "#create weigths - working well\n",
    "nrep_s = df1.groupby(['authority_code','year']).size().unstack(level=1)\n",
    "df1_nrep = pd.DataFrame(nrep_s)/len(df1)\n",
    "df1['weights'] = np.nan\n",
    "for auth in all_authorities:\n",
    "    for yr in all_years:\n",
    "        df1.loc[(df1['authority_code']==auth)&(df1['year']==yr),'weights'] = df1_nrep.loc[auth, yr]"
   ]
  },
  {
   "cell_type": "code",
   "execution_count": 15,
   "metadata": {},
   "outputs": [
    {
     "ename": "KeyError",
     "evalue": "\"Columns not found: 'discount_beta'\"",
     "output_type": "error",
     "traceback": [
      "\u001b[1;31m---------------------------------------------------------------------------\u001b[0m",
      "\u001b[1;31mKeyError\u001b[0m                                  Traceback (most recent call last)",
      "\u001b[1;32m<ipython-input-15-286a69612db9>\u001b[0m in \u001b[0;36m<module>\u001b[1;34m\u001b[0m\n\u001b[0;32m      1\u001b[0m \u001b[1;31m#Keep only beta coefficients for state*year terms\u001b[0m\u001b[1;33m\u001b[0m\u001b[1;33m\u001b[0m\u001b[1;33m\u001b[0m\u001b[0m\n\u001b[0;32m      2\u001b[0m \u001b[0mcollapse_list\u001b[0m \u001b[1;33m=\u001b[0m \u001b[1;33m[\u001b[0m\u001b[0mo\u001b[0m \u001b[1;33m+\u001b[0m\u001b[1;34m'_beta'\u001b[0m\u001b[1;33m,\u001b[0m \u001b[1;34m'authority_code'\u001b[0m\u001b[1;33m,\u001b[0m \u001b[1;34m'year'\u001b[0m\u001b[1;33m,\u001b[0m \u001b[1;34m'fpsb_auction'\u001b[0m\u001b[1;33m,\u001b[0m \u001b[1;34m'municipality'\u001b[0m\u001b[1;33m,\u001b[0m \u001b[1;34m'fiscal_efficiency'\u001b[0m\u001b[1;33m,\u001b[0m \u001b[1;34m'missing'\u001b[0m\u001b[1;33m,\u001b[0m \u001b[1;34m'turin_co_sample'\u001b[0m\u001b[1;33m,\u001b[0m \u001b[1;34m'weights'\u001b[0m\u001b[1;33m]\u001b[0m \u001b[1;33m+\u001b[0m \u001b[0myear_list\u001b[0m \u001b[1;33m+\u001b[0m \u001b[0mauth_list\u001b[0m\u001b[1;33m\u001b[0m\u001b[1;33m\u001b[0m\u001b[0m\n\u001b[1;32m----> 3\u001b[1;33m \u001b[0mcollapse\u001b[0m \u001b[1;33m=\u001b[0m \u001b[0mdf1\u001b[0m\u001b[1;33m.\u001b[0m\u001b[0mgroupby\u001b[0m\u001b[1;33m(\u001b[0m\u001b[1;33m[\u001b[0m\u001b[1;34m'auth_anno'\u001b[0m\u001b[1;33m]\u001b[0m\u001b[1;33m)\u001b[0m\u001b[1;33m[\u001b[0m\u001b[0mcollapse_list\u001b[0m\u001b[1;33m]\u001b[0m\u001b[1;33m.\u001b[0m\u001b[0mmean\u001b[0m\u001b[1;33m(\u001b[0m\u001b[1;33m)\u001b[0m\u001b[1;33m\u001b[0m\u001b[1;33m\u001b[0m\u001b[0m\n\u001b[0m",
      "\u001b[1;32m~\\anaconda3\\lib\\site-packages\\pandas\\core\\groupby\\generic.py\u001b[0m in \u001b[0;36m__getitem__\u001b[1;34m(self, key)\u001b[0m\n\u001b[0;32m   1611\u001b[0m                 \u001b[0mstacklevel\u001b[0m\u001b[1;33m=\u001b[0m\u001b[1;36m2\u001b[0m\u001b[1;33m,\u001b[0m\u001b[1;33m\u001b[0m\u001b[1;33m\u001b[0m\u001b[0m\n\u001b[0;32m   1612\u001b[0m             )\n\u001b[1;32m-> 1613\u001b[1;33m         \u001b[1;32mreturn\u001b[0m \u001b[0msuper\u001b[0m\u001b[1;33m(\u001b[0m\u001b[1;33m)\u001b[0m\u001b[1;33m.\u001b[0m\u001b[0m__getitem__\u001b[0m\u001b[1;33m(\u001b[0m\u001b[0mkey\u001b[0m\u001b[1;33m)\u001b[0m\u001b[1;33m\u001b[0m\u001b[1;33m\u001b[0m\u001b[0m\n\u001b[0m\u001b[0;32m   1614\u001b[0m \u001b[1;33m\u001b[0m\u001b[0m\n\u001b[0;32m   1615\u001b[0m     \u001b[1;32mdef\u001b[0m \u001b[0m_gotitem\u001b[0m\u001b[1;33m(\u001b[0m\u001b[0mself\u001b[0m\u001b[1;33m,\u001b[0m \u001b[0mkey\u001b[0m\u001b[1;33m,\u001b[0m \u001b[0mndim\u001b[0m\u001b[1;33m:\u001b[0m \u001b[0mint\u001b[0m\u001b[1;33m,\u001b[0m \u001b[0msubset\u001b[0m\u001b[1;33m=\u001b[0m\u001b[1;32mNone\u001b[0m\u001b[1;33m)\u001b[0m\u001b[1;33m:\u001b[0m\u001b[1;33m\u001b[0m\u001b[1;33m\u001b[0m\u001b[0m\n",
      "\u001b[1;32m~\\anaconda3\\lib\\site-packages\\pandas\\core\\base.py\u001b[0m in \u001b[0;36m__getitem__\u001b[1;34m(self, key)\u001b[0m\n\u001b[0;32m    227\u001b[0m             \u001b[1;32mif\u001b[0m \u001b[0mlen\u001b[0m\u001b[1;33m(\u001b[0m\u001b[0mself\u001b[0m\u001b[1;33m.\u001b[0m\u001b[0mobj\u001b[0m\u001b[1;33m.\u001b[0m\u001b[0mcolumns\u001b[0m\u001b[1;33m.\u001b[0m\u001b[0mintersection\u001b[0m\u001b[1;33m(\u001b[0m\u001b[0mkey\u001b[0m\u001b[1;33m)\u001b[0m\u001b[1;33m)\u001b[0m \u001b[1;33m!=\u001b[0m \u001b[0mlen\u001b[0m\u001b[1;33m(\u001b[0m\u001b[0mkey\u001b[0m\u001b[1;33m)\u001b[0m\u001b[1;33m:\u001b[0m\u001b[1;33m\u001b[0m\u001b[1;33m\u001b[0m\u001b[0m\n\u001b[0;32m    228\u001b[0m                 \u001b[0mbad_keys\u001b[0m \u001b[1;33m=\u001b[0m \u001b[0mlist\u001b[0m\u001b[1;33m(\u001b[0m\u001b[0mset\u001b[0m\u001b[1;33m(\u001b[0m\u001b[0mkey\u001b[0m\u001b[1;33m)\u001b[0m\u001b[1;33m.\u001b[0m\u001b[0mdifference\u001b[0m\u001b[1;33m(\u001b[0m\u001b[0mself\u001b[0m\u001b[1;33m.\u001b[0m\u001b[0mobj\u001b[0m\u001b[1;33m.\u001b[0m\u001b[0mcolumns\u001b[0m\u001b[1;33m)\u001b[0m\u001b[1;33m)\u001b[0m\u001b[1;33m\u001b[0m\u001b[1;33m\u001b[0m\u001b[0m\n\u001b[1;32m--> 229\u001b[1;33m                 \u001b[1;32mraise\u001b[0m \u001b[0mKeyError\u001b[0m\u001b[1;33m(\u001b[0m\u001b[1;34mf\"Columns not found: {str(bad_keys)[1:-1]}\"\u001b[0m\u001b[1;33m)\u001b[0m\u001b[1;33m\u001b[0m\u001b[1;33m\u001b[0m\u001b[0m\n\u001b[0m\u001b[0;32m    230\u001b[0m             \u001b[1;32mreturn\u001b[0m \u001b[0mself\u001b[0m\u001b[1;33m.\u001b[0m\u001b[0m_gotitem\u001b[0m\u001b[1;33m(\u001b[0m\u001b[0mlist\u001b[0m\u001b[1;33m(\u001b[0m\u001b[0mkey\u001b[0m\u001b[1;33m)\u001b[0m\u001b[1;33m,\u001b[0m \u001b[0mndim\u001b[0m\u001b[1;33m=\u001b[0m\u001b[1;36m2\u001b[0m\u001b[1;33m)\u001b[0m\u001b[1;33m\u001b[0m\u001b[1;33m\u001b[0m\u001b[0m\n\u001b[0;32m    231\u001b[0m \u001b[1;33m\u001b[0m\u001b[0m\n",
      "\u001b[1;31mKeyError\u001b[0m: \"Columns not found: 'discount_beta'\""
     ]
    }
   ],
   "source": [
    "#Keep only beta coefficients for state*year terms\n",
    "collapse_list = [o +'_beta', 'authority_code', 'year', 'fpsb_auction', 'municipality', 'fiscal_efficiency', 'missing', 'turin_co_sample', 'weights'] + year_list + auth_list\n",
    "collapse = df1.groupby(['auth_anno'])[collapse_list].mean()"
   ]
  },
  {
   "cell_type": "code",
   "execution_count": 196,
   "metadata": {},
   "outputs": [
    {
     "data": {
      "text/plain": [
       "(101, 32)"
      ]
     },
     "execution_count": 196,
     "metadata": {},
     "output_type": "execute_result"
    }
   ],
   "source": [
    "df2 = collapse\n",
    "df2 = df2.reset_index()\n",
    "df2.columns\n",
    "df2.shape"
   ]
  },
  {
   "cell_type": "code",
   "execution_count": 197,
   "metadata": {},
   "outputs": [
    {
     "data": {
      "text/plain": [
       "10"
      ]
     },
     "execution_count": 197,
     "metadata": {},
     "output_type": "execute_result"
    }
   ],
   "source": [
    "df2['discount_beta'].value_counts()\n",
    "len(df2[df2['discount_beta']>30].index)\n",
    "#discount_beta 값 틀림"
   ]
  },
  {
   "cell_type": "code",
   "execution_count": 198,
   "metadata": {},
   "outputs": [
    {
     "name": "stdout",
     "output_type": "stream",
     "text": [
      "=======================================================\n",
      "Dependent variable:\tdiscount_beta\n",
      "N:\t\t\t101\n",
      "R-squared:\t\t0.9791\n",
      "Estimation method:\tOLS\n",
      "VCE method:\t\tCluster\n",
      "  Cluster variable:\t  auth_anno\n",
      "  No. of clusters:\t  101\n",
      "=======================================================\n",
      "                    coeff    se      t   p>t  CI_low CI_high\n",
      "fpsb_auction       12.946 1.537  8.422 0.000   9.896  15.996\n",
      "municipality       10.937 2.269  4.821 0.000   6.436  15.438\n",
      "fiscal_efficiency  -6.868 5.316 -1.292 0.199 -17.414   3.679\n",
      "auth_dum_4.0       -0.413 2.417 -0.171 0.865  -5.208   4.382\n",
      "auth_dum_6.0        0.811 2.206  0.367 0.714  -3.565   5.187\n",
      "auth_dum_9.0       -2.301 2.352 -0.978 0.330  -6.968   2.365\n",
      "auth_dum_16.0      -7.112 2.433 -2.923 0.004 -11.939  -2.286\n",
      "auth_dum_20.0      -2.500 2.371 -1.054 0.294  -7.203   2.204\n",
      "auth_dum_25.0      -2.563 2.089 -1.227 0.223  -6.706   1.581\n",
      "auth_dum_30.0      -3.518 2.324 -1.514 0.133  -8.129   1.092\n",
      "auth_dum_1246.0    -0.176 1.281 -0.137 0.891  -2.718   2.366\n",
      "auth_dum_1708.0    -2.860 0.949 -3.015 0.003  -4.743  -0.978\n",
      "auth_dum_1739.0     1.836 1.067  1.721 0.088  -0.281   3.953\n",
      "auth_dum_1768.0     3.106 0.678  4.579 0.000   1.760   4.452\n",
      "auth_dum_1858.0    -0.054 0.725 -0.075 0.941  -1.492   1.384\n",
      "auth_dum_3090272.0  6.109 1.319  4.633 0.000   3.492   8.725\n",
      "year_dum_2001.0     2.022 1.201  1.683 0.095  -0.361   4.404\n",
      "year_dum_2002.0     0.239 1.115  0.214 0.831  -1.974   2.451\n",
      "year_dum_2003.0    -0.663 1.154 -0.574 0.567  -2.952   1.626\n",
      "year_dum_2004.0     1.336 1.070  1.249 0.214  -0.786   3.459\n",
      "year_dum_2005.0     3.616 1.212  2.984 0.004   1.212   6.020\n",
      "year_dum_2006.0     3.664 1.361  2.691 0.008   0.963   6.364\n",
      "_cons              18.428 5.205  3.541 0.001   8.102  28.754\n",
      "=======================================================\n",
      "\n"
     ]
    }
   ],
   "source": [
    "#Core conley-taber method\n",
    "exog_var = ['fpsb_auction', 'municipality', 'fiscal_efficiency']\n",
    "reg_col = []\n",
    "reg_col_new = []\n",
    "\n",
    "#reg_col.append(j)\n",
    "for i in auth_list:\n",
    "    reg_col.append(i)\n",
    "for j in year_list:\n",
    "    reg_col.append(j)\n",
    "\n",
    "for k in reg_col:\n",
    "    for j in df2.columns:\n",
    "        if k ==j:\n",
    "            reg_col_new.append(j)\n",
    "            \n",
    "exog = exog_var + reg_col_new\n",
    "\n",
    "\n",
    "X = df2.loc[:,exog]\n",
    "vif = calc_vif(X)\n",
    "\n",
    "#delete from col list\n",
    "for i in range(len(vif)):\n",
    "    if np.isnan(vif.loc[i, 'VIF']) == True:\n",
    "        reg_col.remove(vif.loc[i, 'variables'])\n",
    "\n",
    "exog = exog_var + reg_col_new\n",
    "\n",
    "exog.remove('year_dum_2000.0')\n",
    "exog.remove('auth_dum_3.0')\n",
    "exog.remove('auth_dum_1866.0')\n",
    "\n",
    "wls = mt.reg(df2, o+'_beta', exog , cluster = 'auth_anno',addcons = True, awt_name = 'weights')\n",
    "print(wls)\n",
    "#값 다름 beta가 다르니깐 당연한거임\n",
    "\n",
    "#predic res\n",
    "df2['eta'] = wls.resid\n",
    "df2['eta'] = df2['eta']+ df2['fpsb_auction']*wls.beta['fpsb_auction']"
   ]
  },
  {
   "cell_type": "code",
   "execution_count": 199,
   "metadata": {},
   "outputs": [],
   "source": [
    "#Create tilde\n",
    "df2 = df2.sort_values(by = 'year',ascending = True)\n",
    "df2_wls= df2[(df2['authority_code']==3090272) | (df2['authority_code']==3070001)]\n",
    "df2_wls = pd.DataFrame(df2_wls.groupby(['year'])['fpsb_auction'].mean())\n",
    "for i in range(len(df2)):\n",
    "    if df2.loc[i, 'authority_code']==3090272 or df2.loc[i, 'authority_code']==3070001:\n",
    "        for j in list(df2_wls.index):\n",
    "            if df2.loc[i, 'year'] == j:\n",
    "                df2.loc[i,'djtga'] = df2_wls.loc[j, 'fpsb_auction']\n",
    "\n",
    "df2_wls = pd.DataFrame(df2.groupby(['year'])['djtga'].sum())\n",
    "for i in range(len(df2)):\n",
    "    for j in list(df2_wls.index):\n",
    "        if df2.loc[i, 'year'] == j:\n",
    "            df2.loc[i,'djt'] = df2_wls.loc[j, 'djtga']\n",
    "\n",
    "df2 = df2.sort_values(by = 'authority_code', ascending = True)\n",
    "df2_wls = pd.DataFrame(df2.groupby(['authority_code'])['djt'].mean())\n",
    "for i in range(len(df2)):\n",
    "    for j in list(df2_wls.index):\n",
    "        if df2.loc[i, 'authority_code'] == j:\n",
    "            df2.loc[i,'meandjt'] = df2_wls.loc[j, 'djt']\n",
    "\n",
    "df2['dtil'] = df2['djt'] - df2['meandjt']\n",
    "#df2['meandjt'] = df2['djt'].mean()\n",
    "#df2['dtil'] = df2['djt'] - df2['meandjt']\n",
    "#df2['dtil'].value_counts() #0밖에 없다구요.."
   ]
  },
  {
   "cell_type": "code",
   "execution_count": 200,
   "metadata": {},
   "outputs": [
    {
     "data": {
      "text/plain": [
       " 0.428571    52\n",
       "-0.571429    39\n",
       " 0.333333     4\n",
       "-0.666667     2\n",
       "-0.500000     2\n",
       " 0.500000     2\n",
       "Name: dtil, dtype: int64"
      ]
     },
     "execution_count": 200,
     "metadata": {},
     "output_type": "execute_result"
    }
   ],
   "source": [
    "df2['dtil'].value_counts()"
   ]
  },
  {
   "cell_type": "code",
   "execution_count": 201,
   "metadata": {},
   "outputs": [
    {
     "name": "stdout",
     "output_type": "stream",
     "text": [
      "=======================================================\n",
      "Dependent variable:\teta\n",
      "N:\t\t\t7\n",
      "R-squared:\t\t0.8263\n",
      "Estimation method:\tOLS\n",
      "VCE method:\t\tStandard (Homosk.)\n",
      "=======================================================\n",
      "       coeff    se     t   p>t CI_low CI_high\n",
      "dtil  12.870 2.287 5.627 0.002  6.991  18.750\n",
      "_cons  7.090 1.170 6.062 0.002  4.084  10.097\n",
      "=======================================================\n",
      "\n"
     ]
    }
   ],
   "source": [
    "#obtain diff in diff coeff\n",
    "#renormalize weights\n",
    "df2.loc[(df2['authority_code']==3090272) | (df2['authority_code']==3070001),'tot_weights'] = df2['weights'].sum()\n",
    "df2['new_weights'] = df2['weights']/df2['tot_weights']\n",
    "df2_wls = df2[(df2['authority_code']==3090272) | (df2['authority_code']==3070001)]\n",
    "wls_2 = mt.reg(df2_wls, 'eta' , 'dtil' , awt_name = 'new_weights', addcons = True,check_colinear = True)\n",
    "print(wls_2)\n",
    "#얼추맞음\n",
    "alpha = [wls_2.beta['dtil']] \n",
    "df2 = df2.drop(['tot_weights','new_weights'],axis = 1)"
   ]
  },
  {
   "cell_type": "code",
   "execution_count": 202,
   "metadata": {},
   "outputs": [
    {
     "data": {
      "text/plain": [
       "[12.87025753549585]"
      ]
     },
     "execution_count": 202,
     "metadata": {},
     "output_type": "execute_result"
    }
   ],
   "source": [
    "alpha"
   ]
  },
  {
   "cell_type": "code",
   "execution_count": 203,
   "metadata": {},
   "outputs": [
    {
     "name": "stdout",
     "output_type": "stream",
     "text": [
      "=======================================================\n",
      "Dependent variable:\tdiscount_beta\n",
      "N:\t\t\t101\n",
      "R-squared:\t\t0.9791\n",
      "Estimation method:\tOLS\n",
      "VCE method:\t\tCluster\n",
      "  Cluster variable:\t  authority_code\n",
      "  No. of clusters:\t  15\n",
      "=======================================================\n",
      "                    coeff    se       t   p>t  CI_low CI_high\n",
      "year_dum_2001.0     2.022 1.583   1.277 0.222  -1.374   5.417\n",
      "year_dum_2002.0     0.239 1.543   0.155 0.879  -3.071   3.549\n",
      "year_dum_2003.0    -0.663 1.465  -0.452 0.658  -3.805   2.479\n",
      "year_dum_2004.0     1.336 1.415   0.945 0.361  -1.698   4.371\n",
      "year_dum_2005.0     3.616 1.391   2.600 0.021   0.633   6.600\n",
      "year_dum_2006.0     3.664 1.838   1.993 0.066  -0.279   7.606\n",
      "auth_dum_4.0       -0.413 0.361  -1.144 0.272  -1.187   0.361\n",
      "auth_dum_6.0        0.811 0.463   1.751 0.102  -0.182   1.803\n",
      "auth_dum_9.0       -2.301 0.716  -3.216 0.006  -3.836  -0.766\n",
      "auth_dum_16.0      -7.112 0.709 -10.031 0.000  -8.633  -5.592\n",
      "auth_dum_20.0      -2.500 0.216 -11.596 0.000  -2.962  -2.037\n",
      "auth_dum_25.0      -2.563 0.283  -9.059 0.000  -3.169  -1.956\n",
      "auth_dum_30.0      -3.518 0.172 -20.417 0.000  -3.888  -3.149\n",
      "auth_dum_1246.0     2.685 0.415   6.472 0.000   1.795   3.574\n",
      "auth_dum_1739.0     4.697 0.533   8.814 0.000   3.554   5.840\n",
      "auth_dum_1768.0     5.967 0.164  36.385 0.000   5.615   6.319\n",
      "auth_dum_1858.0     2.806 0.207  13.556 0.000   2.362   3.250\n",
      "auth_dum_1866.0     2.860 0.252  11.354 0.000   2.320   3.401\n",
      "auth_dum_3090272.0  8.969 0.543  16.517 0.000   7.804  10.134\n",
      "fpsb_auction       12.946 0.906  14.289 0.000  11.003  14.889\n",
      "municipality        8.077 1.002   8.060 0.000   5.927  10.226\n",
      "fiscal_efficiency  -6.868 5.132  -1.338 0.202 -17.874   4.139\n",
      "_cons              18.428 4.924   3.743 0.002   7.867  28.989\n",
      "=======================================================\n",
      "\n"
     ]
    }
   ],
   "source": [
    "#simulataneous for each public\n",
    "asim = []\n",
    "'''auth_wls_3 = []\n",
    "for auth in all_authorities:\n",
    "    for i in range(len(df2)):\n",
    "        if df2.loc[i, 'authority_code'] == auth:\n",
    "            auth_wls_3.append(auth)'''\n",
    "            \n",
    "for auth in all_authorities:\n",
    "    if auth !=3090272 and auth !=3070001:\n",
    "        df2.loc[df2['authority_code']==auth, 'tot_weights'] = df2['weights'].sum()\n",
    "        df2['new_weights'] = df2['weights']/df2['tot_weights']\n",
    "        df2_wls_3 = df2[df2['authority_code']==auth]\n",
    "        wls_3 = mt.reg(df2_wls_3, 'eta' , 'dtil' , awt_name = 'new_weights')\n",
    "        asim.append(wls_3.beta['dtil'])\n",
    "        df2 = df2.drop(['tot_weights','new_weights'],axis = 1)\n",
    "\n",
    "#asim 이랑 alpha 길이 맞춰주기\n",
    "for i in range(len(asim)-1):\n",
    "    alpha.append(alpha[0])\n",
    "\n",
    "asim_tmp = []\n",
    "for i in range(min(len(alpha),len(asim))):\n",
    "    asim_tmp.append(alpha[i] - asim[i])\n",
    "\n",
    "asim = asim_tmp\n",
    "df2['ci'] = np.nan\n",
    "df2['asim'] = np.nan\n",
    "for i in range(len(asim)):\n",
    "    df2.loc[i, 'ci'] = asim[i]\n",
    "    df2.loc[i, 'asim'] = asim[i]\n",
    "\n",
    "#form confidence level\n",
    "numst=len(asim)+1\n",
    "i025=math.floor(0.025*(numst-1))\n",
    "i025=max([i025,1])\n",
    "i975=math.ceil(0.975*(numst-1))\n",
    "i05=math.floor(0.050*(numst-1))\n",
    "i05=max([i05,i025+1])\n",
    "i95=math.ceil(0.950*(numst-1))\n",
    "i95=min([i95,numst-2])\n",
    "\n",
    "stima_ta = alpha[0]\n",
    "df2.sort_values(by = 'asim',ascending = True)\n",
    "ci_ta025 = min([df2.loc[i025,'ci'], df2.loc[i975, 'ci'] ])\n",
    "ci_ta975 = max([df2.loc[i025,'ci'], df2.loc[i975, 'ci'] ])\n",
    "\n",
    "#wls_4 setting\n",
    "reg_col = []\n",
    "for i in year_list:\n",
    "    reg_col.append(i)\n",
    "for j in auth_list:\n",
    "    reg_col.append(j)\n",
    "exog_var = ['fpsb_auction','municipality','fiscal_efficiency']\n",
    "exog = reg_col+exog_var\n",
    "\n",
    "exog.remove('year_dum_2000.0')\n",
    "exog.remove('auth_dum_3.0')\n",
    "exog.remove('auth_dum_1708.0')\n",
    "\n",
    "wls_4 = mt.reg(df2, o+'_beta', exog, awt_name = 'weights', cluster = 'authority_code', addcons = True)\n",
    "print(wls_4)\n",
    "#얼추나옴\n",
    "#end of first specification"
   ]
  },
  {
   "cell_type": "code",
   "execution_count": 185,
   "metadata": {},
   "outputs": [
    {
     "data": {
      "text/plain": [
       "27"
      ]
     },
     "execution_count": 185,
     "metadata": {},
     "output_type": "execute_result"
    }
   ],
   "source": [
    "len(alpha)"
   ]
  },
  {
   "cell_type": "code",
   "execution_count": 204,
   "metadata": {},
   "outputs": [
    {
     "data": {
      "text/plain": [
       "10.105632776778588"
      ]
     },
     "execution_count": 204,
     "metadata": {},
     "output_type": "execute_result"
    }
   ],
   "source": [
    "ci_ta025"
   ]
  },
  {
   "cell_type": "code",
   "execution_count": 205,
   "metadata": {},
   "outputs": [
    {
     "data": {
      "text/plain": [
       "10.105632776778588"
      ]
     },
     "execution_count": 205,
     "metadata": {},
     "output_type": "execute_result"
    }
   ],
   "source": [
    "ci_ta975"
   ]
  },
  {
   "cell_type": "code",
   "execution_count": null,
   "metadata": {},
   "outputs": [],
   "source": []
  }
 ],
 "metadata": {
  "kernelspec": {
   "display_name": "Python 3",
   "language": "python",
   "name": "python3"
  },
  "language_info": {
   "codemirror_mode": {
    "name": "ipython",
    "version": 3
   },
   "file_extension": ".py",
   "mimetype": "text/x-python",
   "name": "python",
   "nbconvert_exporter": "python",
   "pygments_lexer": "ipython3",
   "version": "3.7.6"
  }
 },
 "nbformat": 4,
 "nbformat_minor": 4
}
